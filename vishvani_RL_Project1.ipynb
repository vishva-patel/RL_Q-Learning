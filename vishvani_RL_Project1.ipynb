{
  "nbformat": 4,
  "nbformat_minor": 0,
  "metadata": {
    "colab": {
      "name": "vishvani_RL_Project1.ipynb",
      "provenance": [],
      "collapsed_sections": []
    },
    "kernelspec": {
      "name": "python3",
      "display_name": "Python 3"
    },
    "accelerator": "GPU"
  },
  "cells": [
    {
      "cell_type": "markdown",
      "metadata": {
        "id": "SQ1O3XfbvrJu",
        "colab_type": "text"
      },
      "source": [
        "### **CSE - 510 - Introduction to Reinforcement Learning (Fall 2019)**\n",
        "\n",
        "---\n",
        "\n",
        "**Instructor - Alina Vereshchaka**"
      ]
    },
    {
      "cell_type": "markdown",
      "metadata": {
        "id": "gb-v7wq-wpiH",
        "colab_type": "text"
      },
      "source": [
        "# Project 1 - Building Reinforcement Learning Environment"
      ]
    },
    {
      "cell_type": "markdown",
      "metadata": {
        "colab_type": "text",
        "id": "2hLRjTLHx7dD"
      },
      "source": [
        "### **Author - Vishva Nitin Patel**\n",
        "\n",
        "---\n",
        "Department - Computer Science and Engineering\n",
        "\n",
        "UB Person Number - 50318625"
      ]
    },
    {
      "cell_type": "markdown",
      "metadata": {
        "id": "FtcbPophyEU_",
        "colab_type": "text"
      },
      "source": [
        "## ABSTRACT:\n",
        "\n",
        "The aim of this project is to understand, explore and get an experience of building reinforcement learning environments, following the OpenAI Gym standards.\n",
        "\n",
        "The project consists of building deterministic and stochastic\n",
        "environments that are based on Markov decision process, and applying tabular method to solve them.\n",
        "\n",
        "I have used the Q-Learning algorithm to help train our agent to avoid obstacles within the environment, and simultaneously maximize the rewards the agent gets to reach the goal."
      ]
    },
    {
      "cell_type": "markdown",
      "metadata": {
        "id": "j9-Txzu-y0Jz",
        "colab_type": "text"
      },
      "source": [
        "## Building a deterministic environment and using Q - Learning to solve it:\n",
        "\n",
        "Defining a Deterministic Environment, that has more than one state and more than one action.\n",
        "\n",
        "### The Problem Statement:\n",
        "\n",
        "For this project, I have chosen to work on the 'The Frozen lake problem'. It is a well known reinforcement learning problem which makes use of the grid-world implementation.\n",
        "\n",
        "An agent located in one position (top left corner in this case) aims to reach the goal (rightmost bottom corner of the grid).Essentially to the other side of the lake. But the lake environment (Grid-world), is filled with obstacles in the form of grids of freezing cold water.\n",
        "The game ends when the agent reaches the goal or falls into one of the holes of freezing water and dies.\n",
        "\n",
        "In the original version of this game, a reward of 1 was granted if the agent reached the goal, -1 if agent falls to a hole and dies, and there were no rewards associated with the movement of the agent towards its goal. Further details about the 'Frozen Lake problem' can be found at: https://gym.openai.com/envs/FrozenLake-v0/\n",
        "\n",
        "In this project, in order to incentivize the agent for making a 'good decision' of moving towards the goal (by moving in the correct direction - left / right / up / down), I have introduced rewards at each step:\n",
        "\n",
        "• 150 for reaching the goal\n",
        "\n",
        "• -150 if the agent falls into a hole and the episode terminates\n",
        "\n",
        "• -1 if the agent stays at the same place or it moves away from the goal\n",
        "\n",
        "• +5, if the agent moves towards the goal\n",
        "\n",
        "To emulate the 'Stochastic' environment, the ice may sometime be slippery and hence, the agent might skid to some direction other than his intended direction.\n",
        "\n",
        "### Using Reinforcement Learning to solve this problem:\n",
        "\n",
        "Reinforcement Learning is a branch of Machine Learning that deals with methods of mapping the situations/states to actions — in order to maximize a numerical reward signal.\n",
        "\n",
        "The agent is not told which actions to take, but instead he must discover which actions lead to the most reward by actually trying those actions.\n",
        "\n",
        "The idea behind Reinforcement Learning is that an agent will learn from the environment by interacting with it and receiving rewards for performing actions.\n",
        "\n",
        "• Agent receives state 'S' from the Environment (In this case the State within the Frozen Lake Environment)\n",
        "\n",
        "• Based on that state, the agent takes an action 'A' (In this case, move left / right / up / down)\n",
        "\n",
        "• Environment transitions to a new state 'S+1' (new frame)\n",
        "\n",
        "• Environment gives some reward 'R' to the agent. (In this case +150,+5,-1,-150 depending on the action taken)\n",
        "\n",
        "• This RL loop results into a sequence of state, action and reward sets.\n",
        "\n",
        "• The goal of the agent is to maximize the expected 'cumulative reward'.\n",
        "\n",
        "### Markov Decision Process:\n",
        "Markov Decision Process is an approach that is only concerned with the next State 'S+1' and the decision of reaching the next state is solely based on the current State at the current time.\n",
        "\n",
        "### Q learning Algorithm:\n",
        "Q-learning is a model-free reinforcement learning algorithm. The goal of this algorithm is to learn a policy which tells the agent what action to take under what circumstances.\n",
        "\n",
        "It does not require a model of the environment, hence called \"model-free\". It can handle problems with stochastic transitions and rewards, without requiring adaptations.\n",
        "\n",
        "This process is done to maximize reward for each step or episode to find the optimal solution and it runs until the episode ends after which it may start again or replay the steps taken for the next episode. Here 𝛾 is the Discounting factor which lies in the range [0,1]\n",
        "\n",
        "When we try to train our agent using Q learning, the Q learning algorithm makes use of the Q table to tabulate the rewards at each step, which in turn helps the agent choose between exploration (fining next steps) and exploitation (using the knowledge gained so far to take the best possible actions). \n",
        "\n",
        "The function 'Q(state, action) returns the expected future reward of that action at that state. This function can be computed using Q-Learning, which iteratively updates Q(S,A) using the Bellman equation.\n",
        "\n",
        "\n",
        "Initially we explore the environment and update the Q-Table. When the Q-Table is ready, the agent will start to exploit the environment and start taking better actions.\n",
        "\n",
        "We shall make use of the Q - Learning algorithm to solve this problem."
      ]
    },
    {
      "cell_type": "markdown",
      "metadata": {
        "id": "nQOti6gB5MSS",
        "colab_type": "text"
      },
      "source": [
        "### Implementation:"
      ]
    },
    {
      "cell_type": "code",
      "metadata": {
        "colab_type": "code",
        "id": "4Ru9FlV0x7c0",
        "colab": {}
      },
      "source": [
        "#Importing all Libraries required\n",
        "import numpy as np\n",
        "import pandas as pd\n",
        "import matplotlib.pyplot as plt\n",
        "import gym #Open source interface to reinforcement learning tasks, it pprovides the environment, we write the algorithm...\n",
        "from gym import spaces #we willwork with action_space and Observaion_space\n",
        "import time\n",
        "import random\n",
        "from google.colab import widgets\n",
        "from matplotlib import colors"
      ],
      "execution_count": 0,
      "outputs": []
    },
    {
      "cell_type": "code",
      "metadata": {
        "id": "tejFrdGrCwgm",
        "colab_type": "code",
        "outputId": "32ed00b3-ef92-4112-a398-bab052114a9f",
        "colab": {
          "base_uri": "https://localhost:8080/",
          "height": 24
        }
      },
      "source": [
        "print_grid = widgets.Grid(2, 2) #Initializing & testing the grid"
      ],
      "execution_count": 0,
      "outputs": [
        {
          "output_type": "display_data",
          "data": {
            "text/html": [
              "<style>\n",
              "       table#id476, #id476 > tbody > tr > th, #id476 > tbody > tr > td {\n",
              "         border: 1px solid lightgray;\n",
              "         border-collapse:collapse;\n",
              "         \n",
              "        }</style>"
            ],
            "text/plain": [
              "<IPython.core.display.HTML object>"
            ]
          },
          "metadata": {
            "tags": [
              "outputarea_id476"
            ]
          }
        },
        {
          "output_type": "display_data",
          "data": {
            "text/html": [
              "<table id=id476><tr><td id=id476-0-0></td><td id=id476-0-1></td></tr><tr><td id=id476-1-0></td><td id=id476-1-1></td></tr></table>"
            ],
            "text/plain": [
              "<IPython.core.display.HTML object>"
            ]
          },
          "metadata": {
            "tags": [
              "outputarea_id476"
            ]
          }
        }
      ]
    },
    {
      "cell_type": "markdown",
      "metadata": {
        "id": "IIEma2KBDJHP",
        "colab_type": "text"
      },
      "source": [
        "### Creating the RL environment\n",
        "\n",
        "The environment I am trying to build is a 4*4 grid world with the following attributes:\n",
        "\n",
        "• It’s a deterministic / stochastic environment as per the parameters passed.\n",
        "\n",
        "• The agent is positioned at (0,0)\n",
        "\n",
        "• The holes/obstacles are positioned at (1,1), (1,3) and (2,3)\n",
        "\n",
        "• The goal is positioned at (3,3)\n",
        "\n",
        "\n",
        "    Markov Decision Process is defined by a 4-tuple which contains:\n",
        "\n",
        "    The State Set (S)\n",
        "    The Action Set (A)\n",
        "    Probability Function (P)\n",
        "    Rewards (R)\n",
        "\n",
        "  \n",
        "The environment is constructed by the class Environment and defined containing a few functions:\n",
        "\n",
        "    initialisation - initialises the environment parameters - namely observation space and action space.\n",
        "    Observation space is the number of observable states that our environment provides. Action space defines the number of actiosn that can be taken on the enviornment - namely up, down, left, right movements.\n",
        "\n",
        "    reset - Resets the environment and returns a random initial state if the random_start is set while initializing the environment\n",
        "\n",
        "    steps - function that defines the essence of the environment. It contains the decision making unit of the environment. A step function takes in an 'action' and decides what to do next or where to go.\n",
        "\n",
        "  \n",
        "    Steps returns the following four values:\n",
        "\n",
        "    observation (object): an environment-specific object representing your observation of the environment.\n",
        "\n",
        "    reward (float): amount of reward achieved by the previous action.\n",
        "\n",
        "    done (boolean): whether it’s time to reset the environment again.\n",
        "\n",
        "    info (dict): diagnostic information useful for debugging.\n",
        "    \n",
        "In step function based on the action received, we get the possible next positions from the transition table we created while initializing the environment.\n",
        "\n",
        "If our environment is deterministic, we only get one possible next state from the transition table with associated probability of 1.0 but if our environment is stochastic we receive multiple states that the agent can go to due to slipperiness with associated probabilities of going to each state (Right and Down have been given higher probability).\n",
        "\n",
        "We then iterate over these possible states and pick one state randomly. The state which has the higher probability has more chance of getting selected and hence it is more probable that the agent will move in that direction.\n",
        "\n",
        "    Based on the this next state we calculate the rewards associated with moving to this next state or position based on the values defined above\n",
        "\n",
        "    render - Renders one frame of the environment\n",
        "\n",
        "    get_current_state - returns the current position of the agent.\n",
        "\n",
        "    get_state - returns state of the requested agent\n",
        "\n",
        "    is_over - function to check if episode is over - whether agent ahs reached goal or fallen into a hole.\n",
        "\n",
        "    increment - takes an action and naviagtes to the next state. Returns new state position. (0-down, 1-up, 2-right, 3-left)\n",
        "\n",
        "    create_transition_table - creates a probability transition matrix 4 x 16 grids in count to store probabilities associated with each movement.\n",
        "\n",
        "There are two types of actions that are taken to determine the next states based on whether the environment is deterministic or stochastic.\n",
        "\n",
        "If the environment is deterministic then for each action there is only one possible next state which has a probability of 1.0 associated with it.If the environment is stochastic, then for each possible action encountered it is possible that the agent can move in other directions as well if the ice is slippery. Hence, in our case we assigned probability of 0.7 to the movements RIGHT and DOWN since they move the agent closer to the goal, and probabilty 0.2 to other directions since moving in those directions takes the agent further from the goal. For every state and action, we store all the possible next states if the agent might have gone in a different direction."
      ]
    },
    {
      "cell_type": "code",
      "metadata": {
        "id": "JGbIy2TlC1eR",
        "colab_type": "code",
        "colab": {}
      },
      "source": [
        "class Environment(gym.Env):\n",
        "    metadata = { 'render.modes': [] }\n",
        "    \n",
        "    def __init__(self,deterministic=True,maxsteps=16,random_start=False):   #Init function - deterministic environment and fixed starting point\n",
        "        self.max_timesteps = maxsteps\n",
        "        self.deterministic = deterministic\n",
        "        self.random_start = random_start\n",
        "        self.observation_space = spaces.Discrete(16) \n",
        "        self.action_space = spaces.Discrete(4)\n",
        "        self.reset()\n",
        "        self.p_table = self.create_transition_table() \n",
        "        \n",
        "            \n",
        "    def reset(self):               #Reset function\n",
        "        self.time_step = 0\n",
        "        self.state = np.zeros((4,4)) \n",
        "        self.goal_pos = [3, 3]     #Assigning fixed positions for goal and holes\n",
        "        self.hole1 = [1, 1]\n",
        "        self.hole2 = [1, 3]\n",
        "        self.hole3 = [2, 3]\n",
        "        self.done = False\n",
        "        \n",
        "        self.state[tuple(self.goal_pos)] = 0.5      #assigning values in the grid for visual representation\n",
        "        self.state[tuple(self.hole1)] = 0.2\n",
        "        self.state[tuple(self.hole2)] = 0.2\n",
        "        self.state[tuple(self.hole3)] = 0.2\n",
        "        \n",
        "        agent_pos = [0, 0] \n",
        "        \n",
        "        if self.random_start == False:\n",
        "          agent_pos = [0, 0]   # Assigning agent position at top left corner, in case of a deterministic environment\n",
        "        else:\n",
        "          while True:          # Assigning agent position at any random position inside the grid, in case of a stochastic environment\n",
        "            x = np.random.randint(0, 3)\n",
        "            y = np.random.randint(0, 3)\n",
        "            pos = [x, y]\n",
        "            if np.array_equal(pos,self.hole1) or np.array_equal(pos,self.hole2) or np.array_equal(pos,self.hole3):\n",
        "              continue\n",
        "            else:\n",
        "              agent_pos = [x, y]\n",
        "              break    \n",
        "         \n",
        "        self.agent_pos = agent_pos\n",
        "        self.state[tuple(self.agent_pos)] = 1\n",
        "        observation = np.argmax(self.state.flatten())\n",
        "        return observation\n",
        "             \n",
        "    def steps(self, action):  #Steps Function\n",
        "        assert self.action_space.contains(action) #assert checks that the action_space is not empty\n",
        "        self.state[tuple(self.agent_pos)] = 0.0 #fixing starting point          \n",
        "        startPos = self.agent_pos\n",
        "        current_state = self.get_current_state(self.agent_pos)\n",
        "        possible_states = self.p_table[current_state][action]\n",
        "        prob = np.array([x[0] for x in possible_states])\n",
        "        prob = prob/sum(prob)\n",
        "        next_state_index = np.random.choice(len(prob), p=prob) \n",
        "        self.agent_pos = possible_states[next_state_index][1]  \n",
        "        \n",
        "        prev_distance = np.square(self.goal_pos[1]-startPos[1])+np.square(self.goal_pos[0]-startPos[0])\n",
        "        new_distance = np.square(self.goal_pos[1]-self.agent_pos[1])+np.square(self.goal_pos[0]-self.agent_pos[0])\n",
        "        \n",
        "        #Setting up rewards\n",
        "        reward = -1            # if the agent is stuck  or is moving away from the goal, reward deducted by 1\n",
        "        done = False\n",
        "        if np.array_equal(self.agent_pos,self.goal_pos):\n",
        "          reward = 150         # if agent reaches the goal_pos, reward +150 and end episode\n",
        "          done = True\n",
        "        elif np.array_equal(self.agent_pos,self.hole1) or np.array_equal(self.agent_pos,self.hole2) or np.array_equal(self.agent_pos,self.hole3) :\n",
        "          reward = -150       # if agent dies by getting into the hole, reward deducted by 150, and end episode\n",
        "          done = True \n",
        "        elif new_distance<prev_distance:       # if agent moves closer to goal reward +5\n",
        "          reward = 5        \n",
        "        \n",
        "        self.state[tuple(self.agent_pos)] = 1  \n",
        "        \n",
        "        self.time_step += 1        \n",
        "        if self.time_step >= self.max_timesteps or done:\n",
        "          self.done = True\n",
        "        else:\n",
        "          self.done = False\n",
        "        \n",
        "        info = possible_states\n",
        "        \n",
        "        observation = np.argmax(self.state.flatten())    \n",
        "        return observation, reward, self.done, info\n",
        "        \n",
        "    def render(self):                                         #Render Function\n",
        "        plt.imshow(self.state)\n",
        "        \n",
        "    def get_current_state(self,currPos):                      #get_current_state function returns position\n",
        "        return currPos[0]*self.state.shape[1] + currPos[1]\n",
        "      \n",
        "    def get_state(self):                                      #Returns environment state\n",
        "      return self.state\n",
        "\n",
        "    def is_over(self,pos):                                    # is_over determines if agent has reached the goal / hole \n",
        "      if np.array_equal(pos,self.goal_pos) or np.array_equal(pos,self.hole1) or np.array_equal(pos,self.hole2) or np.array_equal(pos,self.hole3):\n",
        "        return True\n",
        "      \n",
        "    def increment(self,action,pos):                           # increment function to return future pos of next state\n",
        "      fpos = pos \n",
        "      if action == 0 and pos[0] < 3:      \n",
        "           fpos[0] += 1                     # 0- down movement; agent position is incremented by 1 in the downward direction\n",
        "      if action == 1 and pos[0] > 0:\n",
        "         fpos[0] -= 1                       # 1- up movement; agent position is decremented by 1 in the upward direction\n",
        "      if action == 2 and pos[1] < 3:\n",
        "         fpos[1] += 1                       # 2- right movement; agent position is incremented by 1 in the right direction\n",
        "      if action == 3 and pos[1] > 0:\n",
        "         fpos[1] -= 1                       # 3- left movement; agent position is decremented by 1 in the left direction\n",
        "      return  fpos\n",
        "      \n",
        "    def create_transition_table(self):      #Probability Transition matrix containing the probabilities associated with each step                                       \n",
        "      p_table = {s : {a : [] for a in range(4)} for s in range(16)}\n",
        "      for i in range(4):\n",
        "          for j in range(4):\n",
        "              st = self.get_current_state([i,j])\n",
        "              for action in range(4):\n",
        "                  temp = p_table[st][action]\n",
        "                  if self.is_over([i,j]):              # checks if agent is at hole/goal position\n",
        "                      temp.append((1.0, [i,j]))\n",
        "                  else:\n",
        "                      if self.deterministic:           # if the environment is deterministic        \n",
        "                          fpos = self.increment(action,[i,j])\n",
        "                          temp.append((1.0, fpos))\n",
        "                      else:                 # if environment is stochastic\n",
        "                          p = 1\n",
        "                          for A in [(action-1)%4, action, (action+1)%4]: #for A in [0,1,2,3]:\n",
        "                              fpos = self.increment(A,[i,j])\n",
        "                              if A == 2 or A == 0:        # for down and right movements, probability = 0.7\n",
        "                                temp.append((0.7, fpos))\n",
        "                              else:\n",
        "                                temp.append((0.2, fpos))  # for up and left movements, probability = 0.2 \n",
        "      return p_table"
      ],
      "execution_count": 0,
      "outputs": []
    },
    {
      "cell_type": "code",
      "metadata": {
        "id": "-4W1d1PCE0ZD",
        "colab_type": "code",
        "outputId": "2e66ea3d-ea73-4cd9-8eaf-d66bc31f8687",
        "colab": {
          "base_uri": "https://localhost:8080/",
          "height": 269
        }
      },
      "source": [
        "# Testing to see if the environment looks and behaves as expected\n",
        "\n",
        "env = Environment(deterministic=True) # We want our environment to be deterministic\n",
        "obs = env.reset() # We have to reset the environment to its initial state before starting a new episode\n",
        "env.render() # rendering the environment"
      ],
      "execution_count": 0,
      "outputs": [
        {
          "output_type": "display_data",
          "data": {
            "image/png": "[encoded data removed]",
            "text/plain": [
              "<Figure size 432x288 with 1 Axes>"
            ]
          },
          "metadata": {
            "tags": []
          }
        }
      ]
    },
    {
      "cell_type": "markdown",
      "metadata": {
        "id": "FJo8ZksWE-M4",
        "colab_type": "text"
      },
      "source": [
        "### Now implementing the Determinisic Environment..."
      ]
    },
    {
      "cell_type": "code",
      "metadata": {
        "id": "5PoDFSCrE3ng",
        "colab_type": "code",
        "outputId": "6ee76c95-3578-452d-a732-9e81c88afac3",
        "colab": {
          "base_uri": "https://localhost:8080/",
          "height": 286
        }
      },
      "source": [
        "#Testing to see if our agent can move down as instructed\n",
        "action = 0\n",
        "observation, reward, done, info = env.steps(action) # Calling the steps function with action=0 (down movement)\n",
        "env.render()\n",
        "print('Reward:', reward) # Rewarding the agent 5 points for moving closer to goal\n",
        "\n"
      ],
      "execution_count": 0,
      "outputs": [
        {
          "output_type": "stream",
          "text": [
            "Reward: 5\n"
          ],
          "name": "stdout"
        },
        {
          "output_type": "display_data",
          "data": {
            "image/png": "[encoded data removed]",
            "text/plain": [
              "<Figure size 432x288 with 1 Axes>"
            ]
          },
          "metadata": {
            "tags": []
          }
        }
      ]
    },
    {
      "cell_type": "markdown",
      "metadata": {
        "id": "zvZZ7XqLFYy4",
        "colab_type": "text"
      },
      "source": [
        "### Now creating & training the Q-Learning agent...\n",
        "\n",
        "\n",
        "\n",
        "Q-learning depends on the concepts of exploitation and exploration. \n",
        "\n",
        "Exploitation makes the best decision given the current information while exploration deals with gathering more information. The best long–term strategy may sometimes require short–term sacrifices. Here  the overall goal of the agent would be to put togather enough information to make the best overall decision(s).\n",
        "\n",
        "The reward calculation at each step is recorded by tabulating it and is referred for calculation of the next step. With the help of the Q table which is a lookup table, the maximum expected future rewards are calculated for action at each state.\n",
        "\n",
        "In the Q-Table, the columns are the actions and the rows are the states. The values in the Q table are calculated by the Q- Learning algorithm.\n",
        "\n",
        "The RL model used here is based on the epsilon-decreasing strategy. This strategy explores the probability epsilon, and exploits the probability 1 — epsilon. The Epsilon decreases over time.\n"
      ]
    },
    {
      "cell_type": "code",
      "metadata": {
        "id": "6TZ-pLFwFUTS",
        "colab_type": "code",
        "colab": {}
      },
      "source": [
        "class Q_learning_agent:\n",
        "  def __init__(self, env, learning_rate, gamma):\n",
        "    self.env = env\n",
        "    self.observation_space = env.observation_space\n",
        "    self.action_space = env.action_space\n",
        "    self.learning_rate = learning_rate\n",
        "    self.gamma = gamma\n",
        "    self.q_table = np.zeros((self.observation_space.n, self.action_space.n))   #defining Q_table\n",
        "  \n",
        "  def steps(self, state, tradeoff, epsilon):\n",
        "    # Exploiting biggest Q Value for this state\n",
        "    if tradeoff > epsilon:\n",
        "      action = np.argmax(self.q_table[state,:])\n",
        "    # Else Exploration\n",
        "    else:\n",
        "      action = self.action_space.sample()\n",
        "    return action\n",
        "  \n",
        "  def update(self, state, action, new_state, reward):\n",
        "    self.q_table[state, action] = self.q_table[state, action] + ( self.learning_rate * (reward + self.gamma * np.max(self.q_table[new_state, :]) - self.q_table[state, action]) )\n",
        "    \n",
        "  def get_Q_table(self):\n",
        "    return self.q_table"
      ],
      "execution_count": 0,
      "outputs": []
    },
    {
      "cell_type": "code",
      "metadata": {
        "id": "8FHMwj29HwcJ",
        "colab_type": "code",
        "colab": {}
      },
      "source": [
        "#Defining the exploration parameters\n",
        "q_agent = Q_learning_agent(env, learning_rate=0.95, gamma=0.96)\n",
        "total_episodes = 5000 # training for 5000 episodes\n",
        "\n",
        "#Exploration parameters\n",
        "epsilon = 1.0                 # Exploration rate\n",
        "max_epsilon = 1.0             # Exploration probability at start\n",
        "min_epsilon = 0.01            # Minimum exploration probability \n",
        "decay_rate = 0.005            # Exponential decay rate for exploration prob"
      ],
      "execution_count": 0,
      "outputs": []
    },
    {
      "cell_type": "code",
      "metadata": {
        "id": "D3ofxvxUH2U7",
        "colab_type": "code",
        "outputId": "074b1209-5df2-46cd-cec5-6f3784a0494a",
        "colab": {
          "base_uri": "https://localhost:8080/",
          "height": 34
        }
      },
      "source": [
        "q_agent.q_table.shape   # dimensions of the q_table"
      ],
      "execution_count": 0,
      "outputs": [
        {
          "output_type": "execute_result",
          "data": {
            "text/plain": [
              "(16, 4)"
            ]
          },
          "metadata": {
            "tags": []
          },
          "execution_count": 175
        }
      ]
    },
    {
      "cell_type": "code",
      "metadata": {
        "id": "TW2FwHbrIOxC",
        "colab_type": "code",
        "outputId": "107b6ab4-7430-4fbe-d0bb-7fa93ac814c8",
        "colab": {
          "base_uri": "https://localhost:8080/",
          "height": 1000
        }
      },
      "source": [
        "\"\"\"\n",
        "I have used collab widget to print grids for every 500 episode. For every episode that does not meet it's goal, epsilon are recalibrated.\n",
        "The output shows that the agent has successfully found the way to the goal from episode 500 onwards.\n",
        "\"\"\"\n",
        "print(\"Starting state\")\n",
        "rewards = []\n",
        "epsilons = []\n",
        "state = env.reset()\n",
        "print_grid = widgets.Grid(1, 1)\n",
        "with print_grid.output_to(0, 0):\n",
        "  print_grid.clear_cell()\n",
        "  env.render()\n",
        "time.sleep(0.25)\n",
        "\n",
        "for episode in range(total_episodes):\n",
        "  state = env.reset()\n",
        "  total_rewards = 0\n",
        "  done = False\n",
        "  \n",
        "  if episode % 500 == 0:\n",
        "    print ('Episode Num:', episode+1)  \n",
        "    \n",
        "  while not done:\n",
        "    tradeoff = random.uniform(0, 1)\n",
        "    action = q_agent.steps(state, tradeoff, epsilon)\n",
        "    new_state, reward, done, info = q_agent.env.steps(action)\n",
        "    q_agent.update(state, action, new_state, reward)    \n",
        "    total_rewards += reward   \n",
        "    state = new_state\n",
        "    \n",
        "  if episode % 500 == 0:\n",
        "    print_grid = widgets.Grid(1, 1)\n",
        "    with print_grid.output_to(0, 0):\n",
        "      print_grid.clear_cell()\n",
        "      env.render()\n",
        "    print(q_agent.env.get_state())\n",
        "  epsilon = min_epsilon + (max_epsilon - min_epsilon)*np.exp(-decay_rate*episode)\n",
        "  epsilons.append(epsilon)\n",
        "  rewards.append(total_rewards)"
      ],
      "execution_count": 0,
      "outputs": [
        {
          "output_type": "stream",
          "text": [
            "Starting state\n"
          ],
          "name": "stdout"
        },
        {
          "output_type": "display_data",
          "data": {
            "text/html": [
              "<style>\n",
              "       table#id478, #id478 > tbody > tr > th, #id478 > tbody > tr > td {\n",
              "         border: 1px solid lightgray;\n",
              "         border-collapse:collapse;\n",
              "         \n",
              "        }</style>"
            ],
            "text/plain": [
              "<IPython.core.display.HTML object>"
            ]
          },
          "metadata": {
            "tags": [
              "outputarea_id478"
            ]
          }
        },
        {
          "output_type": "display_data",
          "data": {
            "text/html": [
              "<table id=id478><tr><td id=id478-0-0></td></tr></table>"
            ],
            "text/plain": [
              "<IPython.core.display.HTML object>"
            ]
          },
          "metadata": {
            "tags": [
              "outputarea_id478"
            ]
          }
        },
        {
          "output_type": "display_data",
          "data": {
            "application/javascript": [
              "window[\"144452e8-e2fd-11e9-a992-0242ac1c0002\"] = google.colab.output.getActiveOutputArea();\n",
              "//# sourceURL=js_965734becd"
            ],
            "text/plain": [
              "<IPython.core.display.Javascript object>"
            ]
          },
          "metadata": {
            "tags": [
              "id478-0-0",
              "outputarea_id478"
            ]
          }
        },
        {
          "output_type": "display_data",
          "data": {
            "application/javascript": [
              "window[\"1444ae78-e2fd-11e9-a992-0242ac1c0002\"] = document.querySelector(\"#id478-0-0\");\n",
              "//# sourceURL=js_9298c9eb81"
            ],
            "text/plain": [
              "<IPython.core.display.Javascript object>"
            ]
          },
          "metadata": {
            "tags": [
              "id478-0-0",
              "outputarea_id478"
            ]
          }
        },
        {
          "output_type": "display_data",
          "data": {
            "application/javascript": [
              "window[\"14450364-e2fd-11e9-a992-0242ac1c0002\"] = google.colab.output.setActiveOutputArea(window[\"1444ae78-e2fd-11e9-a992-0242ac1c0002\"]);\n",
              "//# sourceURL=js_4f1126e56f"
            ],
            "text/plain": [
              "<IPython.core.display.Javascript object>"
            ]
          },
          "metadata": {
            "tags": [
              "id478-0-0",
              "outputarea_id478"
            ]
          }
        },
        {
          "output_type": "display_data",
          "data": {
            "image/png": "[encoded data removed]",
            "text/plain": [
              "<Figure size 432x288 with 1 Axes>"
            ]
          },
          "metadata": {
            "tags": [
              "id478-0-0",
              "outputarea_id478",
              "user_output"
            ]
          }
        },
        {
          "output_type": "display_data",
          "data": {
            "application/javascript": [
              "window[\"146d49d2-e2fd-11e9-a992-0242ac1c0002\"] = google.colab.output.setActiveOutputArea(window[\"144452e8-e2fd-11e9-a992-0242ac1c0002\"]);\n",
              "//# sourceURL=js_bcf04616d8"
            ],
            "text/plain": [
              "<IPython.core.display.Javascript object>"
            ]
          },
          "metadata": {
            "tags": [
              "id478-0-0",
              "outputarea_id478"
            ]
          }
        },
        {
          "output_type": "stream",
          "text": [
            "Episode Num: 1\n"
          ],
          "name": "stdout"
        },
        {
          "output_type": "display_data",
          "data": {
            "text/html": [
              "<style>\n",
              "       table#id480, #id480 > tbody > tr > th, #id480 > tbody > tr > td {\n",
              "         border: 1px solid lightgray;\n",
              "         border-collapse:collapse;\n",
              "         \n",
              "        }</style>"
            ],
            "text/plain": [
              "<IPython.core.display.HTML object>"
            ]
          },
          "metadata": {
            "tags": [
              "outputarea_id480"
            ]
          }
        },
        {
          "output_type": "display_data",
          "data": {
            "text/html": [
              "<table id=id480><tr><td id=id480-0-0></td></tr></table>"
            ],
            "text/plain": [
              "<IPython.core.display.HTML object>"
            ]
          },
          "metadata": {
            "tags": [
              "outputarea_id480"
            ]
          }
        },
        {
          "output_type": "display_data",
          "data": {
            "application/javascript": [
              "window[\"14993dc6-e2fd-11e9-a992-0242ac1c0002\"] = google.colab.output.getActiveOutputArea();\n",
              "//# sourceURL=js_a00c268d27"
            ],
            "text/plain": [
              "<IPython.core.display.Javascript object>"
            ]
          },
          "metadata": {
            "tags": [
              "id480-0-0",
              "outputarea_id480"
            ]
          }
        },
        {
          "output_type": "display_data",
          "data": {
            "application/javascript": [
              "window[\"1499a3ec-e2fd-11e9-a992-0242ac1c0002\"] = document.querySelector(\"#id480-0-0\");\n",
              "//# sourceURL=js_bdbbbbdeda"
            ],
            "text/plain": [
              "<IPython.core.display.Javascript object>"
            ]
          },
          "metadata": {
            "tags": [
              "id480-0-0",
              "outputarea_id480"
            ]
          }
        },
        {
          "output_type": "display_data",
          "data": {
            "application/javascript": [
              "window[\"149a0c9c-e2fd-11e9-a992-0242ac1c0002\"] = google.colab.output.setActiveOutputArea(window[\"1499a3ec-e2fd-11e9-a992-0242ac1c0002\"]);\n",
              "//# sourceURL=js_51f31cb2d5"
            ],
            "text/plain": [
              "<IPython.core.display.Javascript object>"
            ]
          },
          "metadata": {
            "tags": [
              "id480-0-0",
              "outputarea_id480"
            ]
          }
        },
        {
          "output_type": "display_data",
          "data": {
            "image/png": "[encoded data removed]",
            "text/plain": [
              "<Figure size 432x288 with 1 Axes>"
            ]
          },
          "metadata": {
            "tags": [
              "id480-0-0",
              "outputarea_id480",
              "user_output"
            ]
          }
        },
        {
          "output_type": "display_data",
          "data": {
            "application/javascript": [
              "window[\"14d430fc-e2fd-11e9-a992-0242ac1c0002\"] = google.colab.output.setActiveOutputArea(window[\"14993dc6-e2fd-11e9-a992-0242ac1c0002\"]);\n",
              "//# sourceURL=js_f79179d2b1"
            ],
            "text/plain": [
              "<IPython.core.display.Javascript object>"
            ]
          },
          "metadata": {
            "tags": [
              "id480-0-0",
              "outputarea_id480"
            ]
          }
        },
        {
          "output_type": "stream",
          "text": [
            "[[0.  0.  0.  0. ]\n",
            " [0.  0.2 0.  1. ]\n",
            " [0.  0.  0.  0.2]\n",
            " [0.  0.  0.  0.5]]\n",
            "Episode Num: 501\n"
          ],
          "name": "stdout"
        },
        {
          "output_type": "display_data",
          "data": {
            "text/html": [
              "<style>\n",
              "       table#id482, #id482 > tbody > tr > th, #id482 > tbody > tr > td {\n",
              "         border: 1px solid lightgray;\n",
              "         border-collapse:collapse;\n",
              "         \n",
              "        }</style>"
            ],
            "text/plain": [
              "<IPython.core.display.HTML object>"
            ]
          },
          "metadata": {
            "tags": [
              "outputarea_id482"
            ]
          }
        },
        {
          "output_type": "display_data",
          "data": {
            "text/html": [
              "<table id=id482><tr><td id=id482-0-0></td></tr></table>"
            ],
            "text/plain": [
              "<IPython.core.display.HTML object>"
            ]
          },
          "metadata": {
            "tags": [
              "outputarea_id482"
            ]
          }
        },
        {
          "output_type": "display_data",
          "data": {
            "application/javascript": [
              "window[\"152a6882-e2fd-11e9-a992-0242ac1c0002\"] = google.colab.output.getActiveOutputArea();\n",
              "//# sourceURL=js_97ec640bb5"
            ],
            "text/plain": [
              "<IPython.core.display.Javascript object>"
            ]
          },
          "metadata": {
            "tags": [
              "id482-0-0",
              "outputarea_id482"
            ]
          }
        },
        {
          "output_type": "display_data",
          "data": {
            "application/javascript": [
              "window[\"152ab8c8-e2fd-11e9-a992-0242ac1c0002\"] = document.querySelector(\"#id482-0-0\");\n",
              "//# sourceURL=js_9afd88106b"
            ],
            "text/plain": [
              "<IPython.core.display.Javascript object>"
            ]
          },
          "metadata": {
            "tags": [
              "id482-0-0",
              "outputarea_id482"
            ]
          }
        },
        {
          "output_type": "display_data",
          "data": {
            "application/javascript": [
              "window[\"152b1c6e-e2fd-11e9-a992-0242ac1c0002\"] = google.colab.output.setActiveOutputArea(window[\"152ab8c8-e2fd-11e9-a992-0242ac1c0002\"]);\n",
              "//# sourceURL=js_4122a88c32"
            ],
            "text/plain": [
              "<IPython.core.display.Javascript object>"
            ]
          },
          "metadata": {
            "tags": [
              "id482-0-0",
              "outputarea_id482"
            ]
          }
        },
        {
          "output_type": "display_data",
          "data": {
            "image/png": "[encoded data removed]",
            "text/plain": [
              "<Figure size 432x288 with 1 Axes>"
            ]
          },
          "metadata": {
            "tags": [
              "id482-0-0",
              "outputarea_id482",
              "user_output"
            ]
          }
        },
        {
          "output_type": "display_data",
          "data": {
            "application/javascript": [
              "window[\"15547e88-e2fd-11e9-a992-0242ac1c0002\"] = google.colab.output.setActiveOutputArea(window[\"152a6882-e2fd-11e9-a992-0242ac1c0002\"]);\n",
              "//# sourceURL=js_5f642ae8b6"
            ],
            "text/plain": [
              "<IPython.core.display.Javascript object>"
            ]
          },
          "metadata": {
            "tags": [
              "id482-0-0",
              "outputarea_id482"
            ]
          }
        },
        {
          "output_type": "stream",
          "text": [
            "[[0.  0.  0.  0. ]\n",
            " [0.  0.2 0.  0.2]\n",
            " [0.  0.  0.  0.2]\n",
            " [0.  0.  0.  1. ]]\n",
            "Episode Num: 1001\n"
          ],
          "name": "stdout"
        },
        {
          "output_type": "display_data",
          "data": {
            "text/html": [
              "<style>\n",
              "       table#id484, #id484 > tbody > tr > th, #id484 > tbody > tr > td {\n",
              "         border: 1px solid lightgray;\n",
              "         border-collapse:collapse;\n",
              "         \n",
              "        }</style>"
            ],
            "text/plain": [
              "<IPython.core.display.HTML object>"
            ]
          },
          "metadata": {
            "tags": [
              "outputarea_id484"
            ]
          }
        },
        {
          "output_type": "display_data",
          "data": {
            "text/html": [
              "<table id=id484><tr><td id=id484-0-0></td></tr></table>"
            ],
            "text/plain": [
              "<IPython.core.display.HTML object>"
            ]
          },
          "metadata": {
            "tags": [
              "outputarea_id484"
            ]
          }
        },
        {
          "output_type": "display_data",
          "data": {
            "application/javascript": [
              "window[\"1597ede4-e2fd-11e9-a992-0242ac1c0002\"] = google.colab.output.getActiveOutputArea();\n",
              "//# sourceURL=js_f66dc50c8a"
            ],
            "text/plain": [
              "<IPython.core.display.Javascript object>"
            ]
          },
          "metadata": {
            "tags": [
              "id484-0-0",
              "outputarea_id484"
            ]
          }
        },
        {
          "output_type": "display_data",
          "data": {
            "application/javascript": [
              "window[\"1598405a-e2fd-11e9-a992-0242ac1c0002\"] = document.querySelector(\"#id484-0-0\");\n",
              "//# sourceURL=js_958cf80b74"
            ],
            "text/plain": [
              "<IPython.core.display.Javascript object>"
            ]
          },
          "metadata": {
            "tags": [
              "id484-0-0",
              "outputarea_id484"
            ]
          }
        },
        {
          "output_type": "display_data",
          "data": {
            "application/javascript": [
              "window[\"159895a0-e2fd-11e9-a992-0242ac1c0002\"] = google.colab.output.setActiveOutputArea(window[\"1598405a-e2fd-11e9-a992-0242ac1c0002\"]);\n",
              "//# sourceURL=js_7ed5af2e33"
            ],
            "text/plain": [
              "<IPython.core.display.Javascript object>"
            ]
          },
          "metadata": {
            "tags": [
              "id484-0-0",
              "outputarea_id484"
            ]
          }
        },
        {
          "output_type": "display_data",
          "data": {
            "image/png": "[encoded data removed]",
            "text/plain": [
              "<Figure size 432x288 with 1 Axes>"
            ]
          },
          "metadata": {
            "tags": [
              "id484-0-0",
              "outputarea_id484",
              "user_output"
            ]
          }
        },
        {
          "output_type": "display_data",
          "data": {
            "application/javascript": [
              "window[\"15c07098-e2fd-11e9-a992-0242ac1c0002\"] = google.colab.output.setActiveOutputArea(window[\"1597ede4-e2fd-11e9-a992-0242ac1c0002\"]);\n",
              "//# sourceURL=js_05ef1b2c25"
            ],
            "text/plain": [
              "<IPython.core.display.Javascript object>"
            ]
          },
          "metadata": {
            "tags": [
              "id484-0-0",
              "outputarea_id484"
            ]
          }
        },
        {
          "output_type": "stream",
          "text": [
            "[[0.  0.  0.  0. ]\n",
            " [0.  0.2 0.  0.2]\n",
            " [0.  0.  0.  0.2]\n",
            " [0.  0.  0.  1. ]]\n",
            "Episode Num: 1501\n"
          ],
          "name": "stdout"
        },
        {
          "output_type": "display_data",
          "data": {
            "text/html": [
              "<style>\n",
              "       table#id486, #id486 > tbody > tr > th, #id486 > tbody > tr > td {\n",
              "         border: 1px solid lightgray;\n",
              "         border-collapse:collapse;\n",
              "         \n",
              "        }</style>"
            ],
            "text/plain": [
              "<IPython.core.display.HTML object>"
            ]
          },
          "metadata": {
            "tags": [
              "outputarea_id486"
            ]
          }
        },
        {
          "output_type": "display_data",
          "data": {
            "text/html": [
              "<table id=id486><tr><td id=id486-0-0></td></tr></table>"
            ],
            "text/plain": [
              "<IPython.core.display.HTML object>"
            ]
          },
          "metadata": {
            "tags": [
              "outputarea_id486"
            ]
          }
        },
        {
          "output_type": "display_data",
          "data": {
            "application/javascript": [
              "window[\"1607a1fc-e2fd-11e9-a992-0242ac1c0002\"] = google.colab.output.getActiveOutputArea();\n",
              "//# sourceURL=js_e858055a9e"
            ],
            "text/plain": [
              "<IPython.core.display.Javascript object>"
            ]
          },
          "metadata": {
            "tags": [
              "id486-0-0",
              "outputarea_id486"
            ]
          }
        },
        {
          "output_type": "display_data",
          "data": {
            "application/javascript": [
              "window[\"1608104c-e2fd-11e9-a992-0242ac1c0002\"] = document.querySelector(\"#id486-0-0\");\n",
              "//# sourceURL=js_5dbb5f8bf4"
            ],
            "text/plain": [
              "<IPython.core.display.Javascript object>"
            ]
          },
          "metadata": {
            "tags": [
              "id486-0-0",
              "outputarea_id486"
            ]
          }
        },
        {
          "output_type": "display_data",
          "data": {
            "application/javascript": [
              "window[\"16087672-e2fd-11e9-a992-0242ac1c0002\"] = google.colab.output.setActiveOutputArea(window[\"1608104c-e2fd-11e9-a992-0242ac1c0002\"]);\n",
              "//# sourceURL=js_708a7c6d22"
            ],
            "text/plain": [
              "<IPython.core.display.Javascript object>"
            ]
          },
          "metadata": {
            "tags": [
              "id486-0-0",
              "outputarea_id486"
            ]
          }
        },
        {
          "output_type": "display_data",
          "data": {
            "image/png": "[encoded data removed]",
            "text/plain": [
              "<Figure size 432x288 with 1 Axes>"
            ]
          },
          "metadata": {
            "tags": [
              "id486-0-0",
              "outputarea_id486",
              "user_output"
            ]
          }
        },
        {
          "output_type": "display_data",
          "data": {
            "application/javascript": [
              "window[\"16300034-e2fd-11e9-a992-0242ac1c0002\"] = google.colab.output.setActiveOutputArea(window[\"1607a1fc-e2fd-11e9-a992-0242ac1c0002\"]);\n",
              "//# sourceURL=js_405bede300"
            ],
            "text/plain": [
              "<IPython.core.display.Javascript object>"
            ]
          },
          "metadata": {
            "tags": [
              "id486-0-0",
              "outputarea_id486"
            ]
          }
        },
        {
          "output_type": "stream",
          "text": [
            "[[0.  0.  0.  0. ]\n",
            " [0.  0.2 0.  0.2]\n",
            " [0.  0.  0.  0.2]\n",
            " [0.  0.  0.  1. ]]\n",
            "Episode Num: 2001\n"
          ],
          "name": "stdout"
        },
        {
          "output_type": "display_data",
          "data": {
            "text/html": [
              "<style>\n",
              "       table#id488, #id488 > tbody > tr > th, #id488 > tbody > tr > td {\n",
              "         border: 1px solid lightgray;\n",
              "         border-collapse:collapse;\n",
              "         \n",
              "        }</style>"
            ],
            "text/plain": [
              "<IPython.core.display.HTML object>"
            ]
          },
          "metadata": {
            "tags": [
              "outputarea_id488"
            ]
          }
        },
        {
          "output_type": "display_data",
          "data": {
            "text/html": [
              "<table id=id488><tr><td id=id488-0-0></td></tr></table>"
            ],
            "text/plain": [
              "<IPython.core.display.HTML object>"
            ]
          },
          "metadata": {
            "tags": [
              "outputarea_id488"
            ]
          }
        },
        {
          "output_type": "display_data",
          "data": {
            "application/javascript": [
              "window[\"1675bdcc-e2fd-11e9-a992-0242ac1c0002\"] = google.colab.output.getActiveOutputArea();\n",
              "//# sourceURL=js_a2d277e369"
            ],
            "text/plain": [
              "<IPython.core.display.Javascript object>"
            ]
          },
          "metadata": {
            "tags": [
              "id488-0-0",
              "outputarea_id488"
            ]
          }
        },
        {
          "output_type": "display_data",
          "data": {
            "application/javascript": [
              "window[\"167605e8-e2fd-11e9-a992-0242ac1c0002\"] = document.querySelector(\"#id488-0-0\");\n",
              "//# sourceURL=js_d6b9c99475"
            ],
            "text/plain": [
              "<IPython.core.display.Javascript object>"
            ]
          },
          "metadata": {
            "tags": [
              "id488-0-0",
              "outputarea_id488"
            ]
          }
        },
        {
          "output_type": "display_data",
          "data": {
            "application/javascript": [
              "window[\"16765890-e2fd-11e9-a992-0242ac1c0002\"] = google.colab.output.setActiveOutputArea(window[\"167605e8-e2fd-11e9-a992-0242ac1c0002\"]);\n",
              "//# sourceURL=js_8efaf10e69"
            ],
            "text/plain": [
              "<IPython.core.display.Javascript object>"
            ]
          },
          "metadata": {
            "tags": [
              "id488-0-0",
              "outputarea_id488"
            ]
          }
        },
        {
          "output_type": "display_data",
          "data": {
            "image/png": "[encoded data removed]",
            "text/plain": [
              "<Figure size 432x288 with 1 Axes>"
            ]
          },
          "metadata": {
            "tags": [
              "id488-0-0",
              "outputarea_id488",
              "user_output"
            ]
          }
        },
        {
          "output_type": "display_data",
          "data": {
            "application/javascript": [
              "window[\"169bf726-e2fd-11e9-a992-0242ac1c0002\"] = google.colab.output.setActiveOutputArea(window[\"1675bdcc-e2fd-11e9-a992-0242ac1c0002\"]);\n",
              "//# sourceURL=js_501cda2cb5"
            ],
            "text/plain": [
              "<IPython.core.display.Javascript object>"
            ]
          },
          "metadata": {
            "tags": [
              "id488-0-0",
              "outputarea_id488"
            ]
          }
        },
        {
          "output_type": "stream",
          "text": [
            "[[0.  0.  0.  0. ]\n",
            " [0.  0.2 0.  0.2]\n",
            " [0.  0.  0.  0.2]\n",
            " [0.  0.  0.  1. ]]\n",
            "Episode Num: 2501\n"
          ],
          "name": "stdout"
        },
        {
          "output_type": "display_data",
          "data": {
            "text/html": [
              "<style>\n",
              "       table#id490, #id490 > tbody > tr > th, #id490 > tbody > tr > td {\n",
              "         border: 1px solid lightgray;\n",
              "         border-collapse:collapse;\n",
              "         \n",
              "        }</style>"
            ],
            "text/plain": [
              "<IPython.core.display.HTML object>"
            ]
          },
          "metadata": {
            "tags": [
              "outputarea_id490"
            ]
          }
        },
        {
          "output_type": "display_data",
          "data": {
            "text/html": [
              "<table id=id490><tr><td id=id490-0-0></td></tr></table>"
            ],
            "text/plain": [
              "<IPython.core.display.HTML object>"
            ]
          },
          "metadata": {
            "tags": [
              "outputarea_id490"
            ]
          }
        },
        {
          "output_type": "display_data",
          "data": {
            "application/javascript": [
              "window[\"16e078ba-e2fd-11e9-a992-0242ac1c0002\"] = google.colab.output.getActiveOutputArea();\n",
              "//# sourceURL=js_c02698d745"
            ],
            "text/plain": [
              "<IPython.core.display.Javascript object>"
            ]
          },
          "metadata": {
            "tags": [
              "id490-0-0",
              "outputarea_id490"
            ]
          }
        },
        {
          "output_type": "display_data",
          "data": {
            "application/javascript": [
              "window[\"16e0c464-e2fd-11e9-a992-0242ac1c0002\"] = document.querySelector(\"#id490-0-0\");\n",
              "//# sourceURL=js_0c2d227312"
            ],
            "text/plain": [
              "<IPython.core.display.Javascript object>"
            ]
          },
          "metadata": {
            "tags": [
              "id490-0-0",
              "outputarea_id490"
            ]
          }
        },
        {
          "output_type": "display_data",
          "data": {
            "application/javascript": [
              "window[\"16e110ea-e2fd-11e9-a992-0242ac1c0002\"] = google.colab.output.setActiveOutputArea(window[\"16e0c464-e2fd-11e9-a992-0242ac1c0002\"]);\n",
              "//# sourceURL=js_14e456bb1e"
            ],
            "text/plain": [
              "<IPython.core.display.Javascript object>"
            ]
          },
          "metadata": {
            "tags": [
              "id490-0-0",
              "outputarea_id490"
            ]
          }
        },
        {
          "output_type": "display_data",
          "data": {
            "image/png": "[encoded data removed]",
            "text/plain": [
              "<Figure size 432x288 with 1 Axes>"
            ]
          },
          "metadata": {
            "tags": [
              "id490-0-0",
              "outputarea_id490",
              "user_output"
            ]
          }
        },
        {
          "output_type": "display_data",
          "data": {
            "application/javascript": [
              "window[\"1704628e-e2fd-11e9-a992-0242ac1c0002\"] = google.colab.output.setActiveOutputArea(window[\"16e078ba-e2fd-11e9-a992-0242ac1c0002\"]);\n",
              "//# sourceURL=js_55d6704b25"
            ],
            "text/plain": [
              "<IPython.core.display.Javascript object>"
            ]
          },
          "metadata": {
            "tags": [
              "id490-0-0",
              "outputarea_id490"
            ]
          }
        },
        {
          "output_type": "stream",
          "text": [
            "[[0.  0.  0.  0. ]\n",
            " [0.  0.2 0.  0.2]\n",
            " [0.  0.  0.  0.2]\n",
            " [0.  0.  0.  1. ]]\n",
            "Episode Num: 3001\n"
          ],
          "name": "stdout"
        },
        {
          "output_type": "display_data",
          "data": {
            "text/html": [
              "<style>\n",
              "       table#id492, #id492 > tbody > tr > th, #id492 > tbody > tr > td {\n",
              "         border: 1px solid lightgray;\n",
              "         border-collapse:collapse;\n",
              "         \n",
              "        }</style>"
            ],
            "text/plain": [
              "<IPython.core.display.HTML object>"
            ]
          },
          "metadata": {
            "tags": [
              "outputarea_id492"
            ]
          }
        },
        {
          "output_type": "display_data",
          "data": {
            "text/html": [
              "<table id=id492><tr><td id=id492-0-0></td></tr></table>"
            ],
            "text/plain": [
              "<IPython.core.display.HTML object>"
            ]
          },
          "metadata": {
            "tags": [
              "outputarea_id492"
            ]
          }
        },
        {
          "output_type": "display_data",
          "data": {
            "application/javascript": [
              "window[\"17476462-e2fd-11e9-a992-0242ac1c0002\"] = google.colab.output.getActiveOutputArea();\n",
              "//# sourceURL=js_177e96df30"
            ],
            "text/plain": [
              "<IPython.core.display.Javascript object>"
            ]
          },
          "metadata": {
            "tags": [
              "id492-0-0",
              "outputarea_id492"
            ]
          }
        },
        {
          "output_type": "display_data",
          "data": {
            "application/javascript": [
              "window[\"1747b052-e2fd-11e9-a992-0242ac1c0002\"] = document.querySelector(\"#id492-0-0\");\n",
              "//# sourceURL=js_17c42c45d3"
            ],
            "text/plain": [
              "<IPython.core.display.Javascript object>"
            ]
          },
          "metadata": {
            "tags": [
              "id492-0-0",
              "outputarea_id492"
            ]
          }
        },
        {
          "output_type": "display_data",
          "data": {
            "application/javascript": [
              "window[\"1747f51c-e2fd-11e9-a992-0242ac1c0002\"] = google.colab.output.setActiveOutputArea(window[\"1747b052-e2fd-11e9-a992-0242ac1c0002\"]);\n",
              "//# sourceURL=js_b4256a2618"
            ],
            "text/plain": [
              "<IPython.core.display.Javascript object>"
            ]
          },
          "metadata": {
            "tags": [
              "id492-0-0",
              "outputarea_id492"
            ]
          }
        },
        {
          "output_type": "display_data",
          "data": {
            "image/png": "[encoded data removed]",
            "text/plain": [
              "<Figure size 432x288 with 1 Axes>"
            ]
          },
          "metadata": {
            "tags": [
              "id492-0-0",
              "outputarea_id492",
              "user_output"
            ]
          }
        },
        {
          "output_type": "display_data",
          "data": {
            "application/javascript": [
              "window[\"176c2342-e2fd-11e9-a992-0242ac1c0002\"] = google.colab.output.setActiveOutputArea(window[\"17476462-e2fd-11e9-a992-0242ac1c0002\"]);\n",
              "//# sourceURL=js_6e99825905"
            ],
            "text/plain": [
              "<IPython.core.display.Javascript object>"
            ]
          },
          "metadata": {
            "tags": [
              "id492-0-0",
              "outputarea_id492"
            ]
          }
        },
        {
          "output_type": "stream",
          "text": [
            "[[0.  0.  0.  0. ]\n",
            " [0.  0.2 0.  0.2]\n",
            " [0.  0.  0.  0.2]\n",
            " [0.  0.  0.  1. ]]\n",
            "Episode Num: 3501\n"
          ],
          "name": "stdout"
        },
        {
          "output_type": "display_data",
          "data": {
            "text/html": [
              "<style>\n",
              "       table#id494, #id494 > tbody > tr > th, #id494 > tbody > tr > td {\n",
              "         border: 1px solid lightgray;\n",
              "         border-collapse:collapse;\n",
              "         \n",
              "        }</style>"
            ],
            "text/plain": [
              "<IPython.core.display.HTML object>"
            ]
          },
          "metadata": {
            "tags": [
              "outputarea_id494"
            ]
          }
        },
        {
          "output_type": "display_data",
          "data": {
            "text/html": [
              "<table id=id494><tr><td id=id494-0-0></td></tr></table>"
            ],
            "text/plain": [
              "<IPython.core.display.HTML object>"
            ]
          },
          "metadata": {
            "tags": [
              "outputarea_id494"
            ]
          }
        },
        {
          "output_type": "display_data",
          "data": {
            "application/javascript": [
              "window[\"17ad403e-e2fd-11e9-a992-0242ac1c0002\"] = google.colab.output.getActiveOutputArea();\n",
              "//# sourceURL=js_33a8735b8f"
            ],
            "text/plain": [
              "<IPython.core.display.Javascript object>"
            ]
          },
          "metadata": {
            "tags": [
              "id494-0-0",
              "outputarea_id494"
            ]
          }
        },
        {
          "output_type": "display_data",
          "data": {
            "application/javascript": [
              "window[\"17ad8da0-e2fd-11e9-a992-0242ac1c0002\"] = document.querySelector(\"#id494-0-0\");\n",
              "//# sourceURL=js_feffac9e6b"
            ],
            "text/plain": [
              "<IPython.core.display.Javascript object>"
            ]
          },
          "metadata": {
            "tags": [
              "id494-0-0",
              "outputarea_id494"
            ]
          }
        },
        {
          "output_type": "display_data",
          "data": {
            "application/javascript": [
              "window[\"17adde2c-e2fd-11e9-a992-0242ac1c0002\"] = google.colab.output.setActiveOutputArea(window[\"17ad8da0-e2fd-11e9-a992-0242ac1c0002\"]);\n",
              "//# sourceURL=js_cad03e49c2"
            ],
            "text/plain": [
              "<IPython.core.display.Javascript object>"
            ]
          },
          "metadata": {
            "tags": [
              "id494-0-0",
              "outputarea_id494"
            ]
          }
        },
        {
          "output_type": "display_data",
          "data": {
            "image/png": "[encoded data removed]",
            "text/plain": [
              "<Figure size 432x288 with 1 Axes>"
            ]
          },
          "metadata": {
            "tags": [
              "id494-0-0",
              "outputarea_id494",
              "user_output"
            ]
          }
        },
        {
          "output_type": "display_data",
          "data": {
            "application/javascript": [
              "window[\"17d38672-e2fd-11e9-a992-0242ac1c0002\"] = google.colab.output.setActiveOutputArea(window[\"17ad403e-e2fd-11e9-a992-0242ac1c0002\"]);\n",
              "//# sourceURL=js_39dea8e441"
            ],
            "text/plain": [
              "<IPython.core.display.Javascript object>"
            ]
          },
          "metadata": {
            "tags": [
              "id494-0-0",
              "outputarea_id494"
            ]
          }
        },
        {
          "output_type": "stream",
          "text": [
            "[[0.  0.  0.  0. ]\n",
            " [0.  0.2 0.  0.2]\n",
            " [0.  0.  0.  0.2]\n",
            " [0.  0.  0.  1. ]]\n",
            "Episode Num: 4001\n"
          ],
          "name": "stdout"
        },
        {
          "output_type": "display_data",
          "data": {
            "text/html": [
              "<style>\n",
              "       table#id496, #id496 > tbody > tr > th, #id496 > tbody > tr > td {\n",
              "         border: 1px solid lightgray;\n",
              "         border-collapse:collapse;\n",
              "         \n",
              "        }</style>"
            ],
            "text/plain": [
              "<IPython.core.display.HTML object>"
            ]
          },
          "metadata": {
            "tags": [
              "outputarea_id496"
            ]
          }
        },
        {
          "output_type": "display_data",
          "data": {
            "text/html": [
              "<table id=id496><tr><td id=id496-0-0></td></tr></table>"
            ],
            "text/plain": [
              "<IPython.core.display.HTML object>"
            ]
          },
          "metadata": {
            "tags": [
              "outputarea_id496"
            ]
          }
        },
        {
          "output_type": "display_data",
          "data": {
            "application/javascript": [
              "window[\"18168fbc-e2fd-11e9-a992-0242ac1c0002\"] = google.colab.output.getActiveOutputArea();\n",
              "//# sourceURL=js_55021f9705"
            ],
            "text/plain": [
              "<IPython.core.display.Javascript object>"
            ]
          },
          "metadata": {
            "tags": [
              "id496-0-0",
              "outputarea_id496"
            ]
          }
        },
        {
          "output_type": "display_data",
          "data": {
            "application/javascript": [
              "window[\"1816dd82-e2fd-11e9-a992-0242ac1c0002\"] = document.querySelector(\"#id496-0-0\");\n",
              "//# sourceURL=js_8fa85c468a"
            ],
            "text/plain": [
              "<IPython.core.display.Javascript object>"
            ]
          },
          "metadata": {
            "tags": [
              "id496-0-0",
              "outputarea_id496"
            ]
          }
        },
        {
          "output_type": "display_data",
          "data": {
            "application/javascript": [
              "window[\"1817251c-e2fd-11e9-a992-0242ac1c0002\"] = google.colab.output.setActiveOutputArea(window[\"1816dd82-e2fd-11e9-a992-0242ac1c0002\"]);\n",
              "//# sourceURL=js_b8958a2983"
            ],
            "text/plain": [
              "<IPython.core.display.Javascript object>"
            ]
          },
          "metadata": {
            "tags": [
              "id496-0-0",
              "outputarea_id496"
            ]
          }
        },
        {
          "output_type": "display_data",
          "data": {
            "image/png": "[encoded data removed]",
            "text/plain": [
              "<Figure size 432x288 with 1 Axes>"
            ]
          },
          "metadata": {
            "tags": [
              "id496-0-0",
              "outputarea_id496",
              "user_output"
            ]
          }
        },
        {
          "output_type": "display_data",
          "data": {
            "application/javascript": [
              "window[\"183b7dc2-e2fd-11e9-a992-0242ac1c0002\"] = google.colab.output.setActiveOutputArea(window[\"18168fbc-e2fd-11e9-a992-0242ac1c0002\"]);\n",
              "//# sourceURL=js_e6956c6f15"
            ],
            "text/plain": [
              "<IPython.core.display.Javascript object>"
            ]
          },
          "metadata": {
            "tags": [
              "id496-0-0",
              "outputarea_id496"
            ]
          }
        },
        {
          "output_type": "stream",
          "text": [
            "[[0.  0.  0.  0. ]\n",
            " [0.  0.2 0.  0.2]\n",
            " [0.  0.  0.  0.2]\n",
            " [0.  0.  0.  1. ]]\n",
            "Episode Num: 4501\n"
          ],
          "name": "stdout"
        },
        {
          "output_type": "display_data",
          "data": {
            "text/html": [
              "<style>\n",
              "       table#id498, #id498 > tbody > tr > th, #id498 > tbody > tr > td {\n",
              "         border: 1px solid lightgray;\n",
              "         border-collapse:collapse;\n",
              "         \n",
              "        }</style>"
            ],
            "text/plain": [
              "<IPython.core.display.HTML object>"
            ]
          },
          "metadata": {
            "tags": [
              "outputarea_id498"
            ]
          }
        },
        {
          "output_type": "display_data",
          "data": {
            "text/html": [
              "<table id=id498><tr><td id=id498-0-0></td></tr></table>"
            ],
            "text/plain": [
              "<IPython.core.display.HTML object>"
            ]
          },
          "metadata": {
            "tags": [
              "outputarea_id498"
            ]
          }
        },
        {
          "output_type": "display_data",
          "data": {
            "application/javascript": [
              "window[\"187e8f22-e2fd-11e9-a992-0242ac1c0002\"] = google.colab.output.getActiveOutputArea();\n",
              "//# sourceURL=js_a4d80bbc0e"
            ],
            "text/plain": [
              "<IPython.core.display.Javascript object>"
            ]
          },
          "metadata": {
            "tags": [
              "id498-0-0",
              "outputarea_id498"
            ]
          }
        },
        {
          "output_type": "display_data",
          "data": {
            "application/javascript": [
              "window[\"187edf90-e2fd-11e9-a992-0242ac1c0002\"] = document.querySelector(\"#id498-0-0\");\n",
              "//# sourceURL=js_e985f5791f"
            ],
            "text/plain": [
              "<IPython.core.display.Javascript object>"
            ]
          },
          "metadata": {
            "tags": [
              "id498-0-0",
              "outputarea_id498"
            ]
          }
        },
        {
          "output_type": "display_data",
          "data": {
            "application/javascript": [
              "window[\"187f3684-e2fd-11e9-a992-0242ac1c0002\"] = google.colab.output.setActiveOutputArea(window[\"187edf90-e2fd-11e9-a992-0242ac1c0002\"]);\n",
              "//# sourceURL=js_25e663930b"
            ],
            "text/plain": [
              "<IPython.core.display.Javascript object>"
            ]
          },
          "metadata": {
            "tags": [
              "id498-0-0",
              "outputarea_id498"
            ]
          }
        },
        {
          "output_type": "display_data",
          "data": {
            "image/png": "[encoded data removed]",
            "text/plain": [
              "<Figure size 432x288 with 1 Axes>"
            ]
          },
          "metadata": {
            "tags": [
              "id498-0-0",
              "outputarea_id498",
              "user_output"
            ]
          }
        },
        {
          "output_type": "display_data",
          "data": {
            "application/javascript": [
              "window[\"18a36fae-e2fd-11e9-a992-0242ac1c0002\"] = google.colab.output.setActiveOutputArea(window[\"187e8f22-e2fd-11e9-a992-0242ac1c0002\"]);\n",
              "//# sourceURL=js_1cfbbfcf6d"
            ],
            "text/plain": [
              "<IPython.core.display.Javascript object>"
            ]
          },
          "metadata": {
            "tags": [
              "id498-0-0",
              "outputarea_id498"
            ]
          }
        },
        {
          "output_type": "stream",
          "text": [
            "[[0.  0.  0.  0. ]\n",
            " [0.  0.2 0.  0.2]\n",
            " [0.  0.  0.  0.2]\n",
            " [0.  0.  0.  1. ]]\n"
          ],
          "name": "stdout"
        }
      ]
    },
    {
      "cell_type": "code",
      "metadata": {
        "id": "sfjqzl3DIe0E",
        "colab_type": "code",
        "outputId": "7fa2936b-3ba4-4c3c-8da6-37a3c922734d",
        "colab": {
          "base_uri": "https://localhost:8080/",
          "height": 286
        }
      },
      "source": [
        "\"\"\"\n",
        "Plotting the Rewards Graph:\n",
        "Graph shows the rewards obtained for each episode.\n",
        "\"\"\"\n",
        "plt.plot(rewards)"
      ],
      "execution_count": 0,
      "outputs": [
        {
          "output_type": "execute_result",
          "data": {
            "text/plain": [
              "[<matplotlib.lines.Line2D at 0x7f68be85f2e8>]"
            ]
          },
          "metadata": {
            "tags": []
          },
          "execution_count": 177
        },
        {
          "output_type": "display_data",
          "data": {
            "image/png": "[encoded data removed]",
            "text/plain": [
              "<Figure size 432x288 with 1 Axes>"
            ]
          },
          "metadata": {
            "tags": []
          }
        }
      ]
    },
    {
      "cell_type": "code",
      "metadata": {
        "id": "Xhy6g6fZI9_m",
        "colab_type": "code",
        "outputId": "6f79d0c1-773b-4455-f5b0-ae7975a7fd27",
        "colab": {
          "base_uri": "https://localhost:8080/",
          "height": 286
        }
      },
      "source": [
        "\"\"\"\n",
        "Plotting the Rolling mean of rewards:\n",
        "\"\"\"\n",
        "df = pd.DataFrame(rewards, columns=['r'])\n",
        "mean_roll = df['r'].rolling(window=25).mean()\n",
        "plt.plot(mean_roll)"
      ],
      "execution_count": 0,
      "outputs": [
        {
          "output_type": "execute_result",
          "data": {
            "text/plain": [
              "[<matplotlib.lines.Line2D at 0x7f68bf4334a8>]"
            ]
          },
          "metadata": {
            "tags": []
          },
          "execution_count": 178
        },
        {
          "output_type": "display_data",
          "data": {
            "image/png": "[encoded data removed]",
            "text/plain": [
              "<Figure size 432x288 with 1 Axes>"
            ]
          },
          "metadata": {
            "tags": []
          }
        }
      ]
    },
    {
      "cell_type": "code",
      "metadata": {
        "id": "uMnrYhvcJhDH",
        "colab_type": "code",
        "outputId": "85660ce2-9d39-4533-d04e-429f4e9cb138",
        "colab": {
          "base_uri": "https://localhost:8080/",
          "height": 286
        }
      },
      "source": [
        "\n",
        "\"\"\"Plotting the Epsilon graph:\n",
        "Initially it has high values as we want to explore the environment and we end up taking random actions,\n",
        "but gradually the trend decreases as we start exploiting the information we have obtained in the Q - table.\n",
        "\"\"\"\n",
        "plt.plot(epsilons)"
      ],
      "execution_count": 0,
      "outputs": [
        {
          "output_type": "execute_result",
          "data": {
            "text/plain": [
              "[<matplotlib.lines.Line2D at 0x7f68bedd2c88>]"
            ]
          },
          "metadata": {
            "tags": []
          },
          "execution_count": 179
        },
        {
          "output_type": "display_data",
          "data": {
            "image/png": "[encoded data removed]",
            "text/plain": [
              "<Figure size 432x288 with 1 Axes>"
            ]
          },
          "metadata": {
            "tags": []
          }
        }
      ]
    },
    {
      "cell_type": "markdown",
      "metadata": {
        "id": "8ikhVifaKagH",
        "colab_type": "text"
      },
      "source": [
        "### The Q - Table for Determininstic Environment..."
      ]
    },
    {
      "cell_type": "code",
      "metadata": {
        "id": "hxkBRkBvKWo1",
        "colab_type": "code",
        "outputId": "d5680acd-3326-4597-ea56-ee5a3bf1884d",
        "colab": {
          "base_uri": "https://localhost:8080/",
          "height": 545
        }
      },
      "source": [
        "q_df = pd.DataFrame(q_agent.q_table, columns=['right', 'left', 'up' ,'down'])\n",
        "q_df"
      ],
      "execution_count": 0,
      "outputs": [
        {
          "output_type": "execute_result",
          "data": {
            "text/html": [
              "<div>\n",
              "<style scoped>\n",
              "    .dataframe tbody tr th:only-of-type {\n",
              "        vertical-align: middle;\n",
              "    }\n",
              "\n",
              "    .dataframe tbody tr th {\n",
              "        vertical-align: top;\n",
              "    }\n",
              "\n",
              "    .dataframe thead th {\n",
              "        text-align: right;\n",
              "    }\n",
              "</style>\n",
              "<table border=\"1\" class=\"dataframe\">\n",
              "  <thead>\n",
              "    <tr style=\"text-align: right;\">\n",
              "      <th></th>\n",
              "      <th>right</th>\n",
              "      <th>left</th>\n",
              "      <th>up</th>\n",
              "      <th>down</th>\n",
              "    </tr>\n",
              "  </thead>\n",
              "  <tbody>\n",
              "    <tr>\n",
              "      <th>0</th>\n",
              "      <td>145.384317</td>\n",
              "      <td>138.568945</td>\n",
              "      <td>138.026187</td>\n",
              "      <td>138.568945</td>\n",
              "    </tr>\n",
              "    <tr>\n",
              "      <th>1</th>\n",
              "      <td>-150.000000</td>\n",
              "      <td>132.026156</td>\n",
              "      <td>131.682363</td>\n",
              "      <td>138.568945</td>\n",
              "    </tr>\n",
              "    <tr>\n",
              "      <th>2</th>\n",
              "      <td>39.305580</td>\n",
              "      <td>35.901631</td>\n",
              "      <td>30.530590</td>\n",
              "      <td>132.026139</td>\n",
              "    </tr>\n",
              "    <tr>\n",
              "      <th>3</th>\n",
              "      <td>-149.999063</td>\n",
              "      <td>24.492000</td>\n",
              "      <td>24.468912</td>\n",
              "      <td>35.495445</td>\n",
              "    </tr>\n",
              "    <tr>\n",
              "      <th>4</th>\n",
              "      <td>146.233664</td>\n",
              "      <td>138.568945</td>\n",
              "      <td>-150.000000</td>\n",
              "      <td>139.384317</td>\n",
              "    </tr>\n",
              "    <tr>\n",
              "      <th>5</th>\n",
              "      <td>0.000000</td>\n",
              "      <td>0.000000</td>\n",
              "      <td>0.000000</td>\n",
              "      <td>0.000000</td>\n",
              "    </tr>\n",
              "    <tr>\n",
              "      <th>6</th>\n",
              "      <td>148.039349</td>\n",
              "      <td>121.504095</td>\n",
              "      <td>-149.981250</td>\n",
              "      <td>-149.999063</td>\n",
              "    </tr>\n",
              "    <tr>\n",
              "      <th>7</th>\n",
              "      <td>0.000000</td>\n",
              "      <td>0.000000</td>\n",
              "      <td>0.000000</td>\n",
              "      <td>0.000000</td>\n",
              "    </tr>\n",
              "    <tr>\n",
              "      <th>8</th>\n",
              "      <td>147.118400</td>\n",
              "      <td>139.384317</td>\n",
              "      <td>147.118400</td>\n",
              "      <td>140.233664</td>\n",
              "    </tr>\n",
              "    <tr>\n",
              "      <th>9</th>\n",
              "      <td>148.040000</td>\n",
              "      <td>-150.000000</td>\n",
              "      <td>148.040000</td>\n",
              "      <td>140.233664</td>\n",
              "    </tr>\n",
              "    <tr>\n",
              "      <th>10</th>\n",
              "      <td>149.000000</td>\n",
              "      <td>141.116528</td>\n",
              "      <td>-150.000000</td>\n",
              "      <td>141.118400</td>\n",
              "    </tr>\n",
              "    <tr>\n",
              "      <th>11</th>\n",
              "      <td>0.000000</td>\n",
              "      <td>0.000000</td>\n",
              "      <td>0.000000</td>\n",
              "      <td>0.000000</td>\n",
              "    </tr>\n",
              "    <tr>\n",
              "      <th>12</th>\n",
              "      <td>141.118400</td>\n",
              "      <td>140.233664</td>\n",
              "      <td>148.040000</td>\n",
              "      <td>141.118400</td>\n",
              "    </tr>\n",
              "    <tr>\n",
              "      <th>13</th>\n",
              "      <td>142.040000</td>\n",
              "      <td>141.118400</td>\n",
              "      <td>149.000000</td>\n",
              "      <td>141.118400</td>\n",
              "    </tr>\n",
              "    <tr>\n",
              "      <th>14</th>\n",
              "      <td>143.000000</td>\n",
              "      <td>142.040000</td>\n",
              "      <td>150.000000</td>\n",
              "      <td>142.040000</td>\n",
              "    </tr>\n",
              "    <tr>\n",
              "      <th>15</th>\n",
              "      <td>0.000000</td>\n",
              "      <td>0.000000</td>\n",
              "      <td>0.000000</td>\n",
              "      <td>0.000000</td>\n",
              "    </tr>\n",
              "  </tbody>\n",
              "</table>\n",
              "</div>"
            ],
            "text/plain": [
              "         right        left          up        down\n",
              "0   145.384317  138.568945  138.026187  138.568945\n",
              "1  -150.000000  132.026156  131.682363  138.568945\n",
              "2    39.305580   35.901631   30.530590  132.026139\n",
              "3  -149.999063   24.492000   24.468912   35.495445\n",
              "4   146.233664  138.568945 -150.000000  139.384317\n",
              "5     0.000000    0.000000    0.000000    0.000000\n",
              "6   148.039349  121.504095 -149.981250 -149.999063\n",
              "7     0.000000    0.000000    0.000000    0.000000\n",
              "8   147.118400  139.384317  147.118400  140.233664\n",
              "9   148.040000 -150.000000  148.040000  140.233664\n",
              "10  149.000000  141.116528 -150.000000  141.118400\n",
              "11    0.000000    0.000000    0.000000    0.000000\n",
              "12  141.118400  140.233664  148.040000  141.118400\n",
              "13  142.040000  141.118400  149.000000  141.118400\n",
              "14  143.000000  142.040000  150.000000  142.040000\n",
              "15    0.000000    0.000000    0.000000    0.000000"
            ]
          },
          "metadata": {
            "tags": []
          },
          "execution_count": 180
        }
      ]
    },
    {
      "cell_type": "code",
      "metadata": {
        "id": "khCPh1cFKiHA",
        "colab_type": "code",
        "outputId": "13ab8fa0-8a25-4e43-80d0-22d6e1d32ca6",
        "colab": {
          "base_uri": "https://localhost:8080/",
          "height": 835
        }
      },
      "source": [
        "\"\"\"Depicting the Animation that shows the 2 episodes from all 10000 episodes that exhibit maximum learning curve\"\"\"\n",
        "for episode in range(2):\n",
        "  state = env.reset()\n",
        "  total_reward = 0\n",
        "  done = False\n",
        "  print(\"Episode #\",episode+1)\n",
        "  nsteps = 0\n",
        "  print_grid = widgets.Grid(1, 1)\n",
        "  while not done:\n",
        "    action = q_agent.steps(state, tradeoff, epsilon)\n",
        "    new_state, reward, done, info = q_agent.env.steps(action)\n",
        "    \n",
        "    state = new_state\n",
        "    nsteps+=1\n",
        "    print(\"Probabilities and Possible positions for step \"+str(nsteps)+\":\",info)\n",
        "    with print_grid.output_to(0, 0):\n",
        "      print_grid.clear_cell()\n",
        "      env.render()\n",
        "    time.sleep(1)\n",
        "  print(\"No. of steps taken:\",nsteps,\"\\n\")\n",
        "  \n",
        "  with print_grid.output_to(0, 0):\n",
        "    print_grid.clear_cell()\n",
        "    env.render()\n",
        "  time.sleep(1)"
      ],
      "execution_count": 0,
      "outputs": [
        {
          "output_type": "stream",
          "text": [
            "Episode # 1\n"
          ],
          "name": "stdout"
        },
        {
          "output_type": "display_data",
          "data": {
            "text/html": [
              "<style>\n",
              "       table#id500, #id500 > tbody > tr > th, #id500 > tbody > tr > td {\n",
              "         border: 1px solid lightgray;\n",
              "         border-collapse:collapse;\n",
              "         \n",
              "        }</style>"
            ],
            "text/plain": [
              "<IPython.core.display.HTML object>"
            ]
          },
          "metadata": {
            "tags": [
              "outputarea_id500"
            ]
          }
        },
        {
          "output_type": "display_data",
          "data": {
            "text/html": [
              "<table id=id500><tr><td id=id500-0-0></td></tr></table>"
            ],
            "text/plain": [
              "<IPython.core.display.HTML object>"
            ]
          },
          "metadata": {
            "tags": [
              "outputarea_id500"
            ]
          }
        },
        {
          "output_type": "stream",
          "text": [
            "Probabilities and Possible positions for step 1: [(1.0, [1, 0])]\n"
          ],
          "name": "stdout"
        },
        {
          "output_type": "display_data",
          "data": {
            "application/javascript": [
              "window[\"196da378-e2fd-11e9-a992-0242ac1c0002\"] = google.colab.output.getActiveOutputArea();\n",
              "//# sourceURL=js_0c13f0dfe1"
            ],
            "text/plain": [
              "<IPython.core.display.Javascript object>"
            ]
          },
          "metadata": {
            "tags": [
              "id500-0-0",
              "outputarea_id500"
            ]
          }
        },
        {
          "output_type": "display_data",
          "data": {
            "application/javascript": [
              "window[\"196e1c2c-e2fd-11e9-a992-0242ac1c0002\"] = document.querySelector(\"#id500-0-0\");\n",
              "//# sourceURL=js_0d8734d2ed"
            ],
            "text/plain": [
              "<IPython.core.display.Javascript object>"
            ]
          },
          "metadata": {
            "tags": [
              "id500-0-0",
              "outputarea_id500"
            ]
          }
        },
        {
          "output_type": "display_data",
          "data": {
            "application/javascript": [
              "window[\"196e99a4-e2fd-11e9-a992-0242ac1c0002\"] = google.colab.output.setActiveOutputArea(window[\"196e1c2c-e2fd-11e9-a992-0242ac1c0002\"]);\n",
              "//# sourceURL=js_a1464a9f15"
            ],
            "text/plain": [
              "<IPython.core.display.Javascript object>"
            ]
          },
          "metadata": {
            "tags": [
              "id500-0-0",
              "outputarea_id500"
            ]
          }
        },
        {
          "output_type": "display_data",
          "data": {
            "application/javascript": [
              "window[\"19942e94-e2fd-11e9-a992-0242ac1c0002\"] = google.colab.output.setActiveOutputArea(window[\"196da378-e2fd-11e9-a992-0242ac1c0002\"]);\n",
              "//# sourceURL=js_c5b5e71813"
            ],
            "text/plain": [
              "<IPython.core.display.Javascript object>"
            ]
          },
          "metadata": {
            "tags": [
              "id500-0-0",
              "outputarea_id500"
            ]
          }
        },
        {
          "output_type": "stream",
          "text": [
            "Probabilities and Possible positions for step 2: [(1.0, [2, 0])]\n"
          ],
          "name": "stdout"
        },
        {
          "output_type": "display_data",
          "data": {
            "application/javascript": [
              "window[\"1a2f6a3a-e2fd-11e9-a992-0242ac1c0002\"] = google.colab.output.getActiveOutputArea();\n",
              "//# sourceURL=js_27f3bbf9a3"
            ],
            "text/plain": [
              "<IPython.core.display.Javascript object>"
            ]
          },
          "metadata": {
            "tags": [
              "id500-0-0",
              "outputarea_id500"
            ]
          }
        },
        {
          "output_type": "display_data",
          "data": {
            "application/javascript": [
              "window[\"1a2fc8c2-e2fd-11e9-a992-0242ac1c0002\"] = document.querySelector(\"#id500-0-0\");\n",
              "//# sourceURL=js_38f419d087"
            ],
            "text/plain": [
              "<IPython.core.display.Javascript object>"
            ]
          },
          "metadata": {
            "tags": [
              "id500-0-0",
              "outputarea_id500"
            ]
          }
        },
        {
          "output_type": "display_data",
          "data": {
            "application/javascript": [
              "window[\"1a309716-e2fd-11e9-a992-0242ac1c0002\"] = google.colab.output.setActiveOutputArea(window[\"1a2fc8c2-e2fd-11e9-a992-0242ac1c0002\"]);\n",
              "//# sourceURL=js_68e901191c"
            ],
            "text/plain": [
              "<IPython.core.display.Javascript object>"
            ]
          },
          "metadata": {
            "tags": [
              "id500-0-0",
              "outputarea_id500"
            ]
          }
        },
        {
          "output_type": "display_data",
          "data": {
            "application/javascript": [
              "window[\"1a5525ea-e2fd-11e9-a992-0242ac1c0002\"] = google.colab.output.setActiveOutputArea(window[\"1a2f6a3a-e2fd-11e9-a992-0242ac1c0002\"]);\n",
              "//# sourceURL=js_9c739e10ef"
            ],
            "text/plain": [
              "<IPython.core.display.Javascript object>"
            ]
          },
          "metadata": {
            "tags": [
              "id500-0-0",
              "outputarea_id500"
            ]
          }
        },
        {
          "output_type": "stream",
          "text": [
            "Probabilities and Possible positions for step 3: [(1.0, [3, 0])]\n"
          ],
          "name": "stdout"
        },
        {
          "output_type": "display_data",
          "data": {
            "application/javascript": [
              "window[\"1af141d2-e2fd-11e9-a992-0242ac1c0002\"] = google.colab.output.getActiveOutputArea();\n",
              "//# sourceURL=js_f56dbb9b76"
            ],
            "text/plain": [
              "<IPython.core.display.Javascript object>"
            ]
          },
          "metadata": {
            "tags": [
              "id500-0-0",
              "outputarea_id500"
            ]
          }
        },
        {
          "output_type": "display_data",
          "data": {
            "application/javascript": [
              "window[\"1af1c972-e2fd-11e9-a992-0242ac1c0002\"] = document.querySelector(\"#id500-0-0\");\n",
              "//# sourceURL=js_9b8fde776c"
            ],
            "text/plain": [
              "<IPython.core.display.Javascript object>"
            ]
          },
          "metadata": {
            "tags": [
              "id500-0-0",
              "outputarea_id500"
            ]
          }
        },
        {
          "output_type": "display_data",
          "data": {
            "application/javascript": [
              "window[\"1af21a9e-e2fd-11e9-a992-0242ac1c0002\"] = google.colab.output.setActiveOutputArea(window[\"1af1c972-e2fd-11e9-a992-0242ac1c0002\"]);\n",
              "//# sourceURL=js_db36ee5a84"
            ],
            "text/plain": [
              "<IPython.core.display.Javascript object>"
            ]
          },
          "metadata": {
            "tags": [
              "id500-0-0",
              "outputarea_id500"
            ]
          }
        },
        {
          "output_type": "display_data",
          "data": {
            "application/javascript": [
              "window[\"1b170606-e2fd-11e9-a992-0242ac1c0002\"] = google.colab.output.setActiveOutputArea(window[\"1af141d2-e2fd-11e9-a992-0242ac1c0002\"]);\n",
              "//# sourceURL=js_9d52fb9d1f"
            ],
            "text/plain": [
              "<IPython.core.display.Javascript object>"
            ]
          },
          "metadata": {
            "tags": [
              "id500-0-0",
              "outputarea_id500"
            ]
          }
        },
        {
          "output_type": "stream",
          "text": [
            "Probabilities and Possible positions for step 4: [(1.0, [3, 1])]\n"
          ],
          "name": "stdout"
        },
        {
          "output_type": "display_data",
          "data": {
            "application/javascript": [
              "window[\"1bb27c62-e2fd-11e9-a992-0242ac1c0002\"] = google.colab.output.getActiveOutputArea();\n",
              "//# sourceURL=js_bfb43cad7c"
            ],
            "text/plain": [
              "<IPython.core.display.Javascript object>"
            ]
          },
          "metadata": {
            "tags": [
              "id500-0-0",
              "outputarea_id500"
            ]
          }
        },
        {
          "output_type": "display_data",
          "data": {
            "application/javascript": [
              "window[\"1bb2e116-e2fd-11e9-a992-0242ac1c0002\"] = document.querySelector(\"#id500-0-0\");\n",
              "//# sourceURL=js_2b96d8f35e"
            ],
            "text/plain": [
              "<IPython.core.display.Javascript object>"
            ]
          },
          "metadata": {
            "tags": [
              "id500-0-0",
              "outputarea_id500"
            ]
          }
        },
        {
          "output_type": "display_data",
          "data": {
            "application/javascript": [
              "window[\"1bb3952a-e2fd-11e9-a992-0242ac1c0002\"] = google.colab.output.setActiveOutputArea(window[\"1bb2e116-e2fd-11e9-a992-0242ac1c0002\"]);\n",
              "//# sourceURL=js_8ffb3320e3"
            ],
            "text/plain": [
              "<IPython.core.display.Javascript object>"
            ]
          },
          "metadata": {
            "tags": [
              "id500-0-0",
              "outputarea_id500"
            ]
          }
        },
        {
          "output_type": "display_data",
          "data": {
            "application/javascript": [
              "window[\"1bd91f66-e2fd-11e9-a992-0242ac1c0002\"] = google.colab.output.setActiveOutputArea(window[\"1bb27c62-e2fd-11e9-a992-0242ac1c0002\"]);\n",
              "//# sourceURL=js_1044054eb2"
            ],
            "text/plain": [
              "<IPython.core.display.Javascript object>"
            ]
          },
          "metadata": {
            "tags": [
              "id500-0-0",
              "outputarea_id500"
            ]
          }
        },
        {
          "output_type": "stream",
          "text": [
            "Probabilities and Possible positions for step 5: [(1.0, [3, 2])]\n"
          ],
          "name": "stdout"
        },
        {
          "output_type": "display_data",
          "data": {
            "application/javascript": [
              "window[\"1c7460a2-e2fd-11e9-a992-0242ac1c0002\"] = google.colab.output.getActiveOutputArea();\n",
              "//# sourceURL=js_bcff72a7bc"
            ],
            "text/plain": [
              "<IPython.core.display.Javascript object>"
            ]
          },
          "metadata": {
            "tags": [
              "id500-0-0",
              "outputarea_id500"
            ]
          }
        },
        {
          "output_type": "display_data",
          "data": {
            "application/javascript": [
              "window[\"1c74b32c-e2fd-11e9-a992-0242ac1c0002\"] = document.querySelector(\"#id500-0-0\");\n",
              "//# sourceURL=js_26e62872e4"
            ],
            "text/plain": [
              "<IPython.core.display.Javascript object>"
            ]
          },
          "metadata": {
            "tags": [
              "id500-0-0",
              "outputarea_id500"
            ]
          }
        },
        {
          "output_type": "display_data",
          "data": {
            "application/javascript": [
              "window[\"1c750336-e2fd-11e9-a992-0242ac1c0002\"] = google.colab.output.setActiveOutputArea(window[\"1c74b32c-e2fd-11e9-a992-0242ac1c0002\"]);\n",
              "//# sourceURL=js_a2cecd94a5"
            ],
            "text/plain": [
              "<IPython.core.display.Javascript object>"
            ]
          },
          "metadata": {
            "tags": [
              "id500-0-0",
              "outputarea_id500"
            ]
          }
        },
        {
          "output_type": "display_data",
          "data": {
            "application/javascript": [
              "window[\"1c9a931c-e2fd-11e9-a992-0242ac1c0002\"] = google.colab.output.setActiveOutputArea(window[\"1c7460a2-e2fd-11e9-a992-0242ac1c0002\"]);\n",
              "//# sourceURL=js_95b74e2c9b"
            ],
            "text/plain": [
              "<IPython.core.display.Javascript object>"
            ]
          },
          "metadata": {
            "tags": [
              "id500-0-0",
              "outputarea_id500"
            ]
          }
        },
        {
          "output_type": "stream",
          "text": [
            "Probabilities and Possible positions for step 6: [(1.0, [3, 3])]\n"
          ],
          "name": "stdout"
        },
        {
          "output_type": "display_data",
          "data": {
            "application/javascript": [
              "window[\"1d34efc0-e2fd-11e9-a992-0242ac1c0002\"] = google.colab.output.getActiveOutputArea();\n",
              "//# sourceURL=js_737d03af65"
            ],
            "text/plain": [
              "<IPython.core.display.Javascript object>"
            ]
          },
          "metadata": {
            "tags": [
              "id500-0-0",
              "outputarea_id500"
            ]
          }
        },
        {
          "output_type": "display_data",
          "data": {
            "application/javascript": [
              "window[\"1d357eea-e2fd-11e9-a992-0242ac1c0002\"] = document.querySelector(\"#id500-0-0\");\n",
              "//# sourceURL=js_8213561051"
            ],
            "text/plain": [
              "<IPython.core.display.Javascript object>"
            ]
          },
          "metadata": {
            "tags": [
              "id500-0-0",
              "outputarea_id500"
            ]
          }
        },
        {
          "output_type": "display_data",
          "data": {
            "application/javascript": [
              "window[\"1d35f078-e2fd-11e9-a992-0242ac1c0002\"] = google.colab.output.setActiveOutputArea(window[\"1d357eea-e2fd-11e9-a992-0242ac1c0002\"]);\n",
              "//# sourceURL=js_aff41ac211"
            ],
            "text/plain": [
              "<IPython.core.display.Javascript object>"
            ]
          },
          "metadata": {
            "tags": [
              "id500-0-0",
              "outputarea_id500"
            ]
          }
        },
        {
          "output_type": "display_data",
          "data": {
            "application/javascript": [
              "window[\"1d5af4b8-e2fd-11e9-a992-0242ac1c0002\"] = google.colab.output.setActiveOutputArea(window[\"1d34efc0-e2fd-11e9-a992-0242ac1c0002\"]);\n",
              "//# sourceURL=js_611e199d8f"
            ],
            "text/plain": [
              "<IPython.core.display.Javascript object>"
            ]
          },
          "metadata": {
            "tags": [
              "id500-0-0",
              "outputarea_id500"
            ]
          }
        },
        {
          "output_type": "stream",
          "text": [
            "No. of steps taken: 6 \n",
            "\n"
          ],
          "name": "stdout"
        },
        {
          "output_type": "display_data",
          "data": {
            "application/javascript": [
              "window[\"1df6bda8-e2fd-11e9-a992-0242ac1c0002\"] = google.colab.output.getActiveOutputArea();\n",
              "//# sourceURL=js_90865af2e2"
            ],
            "text/plain": [
              "<IPython.core.display.Javascript object>"
            ]
          },
          "metadata": {
            "tags": [
              "id500-0-0",
              "outputarea_id500"
            ]
          }
        },
        {
          "output_type": "display_data",
          "data": {
            "application/javascript": [
              "window[\"1df70696-e2fd-11e9-a992-0242ac1c0002\"] = document.querySelector(\"#id500-0-0\");\n",
              "//# sourceURL=js_539a9f034a"
            ],
            "text/plain": [
              "<IPython.core.display.Javascript object>"
            ]
          },
          "metadata": {
            "tags": [
              "id500-0-0",
              "outputarea_id500"
            ]
          }
        },
        {
          "output_type": "display_data",
          "data": {
            "application/javascript": [
              "window[\"1df75934-e2fd-11e9-a992-0242ac1c0002\"] = google.colab.output.setActiveOutputArea(window[\"1df70696-e2fd-11e9-a992-0242ac1c0002\"]);\n",
              "//# sourceURL=js_ad7c4763e6"
            ],
            "text/plain": [
              "<IPython.core.display.Javascript object>"
            ]
          },
          "metadata": {
            "tags": [
              "id500-0-0",
              "outputarea_id500"
            ]
          }
        },
        {
          "output_type": "display_data",
          "data": {
            "image/png": "[encoded data removed]",
            "text/plain": [
              "<Figure size 432x288 with 1 Axes>"
            ]
          },
          "metadata": {
            "tags": [
              "id500-0-0",
              "outputarea_id500",
              "user_output"
            ]
          }
        },
        {
          "output_type": "display_data",
          "data": {
            "application/javascript": [
              "window[\"1e1b05be-e2fd-11e9-a992-0242ac1c0002\"] = google.colab.output.setActiveOutputArea(window[\"1df6bda8-e2fd-11e9-a992-0242ac1c0002\"]);\n",
              "//# sourceURL=js_0bd10c04e2"
            ],
            "text/plain": [
              "<IPython.core.display.Javascript object>"
            ]
          },
          "metadata": {
            "tags": [
              "id500-0-0",
              "outputarea_id500"
            ]
          }
        },
        {
          "output_type": "stream",
          "text": [
            "Episode # 2\n"
          ],
          "name": "stdout"
        },
        {
          "output_type": "display_data",
          "data": {
            "text/html": [
              "<style>\n",
              "       table#id502, #id502 > tbody > tr > th, #id502 > tbody > tr > td {\n",
              "         border: 1px solid lightgray;\n",
              "         border-collapse:collapse;\n",
              "         \n",
              "        }</style>"
            ],
            "text/plain": [
              "<IPython.core.display.HTML object>"
            ]
          },
          "metadata": {
            "tags": [
              "outputarea_id502"
            ]
          }
        },
        {
          "output_type": "display_data",
          "data": {
            "text/html": [
              "<table id=id502><tr><td id=id502-0-0></td></tr></table>"
            ],
            "text/plain": [
              "<IPython.core.display.HTML object>"
            ]
          },
          "metadata": {
            "tags": [
              "outputarea_id502"
            ]
          }
        },
        {
          "output_type": "stream",
          "text": [
            "Probabilities and Possible positions for step 1: [(1.0, [1, 0])]\n"
          ],
          "name": "stdout"
        },
        {
          "output_type": "display_data",
          "data": {
            "application/javascript": [
              "window[\"1eb833f2-e2fd-11e9-a992-0242ac1c0002\"] = google.colab.output.getActiveOutputArea();\n",
              "//# sourceURL=js_144c3ada55"
            ],
            "text/plain": [
              "<IPython.core.display.Javascript object>"
            ]
          },
          "metadata": {
            "tags": [
              "id502-0-0",
              "outputarea_id502"
            ]
          }
        },
        {
          "output_type": "display_data",
          "data": {
            "application/javascript": [
              "window[\"1eb8c5e2-e2fd-11e9-a992-0242ac1c0002\"] = document.querySelector(\"#id502-0-0\");\n",
              "//# sourceURL=js_6b2e213441"
            ],
            "text/plain": [
              "<IPython.core.display.Javascript object>"
            ]
          },
          "metadata": {
            "tags": [
              "id502-0-0",
              "outputarea_id502"
            ]
          }
        },
        {
          "output_type": "display_data",
          "data": {
            "application/javascript": [
              "window[\"1eb948dc-e2fd-11e9-a992-0242ac1c0002\"] = google.colab.output.setActiveOutputArea(window[\"1eb8c5e2-e2fd-11e9-a992-0242ac1c0002\"]);\n",
              "//# sourceURL=js_b3d959e03e"
            ],
            "text/plain": [
              "<IPython.core.display.Javascript object>"
            ]
          },
          "metadata": {
            "tags": [
              "id502-0-0",
              "outputarea_id502"
            ]
          }
        },
        {
          "output_type": "display_data",
          "data": {
            "application/javascript": [
              "window[\"1ee121e0-e2fd-11e9-a992-0242ac1c0002\"] = google.colab.output.setActiveOutputArea(window[\"1eb833f2-e2fd-11e9-a992-0242ac1c0002\"]);\n",
              "//# sourceURL=js_f1ddb974a6"
            ],
            "text/plain": [
              "<IPython.core.display.Javascript object>"
            ]
          },
          "metadata": {
            "tags": [
              "id502-0-0",
              "outputarea_id502"
            ]
          }
        },
        {
          "output_type": "stream",
          "text": [
            "Probabilities and Possible positions for step 2: [(1.0, [2, 0])]\n"
          ],
          "name": "stdout"
        },
        {
          "output_type": "display_data",
          "data": {
            "application/javascript": [
              "window[\"1f7c21f4-e2fd-11e9-a992-0242ac1c0002\"] = google.colab.output.getActiveOutputArea();\n",
              "//# sourceURL=js_d0614379ca"
            ],
            "text/plain": [
              "<IPython.core.display.Javascript object>"
            ]
          },
          "metadata": {
            "tags": [
              "id502-0-0",
              "outputarea_id502"
            ]
          }
        },
        {
          "output_type": "display_data",
          "data": {
            "application/javascript": [
              "window[\"1f7c7b9a-e2fd-11e9-a992-0242ac1c0002\"] = document.querySelector(\"#id502-0-0\");\n",
              "//# sourceURL=js_0d8a0725cd"
            ],
            "text/plain": [
              "<IPython.core.display.Javascript object>"
            ]
          },
          "metadata": {
            "tags": [
              "id502-0-0",
              "outputarea_id502"
            ]
          }
        },
        {
          "output_type": "display_data",
          "data": {
            "application/javascript": [
              "window[\"1f7d6578-e2fd-11e9-a992-0242ac1c0002\"] = google.colab.output.setActiveOutputArea(window[\"1f7c7b9a-e2fd-11e9-a992-0242ac1c0002\"]);\n",
              "//# sourceURL=js_129b3783d8"
            ],
            "text/plain": [
              "<IPython.core.display.Javascript object>"
            ]
          },
          "metadata": {
            "tags": [
              "id502-0-0",
              "outputarea_id502"
            ]
          }
        },
        {
          "output_type": "display_data",
          "data": {
            "application/javascript": [
              "window[\"1fb29fcc-e2fd-11e9-a992-0242ac1c0002\"] = google.colab.output.setActiveOutputArea(window[\"1f7c21f4-e2fd-11e9-a992-0242ac1c0002\"]);\n",
              "//# sourceURL=js_fac08a79a7"
            ],
            "text/plain": [
              "<IPython.core.display.Javascript object>"
            ]
          },
          "metadata": {
            "tags": [
              "id502-0-0",
              "outputarea_id502"
            ]
          }
        },
        {
          "output_type": "stream",
          "text": [
            "Probabilities and Possible positions for step 3: [(1.0, [3, 0])]\n"
          ],
          "name": "stdout"
        },
        {
          "output_type": "display_data",
          "data": {
            "application/javascript": [
              "window[\"204d869a-e2fd-11e9-a992-0242ac1c0002\"] = google.colab.output.getActiveOutputArea();\n",
              "//# sourceURL=js_b77a28b972"
            ],
            "text/plain": [
              "<IPython.core.display.Javascript object>"
            ]
          },
          "metadata": {
            "tags": [
              "id502-0-0",
              "outputarea_id502"
            ]
          }
        },
        {
          "output_type": "display_data",
          "data": {
            "application/javascript": [
              "window[\"204dde7e-e2fd-11e9-a992-0242ac1c0002\"] = document.querySelector(\"#id502-0-0\");\n",
              "//# sourceURL=js_93675053d1"
            ],
            "text/plain": [
              "<IPython.core.display.Javascript object>"
            ]
          },
          "metadata": {
            "tags": [
              "id502-0-0",
              "outputarea_id502"
            ]
          }
        },
        {
          "output_type": "display_data",
          "data": {
            "application/javascript": [
              "window[\"204e2f64-e2fd-11e9-a992-0242ac1c0002\"] = google.colab.output.setActiveOutputArea(window[\"204dde7e-e2fd-11e9-a992-0242ac1c0002\"]);\n",
              "//# sourceURL=js_9aac031ca8"
            ],
            "text/plain": [
              "<IPython.core.display.Javascript object>"
            ]
          },
          "metadata": {
            "tags": [
              "id502-0-0",
              "outputarea_id502"
            ]
          }
        },
        {
          "output_type": "display_data",
          "data": {
            "application/javascript": [
              "window[\"2071acfa-e2fd-11e9-a992-0242ac1c0002\"] = google.colab.output.setActiveOutputArea(window[\"204d869a-e2fd-11e9-a992-0242ac1c0002\"]);\n",
              "//# sourceURL=js_65de560972"
            ],
            "text/plain": [
              "<IPython.core.display.Javascript object>"
            ]
          },
          "metadata": {
            "tags": [
              "id502-0-0",
              "outputarea_id502"
            ]
          }
        },
        {
          "output_type": "stream",
          "text": [
            "Probabilities and Possible positions for step 4: [(1.0, [3, 1])]\n"
          ],
          "name": "stdout"
        },
        {
          "output_type": "display_data",
          "data": {
            "application/javascript": [
              "window[\"210c7e56-e2fd-11e9-a992-0242ac1c0002\"] = google.colab.output.getActiveOutputArea();\n",
              "//# sourceURL=js_c303569ee1"
            ],
            "text/plain": [
              "<IPython.core.display.Javascript object>"
            ]
          },
          "metadata": {
            "tags": [
              "id502-0-0",
              "outputarea_id502"
            ]
          }
        },
        {
          "output_type": "display_data",
          "data": {
            "application/javascript": [
              "window[\"210cf372-e2fd-11e9-a992-0242ac1c0002\"] = document.querySelector(\"#id502-0-0\");\n",
              "//# sourceURL=js_ef7831574a"
            ],
            "text/plain": [
              "<IPython.core.display.Javascript object>"
            ]
          },
          "metadata": {
            "tags": [
              "id502-0-0",
              "outputarea_id502"
            ]
          }
        },
        {
          "output_type": "display_data",
          "data": {
            "application/javascript": [
              "window[\"210d641a-e2fd-11e9-a992-0242ac1c0002\"] = google.colab.output.setActiveOutputArea(window[\"210cf372-e2fd-11e9-a992-0242ac1c0002\"]);\n",
              "//# sourceURL=js_7fb8b905f5"
            ],
            "text/plain": [
              "<IPython.core.display.Javascript object>"
            ]
          },
          "metadata": {
            "tags": [
              "id502-0-0",
              "outputarea_id502"
            ]
          }
        },
        {
          "output_type": "display_data",
          "data": {
            "application/javascript": [
              "window[\"2133164c-e2fd-11e9-a992-0242ac1c0002\"] = google.colab.output.setActiveOutputArea(window[\"210c7e56-e2fd-11e9-a992-0242ac1c0002\"]);\n",
              "//# sourceURL=js_b3277ff6e1"
            ],
            "text/plain": [
              "<IPython.core.display.Javascript object>"
            ]
          },
          "metadata": {
            "tags": [
              "id502-0-0",
              "outputarea_id502"
            ]
          }
        },
        {
          "output_type": "stream",
          "text": [
            "Probabilities and Possible positions for step 5: [(1.0, [3, 2])]\n"
          ],
          "name": "stdout"
        },
        {
          "output_type": "display_data",
          "data": {
            "application/javascript": [
              "window[\"21cf62e0-e2fd-11e9-a992-0242ac1c0002\"] = google.colab.output.getActiveOutputArea();\n",
              "//# sourceURL=js_bd26bb733a"
            ],
            "text/plain": [
              "<IPython.core.display.Javascript object>"
            ]
          },
          "metadata": {
            "tags": [
              "id502-0-0",
              "outputarea_id502"
            ]
          }
        },
        {
          "output_type": "display_data",
          "data": {
            "application/javascript": [
              "window[\"21cfd734-e2fd-11e9-a992-0242ac1c0002\"] = document.querySelector(\"#id502-0-0\");\n",
              "//# sourceURL=js_563c7f482b"
            ],
            "text/plain": [
              "<IPython.core.display.Javascript object>"
            ]
          },
          "metadata": {
            "tags": [
              "id502-0-0",
              "outputarea_id502"
            ]
          }
        },
        {
          "output_type": "display_data",
          "data": {
            "application/javascript": [
              "window[\"21d044e4-e2fd-11e9-a992-0242ac1c0002\"] = google.colab.output.setActiveOutputArea(window[\"21cfd734-e2fd-11e9-a992-0242ac1c0002\"]);\n",
              "//# sourceURL=js_8c7c5765af"
            ],
            "text/plain": [
              "<IPython.core.display.Javascript object>"
            ]
          },
          "metadata": {
            "tags": [
              "id502-0-0",
              "outputarea_id502"
            ]
          }
        },
        {
          "output_type": "display_data",
          "data": {
            "application/javascript": [
              "window[\"21f5ff40-e2fd-11e9-a992-0242ac1c0002\"] = google.colab.output.setActiveOutputArea(window[\"21cf62e0-e2fd-11e9-a992-0242ac1c0002\"]);\n",
              "//# sourceURL=js_a4f39a63a0"
            ],
            "text/plain": [
              "<IPython.core.display.Javascript object>"
            ]
          },
          "metadata": {
            "tags": [
              "id502-0-0",
              "outputarea_id502"
            ]
          }
        },
        {
          "output_type": "stream",
          "text": [
            "Probabilities and Possible positions for step 6: [(1.0, [3, 3])]\n"
          ],
          "name": "stdout"
        },
        {
          "output_type": "display_data",
          "data": {
            "application/javascript": [
              "window[\"22916386-e2fd-11e9-a992-0242ac1c0002\"] = google.colab.output.getActiveOutputArea();\n",
              "//# sourceURL=js_90721e769f"
            ],
            "text/plain": [
              "<IPython.core.display.Javascript object>"
            ]
          },
          "metadata": {
            "tags": [
              "id502-0-0",
              "outputarea_id502"
            ]
          }
        },
        {
          "output_type": "display_data",
          "data": {
            "application/javascript": [
              "window[\"2291e252-e2fd-11e9-a992-0242ac1c0002\"] = document.querySelector(\"#id502-0-0\");\n",
              "//# sourceURL=js_dfd547aae5"
            ],
            "text/plain": [
              "<IPython.core.display.Javascript object>"
            ]
          },
          "metadata": {
            "tags": [
              "id502-0-0",
              "outputarea_id502"
            ]
          }
        },
        {
          "output_type": "display_data",
          "data": {
            "application/javascript": [
              "window[\"22924d3c-e2fd-11e9-a992-0242ac1c0002\"] = google.colab.output.setActiveOutputArea(window[\"2291e252-e2fd-11e9-a992-0242ac1c0002\"]);\n",
              "//# sourceURL=js_af4912fcc1"
            ],
            "text/plain": [
              "<IPython.core.display.Javascript object>"
            ]
          },
          "metadata": {
            "tags": [
              "id502-0-0",
              "outputarea_id502"
            ]
          }
        },
        {
          "output_type": "display_data",
          "data": {
            "application/javascript": [
              "window[\"22b7f5b4-e2fd-11e9-a992-0242ac1c0002\"] = google.colab.output.setActiveOutputArea(window[\"22916386-e2fd-11e9-a992-0242ac1c0002\"]);\n",
              "//# sourceURL=js_a76dab1380"
            ],
            "text/plain": [
              "<IPython.core.display.Javascript object>"
            ]
          },
          "metadata": {
            "tags": [
              "id502-0-0",
              "outputarea_id502"
            ]
          }
        },
        {
          "output_type": "stream",
          "text": [
            "No. of steps taken: 6 \n",
            "\n"
          ],
          "name": "stdout"
        },
        {
          "output_type": "display_data",
          "data": {
            "application/javascript": [
              "window[\"2352a6f4-e2fd-11e9-a992-0242ac1c0002\"] = google.colab.output.getActiveOutputArea();\n",
              "//# sourceURL=js_119182abd9"
            ],
            "text/plain": [
              "<IPython.core.display.Javascript object>"
            ]
          },
          "metadata": {
            "tags": [
              "id502-0-0",
              "outputarea_id502"
            ]
          }
        },
        {
          "output_type": "display_data",
          "data": {
            "application/javascript": [
              "window[\"2352fbcc-e2fd-11e9-a992-0242ac1c0002\"] = document.querySelector(\"#id502-0-0\");\n",
              "//# sourceURL=js_cd7ae7b543"
            ],
            "text/plain": [
              "<IPython.core.display.Javascript object>"
            ]
          },
          "metadata": {
            "tags": [
              "id502-0-0",
              "outputarea_id502"
            ]
          }
        },
        {
          "output_type": "display_data",
          "data": {
            "application/javascript": [
              "window[\"23536cb0-e2fd-11e9-a992-0242ac1c0002\"] = google.colab.output.setActiveOutputArea(window[\"2352fbcc-e2fd-11e9-a992-0242ac1c0002\"]);\n",
              "//# sourceURL=js_1835d98d0d"
            ],
            "text/plain": [
              "<IPython.core.display.Javascript object>"
            ]
          },
          "metadata": {
            "tags": [
              "id502-0-0",
              "outputarea_id502"
            ]
          }
        },
        {
          "output_type": "display_data",
          "data": {
            "image/png": "[encoded data removed]",
            "text/plain": [
              "<Figure size 432x288 with 1 Axes>"
            ]
          },
          "metadata": {
            "tags": [
              "id502-0-0",
              "outputarea_id502",
              "user_output"
            ]
          }
        },
        {
          "output_type": "display_data",
          "data": {
            "application/javascript": [
              "window[\"2378dbbc-e2fd-11e9-a992-0242ac1c0002\"] = google.colab.output.setActiveOutputArea(window[\"2352a6f4-e2fd-11e9-a992-0242ac1c0002\"]);\n",
              "//# sourceURL=js_9c553d4697"
            ],
            "text/plain": [
              "<IPython.core.display.Javascript object>"
            ]
          },
          "metadata": {
            "tags": [
              "id502-0-0",
              "outputarea_id502"
            ]
          }
        }
      ]
    },
    {
      "cell_type": "markdown",
      "metadata": {
        "id": "h_-0yOoiLdok",
        "colab_type": "text"
      },
      "source": [
        "## Building a Stochastic environment and using Q - Learning to solve it:\n",
        "\n",
        "In the Stochastic environment, the difference is that the lake may be slippery in nature, hence the agent may not be able to move in the intended direction and could move in a random fashion.\n",
        "\n",
        "In order to go ahead with this implementation, I will set the deterministic flag to false, hence making it a Stochastic implementation.\n",
        "\n",
        "random_start flag is set to true, which implies random position assignment has been switched on.\n",
        "\n",
        "maxsteps has been set to 20, since the environment is slippery and the agent can make a lot of confused/random movements.\n",
        "\n",
        "(0 - down\n",
        "\n",
        "1 - up\n",
        "\n",
        "2 - right\n",
        "\n",
        "3 - left)"
      ]
    },
    {
      "cell_type": "code",
      "metadata": {
        "id": "UpNIO2EoMXQQ",
        "colab_type": "code",
        "outputId": "0a9ff653-4f01-41b7-b1d6-5f6a7cb3f3cd",
        "colab": {
          "base_uri": "https://localhost:8080/",
          "height": 286
        }
      },
      "source": [
        "env = Environment(deterministic=False,maxsteps=20,random_start=True)\n",
        "obs = env.reset()\n",
        "print(\"Initial State:\",obs)\n",
        "env.render()"
      ],
      "execution_count": 0,
      "outputs": [
        {
          "output_type": "stream",
          "text": [
            "Initial State: 1\n"
          ],
          "name": "stdout"
        },
        {
          "output_type": "display_data",
          "data": {
            "image/png": "[encoded data removed]",
            "text/plain": [
              "<Figure size 432x288 with 1 Axes>"
            ]
          },
          "metadata": {
            "tags": []
          }
        }
      ]
    },
    {
      "cell_type": "code",
      "metadata": {
        "id": "cQFVegSJMaWQ",
        "colab_type": "code",
        "colab": {}
      },
      "source": [
        "#Note that the Q - learning agents have been defined in the same manner for both - deterministic and stochastic implementations\n",
        "class Q_learning_agent:\n",
        "  def __init__(self, env, learning_rate, gamma):\n",
        "    self.env = env\n",
        "    self.observation_space = env.observation_space\n",
        "    self.action_space = env.action_space\n",
        "    self.learning_rate = learning_rate\n",
        "    self.gamma = gamma\n",
        "    self.q_table = np.zeros((self.observation_space.n, self.action_space.n))\n",
        "  \n",
        "  def steps(self, state, tradeoff, epsilon):\n",
        "    # Exploit (the biggest Q value for this state)\n",
        "    if tradeoff > epsilon:\n",
        "      ac = np.argmax(self.q_table[state,:])\n",
        "    # Else doing a random choice - exploration\n",
        "    else:\n",
        "      ac = self.action_space.sample()\n",
        "    return ac\n",
        "  \n",
        "  def update(self, state, action, new_state, reward):   #update q table \n",
        "    self.q_table[state, action] = self.q_table[state, action] + ( self.learning_rate * (reward + self.gamma * np.max(self.q_table[new_state, :]) - self.q_table[state, action]) )\n",
        "    \n",
        "  def get_Q_table(self):\n",
        "    return self.q_table"
      ],
      "execution_count": 0,
      "outputs": []
    },
    {
      "cell_type": "code",
      "metadata": {
        "id": "TYeFzDmNMuH2",
        "colab_type": "code",
        "colab": {}
      },
      "source": [
        "#Defining Exploration Parameters\n",
        "q_agent = Q_learning_agent(env, learning_rate=0.95, gamma=0.96)\n",
        "total_episodes = 10000\n",
        "\n",
        "# Exploration parameters\n",
        "epsilon = 1.0                 # Exploration rate\n",
        "max_epsilon = 1.0             # Exploration probability at start\n",
        "min_epsilon = 0.01            # Minimum exploration probability \n",
        "decay_rate = 0.005            # Exponential decay rate for exploration prob"
      ],
      "execution_count": 0,
      "outputs": []
    },
    {
      "cell_type": "code",
      "metadata": {
        "id": "wF_BdNOCND_Z",
        "colab_type": "code",
        "outputId": "47447de9-24b8-485c-ce2f-707e72e17305",
        "colab": {
          "base_uri": "https://localhost:8080/",
          "height": 1000
        }
      },
      "source": [
        "\"\"\"\n",
        "One can see that the agent has reached the goal in some cases but at the same time it has'nt been able to do so in certain other cases.\n",
        "This can be due to the distribution of probabilities in its movement (i.e. Stochastic Environment).\n",
        "I have used 0.7 as a probability for directions, to make it easier to reach the goal.\n",
        "In a stochastic model, the chance of showing untrained behaviour is huge since we are randomising the agent's position.\n",
        "Agent shows better behavior with a fixed position.\n",
        "\"\"\"\n",
        "rewards = []\n",
        "epsilons = []\n",
        "state = env.reset()\n",
        "\n",
        "time.sleep(0.25)\n",
        "\n",
        "for episode in range(total_episodes):\n",
        "  state = env.reset()\n",
        "  total_rewards = 0\n",
        "  done = False\n",
        "  \n",
        "  if episode % 1000 == 0:\n",
        "    print ('Episode No:', episode+1)\n",
        "    \n",
        "  while not done:\n",
        "    tradeoff = random.uniform(0, 1)\n",
        "    action = q_agent.steps(state, tradeoff, epsilon)\n",
        "    new_state, reward, done, info = q_agent.env.steps(action)\n",
        "    \n",
        "    #similar to stochastic gradient descent\n",
        "    q_agent.update(state, action, new_state, reward)\n",
        "    \n",
        "    total_rewards += reward\n",
        "    \n",
        "    state = new_state\n",
        "    \n",
        "\n",
        "  if episode % 1000 == 0:\n",
        "    print_grid = widgets.Grid(1, 1)\n",
        "    with print_grid.output_to(0, 0):\n",
        "      print_grid.clear_cell()\n",
        "      env.render()\n",
        "    print(q_agent.env.get_state())\n",
        "  epsilon = min_epsilon + (max_epsilon - min_epsilon)*np.exp(-decay_rate*episode)\n",
        "  epsilons.append(epsilon)\n",
        "  rewards.append(total_rewards)"
      ],
      "execution_count": 0,
      "outputs": [
        {
          "output_type": "stream",
          "text": [
            "Episode No: 1\n"
          ],
          "name": "stdout"
        },
        {
          "output_type": "display_data",
          "data": {
            "text/html": [
              "<style>\n",
              "       table#id504, #id504 > tbody > tr > th, #id504 > tbody > tr > td {\n",
              "         border: 1px solid lightgray;\n",
              "         border-collapse:collapse;\n",
              "         \n",
              "        }</style>"
            ],
            "text/plain": [
              "<IPython.core.display.HTML object>"
            ]
          },
          "metadata": {
            "tags": [
              "outputarea_id504"
            ]
          }
        },
        {
          "output_type": "display_data",
          "data": {
            "text/html": [
              "<table id=id504><tr><td id=id504-0-0></td></tr></table>"
            ],
            "text/plain": [
              "<IPython.core.display.HTML object>"
            ]
          },
          "metadata": {
            "tags": [
              "outputarea_id504"
            ]
          }
        },
        {
          "output_type": "display_data",
          "data": {
            "application/javascript": [
              "window[\"2472c744-e2fd-11e9-a992-0242ac1c0002\"] = google.colab.output.getActiveOutputArea();\n",
              "//# sourceURL=js_f71ae7ad64"
            ],
            "text/plain": [
              "<IPython.core.display.Javascript object>"
            ]
          },
          "metadata": {
            "tags": [
              "id504-0-0",
              "outputarea_id504"
            ]
          }
        },
        {
          "output_type": "display_data",
          "data": {
            "application/javascript": [
              "window[\"247325d6-e2fd-11e9-a992-0242ac1c0002\"] = document.querySelector(\"#id504-0-0\");\n",
              "//# sourceURL=js_2ede688f16"
            ],
            "text/plain": [
              "<IPython.core.display.Javascript object>"
            ]
          },
          "metadata": {
            "tags": [
              "id504-0-0",
              "outputarea_id504"
            ]
          }
        },
        {
          "output_type": "display_data",
          "data": {
            "application/javascript": [
              "window[\"247378e2-e2fd-11e9-a992-0242ac1c0002\"] = google.colab.output.setActiveOutputArea(window[\"247325d6-e2fd-11e9-a992-0242ac1c0002\"]);\n",
              "//# sourceURL=js_533e3642e5"
            ],
            "text/plain": [
              "<IPython.core.display.Javascript object>"
            ]
          },
          "metadata": {
            "tags": [
              "id504-0-0",
              "outputarea_id504"
            ]
          }
        },
        {
          "output_type": "display_data",
          "data": {
            "image/png": "[encoded data removed]",
            "text/plain": [
              "<Figure size 432x288 with 1 Axes>"
            ]
          },
          "metadata": {
            "tags": [
              "id504-0-0",
              "outputarea_id504",
              "user_output"
            ]
          }
        },
        {
          "output_type": "display_data",
          "data": {
            "application/javascript": [
              "window[\"2496ff7e-e2fd-11e9-a992-0242ac1c0002\"] = google.colab.output.setActiveOutputArea(window[\"2472c744-e2fd-11e9-a992-0242ac1c0002\"]);\n",
              "//# sourceURL=js_246e8db14d"
            ],
            "text/plain": [
              "<IPython.core.display.Javascript object>"
            ]
          },
          "metadata": {
            "tags": [
              "id504-0-0",
              "outputarea_id504"
            ]
          }
        },
        {
          "output_type": "stream",
          "text": [
            "[[0.  0.  0.  0. ]\n",
            " [0.  0.2 0.  0.2]\n",
            " [0.  0.  0.  0.2]\n",
            " [0.  0.  0.  1. ]]\n",
            "Episode No: 1001\n"
          ],
          "name": "stdout"
        },
        {
          "output_type": "display_data",
          "data": {
            "text/html": [
              "<style>\n",
              "       table#id506, #id506 > tbody > tr > th, #id506 > tbody > tr > td {\n",
              "         border: 1px solid lightgray;\n",
              "         border-collapse:collapse;\n",
              "         \n",
              "        }</style>"
            ],
            "text/plain": [
              "<IPython.core.display.HTML object>"
            ]
          },
          "metadata": {
            "tags": [
              "outputarea_id506"
            ]
          }
        },
        {
          "output_type": "display_data",
          "data": {
            "text/html": [
              "<table id=id506><tr><td id=id506-0-0></td></tr></table>"
            ],
            "text/plain": [
              "<IPython.core.display.HTML object>"
            ]
          },
          "metadata": {
            "tags": [
              "outputarea_id506"
            ]
          }
        },
        {
          "output_type": "display_data",
          "data": {
            "application/javascript": [
              "window[\"254d3528-e2fd-11e9-a992-0242ac1c0002\"] = google.colab.output.getActiveOutputArea();\n",
              "//# sourceURL=js_d19c867843"
            ],
            "text/plain": [
              "<IPython.core.display.Javascript object>"
            ]
          },
          "metadata": {
            "tags": [
              "id506-0-0",
              "outputarea_id506"
            ]
          }
        },
        {
          "output_type": "display_data",
          "data": {
            "application/javascript": [
              "window[\"254d7fa6-e2fd-11e9-a992-0242ac1c0002\"] = document.querySelector(\"#id506-0-0\");\n",
              "//# sourceURL=js_d917b1df85"
            ],
            "text/plain": [
              "<IPython.core.display.Javascript object>"
            ]
          },
          "metadata": {
            "tags": [
              "id506-0-0",
              "outputarea_id506"
            ]
          }
        },
        {
          "output_type": "display_data",
          "data": {
            "application/javascript": [
              "window[\"254dc790-e2fd-11e9-a992-0242ac1c0002\"] = google.colab.output.setActiveOutputArea(window[\"254d7fa6-e2fd-11e9-a992-0242ac1c0002\"]);\n",
              "//# sourceURL=js_1a7427cff9"
            ],
            "text/plain": [
              "<IPython.core.display.Javascript object>"
            ]
          },
          "metadata": {
            "tags": [
              "id506-0-0",
              "outputarea_id506"
            ]
          }
        },
        {
          "output_type": "display_data",
          "data": {
            "image/png": "[encoded data removed]",
            "text/plain": [
              "<Figure size 432x288 with 1 Axes>"
            ]
          },
          "metadata": {
            "tags": [
              "id506-0-0",
              "outputarea_id506",
              "user_output"
            ]
          }
        },
        {
          "output_type": "display_data",
          "data": {
            "application/javascript": [
              "window[\"2571d57c-e2fd-11e9-a992-0242ac1c0002\"] = google.colab.output.setActiveOutputArea(window[\"254d3528-e2fd-11e9-a992-0242ac1c0002\"]);\n",
              "//# sourceURL=js_fa5ee96687"
            ],
            "text/plain": [
              "<IPython.core.display.Javascript object>"
            ]
          },
          "metadata": {
            "tags": [
              "id506-0-0",
              "outputarea_id506"
            ]
          }
        },
        {
          "output_type": "stream",
          "text": [
            "[[0.  0.  0.  0. ]\n",
            " [0.  0.2 0.  0.2]\n",
            " [0.  0.  0.  0.2]\n",
            " [0.  0.  0.  1. ]]\n",
            "Episode No: 2001\n"
          ],
          "name": "stdout"
        },
        {
          "output_type": "display_data",
          "data": {
            "text/html": [
              "<style>\n",
              "       table#id508, #id508 > tbody > tr > th, #id508 > tbody > tr > td {\n",
              "         border: 1px solid lightgray;\n",
              "         border-collapse:collapse;\n",
              "         \n",
              "        }</style>"
            ],
            "text/plain": [
              "<IPython.core.display.HTML object>"
            ]
          },
          "metadata": {
            "tags": [
              "outputarea_id508"
            ]
          }
        },
        {
          "output_type": "display_data",
          "data": {
            "text/html": [
              "<table id=id508><tr><td id=id508-0-0></td></tr></table>"
            ],
            "text/plain": [
              "<IPython.core.display.HTML object>"
            ]
          },
          "metadata": {
            "tags": [
              "outputarea_id508"
            ]
          }
        },
        {
          "output_type": "display_data",
          "data": {
            "application/javascript": [
              "window[\"265c73ca-e2fd-11e9-a992-0242ac1c0002\"] = google.colab.output.getActiveOutputArea();\n",
              "//# sourceURL=js_8a6ba1f567"
            ],
            "text/plain": [
              "<IPython.core.display.Javascript object>"
            ]
          },
          "metadata": {
            "tags": [
              "id508-0-0",
              "outputarea_id508"
            ]
          }
        },
        {
          "output_type": "display_data",
          "data": {
            "application/javascript": [
              "window[\"265cbd80-e2fd-11e9-a992-0242ac1c0002\"] = document.querySelector(\"#id508-0-0\");\n",
              "//# sourceURL=js_4944139e00"
            ],
            "text/plain": [
              "<IPython.core.display.Javascript object>"
            ]
          },
          "metadata": {
            "tags": [
              "id508-0-0",
              "outputarea_id508"
            ]
          }
        },
        {
          "output_type": "display_data",
          "data": {
            "application/javascript": [
              "window[\"265cfdf4-e2fd-11e9-a992-0242ac1c0002\"] = google.colab.output.setActiveOutputArea(window[\"265cbd80-e2fd-11e9-a992-0242ac1c0002\"]);\n",
              "//# sourceURL=js_1f5f7f6eec"
            ],
            "text/plain": [
              "<IPython.core.display.Javascript object>"
            ]
          },
          "metadata": {
            "tags": [
              "id508-0-0",
              "outputarea_id508"
            ]
          }
        },
        {
          "output_type": "display_data",
          "data": {
            "image/png": "[encoded data removed]",
            "text/plain": [
              "<Figure size 432x288 with 1 Axes>"
            ]
          },
          "metadata": {
            "tags": [
              "id508-0-0",
              "outputarea_id508",
              "user_output"
            ]
          }
        },
        {
          "output_type": "display_data",
          "data": {
            "application/javascript": [
              "window[\"268162b6-e2fd-11e9-a992-0242ac1c0002\"] = google.colab.output.setActiveOutputArea(window[\"265c73ca-e2fd-11e9-a992-0242ac1c0002\"]);\n",
              "//# sourceURL=js_a84e72ef99"
            ],
            "text/plain": [
              "<IPython.core.display.Javascript object>"
            ]
          },
          "metadata": {
            "tags": [
              "id508-0-0",
              "outputarea_id508"
            ]
          }
        },
        {
          "output_type": "stream",
          "text": [
            "[[0.  0.  0.  0. ]\n",
            " [0.  0.2 0.  0.2]\n",
            " [0.  0.  0.  0.2]\n",
            " [0.  0.  0.  1. ]]\n",
            "Episode No: 3001\n"
          ],
          "name": "stdout"
        },
        {
          "output_type": "display_data",
          "data": {
            "text/html": [
              "<style>\n",
              "       table#id510, #id510 > tbody > tr > th, #id510 > tbody > tr > td {\n",
              "         border: 1px solid lightgray;\n",
              "         border-collapse:collapse;\n",
              "         \n",
              "        }</style>"
            ],
            "text/plain": [
              "<IPython.core.display.HTML object>"
            ]
          },
          "metadata": {
            "tags": [
              "outputarea_id510"
            ]
          }
        },
        {
          "output_type": "display_data",
          "data": {
            "text/html": [
              "<table id=id510><tr><td id=id510-0-0></td></tr></table>"
            ],
            "text/plain": [
              "<IPython.core.display.HTML object>"
            ]
          },
          "metadata": {
            "tags": [
              "outputarea_id510"
            ]
          }
        },
        {
          "output_type": "display_data",
          "data": {
            "application/javascript": [
              "window[\"2768f694-e2fd-11e9-a992-0242ac1c0002\"] = google.colab.output.getActiveOutputArea();\n",
              "//# sourceURL=js_3b8ae11402"
            ],
            "text/plain": [
              "<IPython.core.display.Javascript object>"
            ]
          },
          "metadata": {
            "tags": [
              "id510-0-0",
              "outputarea_id510"
            ]
          }
        },
        {
          "output_type": "display_data",
          "data": {
            "application/javascript": [
              "window[\"276942ac-e2fd-11e9-a992-0242ac1c0002\"] = document.querySelector(\"#id510-0-0\");\n",
              "//# sourceURL=js_ac2cb47cc0"
            ],
            "text/plain": [
              "<IPython.core.display.Javascript object>"
            ]
          },
          "metadata": {
            "tags": [
              "id510-0-0",
              "outputarea_id510"
            ]
          }
        },
        {
          "output_type": "display_data",
          "data": {
            "application/javascript": [
              "window[\"276990ae-e2fd-11e9-a992-0242ac1c0002\"] = google.colab.output.setActiveOutputArea(window[\"276942ac-e2fd-11e9-a992-0242ac1c0002\"]);\n",
              "//# sourceURL=js_8914ed23cd"
            ],
            "text/plain": [
              "<IPython.core.display.Javascript object>"
            ]
          },
          "metadata": {
            "tags": [
              "id510-0-0",
              "outputarea_id510"
            ]
          }
        },
        {
          "output_type": "display_data",
          "data": {
            "image/png": "[encoded data removed]",
            "text/plain": [
              "<Figure size 432x288 with 1 Axes>"
            ]
          },
          "metadata": {
            "tags": [
              "id510-0-0",
              "outputarea_id510",
              "user_output"
            ]
          }
        },
        {
          "output_type": "display_data",
          "data": {
            "application/javascript": [
              "window[\"278ee458-e2fd-11e9-a992-0242ac1c0002\"] = google.colab.output.setActiveOutputArea(window[\"2768f694-e2fd-11e9-a992-0242ac1c0002\"]);\n",
              "//# sourceURL=js_c5049b3cf2"
            ],
            "text/plain": [
              "<IPython.core.display.Javascript object>"
            ]
          },
          "metadata": {
            "tags": [
              "id510-0-0",
              "outputarea_id510"
            ]
          }
        },
        {
          "output_type": "stream",
          "text": [
            "[[0.  0.  0.  0. ]\n",
            " [0.  0.2 0.  0.2]\n",
            " [0.  0.  0.  0.2]\n",
            " [0.  0.  0.  1. ]]\n",
            "Episode No: 4001\n"
          ],
          "name": "stdout"
        },
        {
          "output_type": "display_data",
          "data": {
            "text/html": [
              "<style>\n",
              "       table#id512, #id512 > tbody > tr > th, #id512 > tbody > tr > td {\n",
              "         border: 1px solid lightgray;\n",
              "         border-collapse:collapse;\n",
              "         \n",
              "        }</style>"
            ],
            "text/plain": [
              "<IPython.core.display.HTML object>"
            ]
          },
          "metadata": {
            "tags": [
              "outputarea_id512"
            ]
          }
        },
        {
          "output_type": "display_data",
          "data": {
            "text/html": [
              "<table id=id512><tr><td id=id512-0-0></td></tr></table>"
            ],
            "text/plain": [
              "<IPython.core.display.HTML object>"
            ]
          },
          "metadata": {
            "tags": [
              "outputarea_id512"
            ]
          }
        },
        {
          "output_type": "display_data",
          "data": {
            "application/javascript": [
              "window[\"287250f8-e2fd-11e9-a992-0242ac1c0002\"] = google.colab.output.getActiveOutputArea();\n",
              "//# sourceURL=js_857453fd3e"
            ],
            "text/plain": [
              "<IPython.core.display.Javascript object>"
            ]
          },
          "metadata": {
            "tags": [
              "id512-0-0",
              "outputarea_id512"
            ]
          }
        },
        {
          "output_type": "display_data",
          "data": {
            "application/javascript": [
              "window[\"28728d2a-e2fd-11e9-a992-0242ac1c0002\"] = document.querySelector(\"#id512-0-0\");\n",
              "//# sourceURL=js_7bdc471b3b"
            ],
            "text/plain": [
              "<IPython.core.display.Javascript object>"
            ]
          },
          "metadata": {
            "tags": [
              "id512-0-0",
              "outputarea_id512"
            ]
          }
        },
        {
          "output_type": "display_data",
          "data": {
            "application/javascript": [
              "window[\"2872cf7e-e2fd-11e9-a992-0242ac1c0002\"] = google.colab.output.setActiveOutputArea(window[\"28728d2a-e2fd-11e9-a992-0242ac1c0002\"]);\n",
              "//# sourceURL=js_840ab6391a"
            ],
            "text/plain": [
              "<IPython.core.display.Javascript object>"
            ]
          },
          "metadata": {
            "tags": [
              "id512-0-0",
              "outputarea_id512"
            ]
          }
        },
        {
          "output_type": "display_data",
          "data": {
            "image/png": "[encoded data removed]",
            "text/plain": [
              "<Figure size 432x288 with 1 Axes>"
            ]
          },
          "metadata": {
            "tags": [
              "id512-0-0",
              "outputarea_id512",
              "user_output"
            ]
          }
        },
        {
          "output_type": "display_data",
          "data": {
            "application/javascript": [
              "window[\"28965d4a-e2fd-11e9-a992-0242ac1c0002\"] = google.colab.output.setActiveOutputArea(window[\"287250f8-e2fd-11e9-a992-0242ac1c0002\"]);\n",
              "//# sourceURL=js_d1b35d1248"
            ],
            "text/plain": [
              "<IPython.core.display.Javascript object>"
            ]
          },
          "metadata": {
            "tags": [
              "id512-0-0",
              "outputarea_id512"
            ]
          }
        },
        {
          "output_type": "stream",
          "text": [
            "[[0.  0.  0.  0. ]\n",
            " [0.  0.2 0.  0.2]\n",
            " [0.  0.  0.  0.2]\n",
            " [0.  0.  0.  1. ]]\n",
            "Episode No: 5001\n"
          ],
          "name": "stdout"
        },
        {
          "output_type": "display_data",
          "data": {
            "text/html": [
              "<style>\n",
              "       table#id514, #id514 > tbody > tr > th, #id514 > tbody > tr > td {\n",
              "         border: 1px solid lightgray;\n",
              "         border-collapse:collapse;\n",
              "         \n",
              "        }</style>"
            ],
            "text/plain": [
              "<IPython.core.display.HTML object>"
            ]
          },
          "metadata": {
            "tags": [
              "outputarea_id514"
            ]
          }
        },
        {
          "output_type": "display_data",
          "data": {
            "text/html": [
              "<table id=id514><tr><td id=id514-0-0></td></tr></table>"
            ],
            "text/plain": [
              "<IPython.core.display.HTML object>"
            ]
          },
          "metadata": {
            "tags": [
              "outputarea_id514"
            ]
          }
        },
        {
          "output_type": "display_data",
          "data": {
            "application/javascript": [
              "window[\"297e0f46-e2fd-11e9-a992-0242ac1c0002\"] = google.colab.output.getActiveOutputArea();\n",
              "//# sourceURL=js_989c722887"
            ],
            "text/plain": [
              "<IPython.core.display.Javascript object>"
            ]
          },
          "metadata": {
            "tags": [
              "id514-0-0",
              "outputarea_id514"
            ]
          }
        },
        {
          "output_type": "display_data",
          "data": {
            "application/javascript": [
              "window[\"297e5cc6-e2fd-11e9-a992-0242ac1c0002\"] = document.querySelector(\"#id514-0-0\");\n",
              "//# sourceURL=js_3c8a9e7c18"
            ],
            "text/plain": [
              "<IPython.core.display.Javascript object>"
            ]
          },
          "metadata": {
            "tags": [
              "id514-0-0",
              "outputarea_id514"
            ]
          }
        },
        {
          "output_type": "display_data",
          "data": {
            "application/javascript": [
              "window[\"297ea55a-e2fd-11e9-a992-0242ac1c0002\"] = google.colab.output.setActiveOutputArea(window[\"297e5cc6-e2fd-11e9-a992-0242ac1c0002\"]);\n",
              "//# sourceURL=js_d7e6d79e26"
            ],
            "text/plain": [
              "<IPython.core.display.Javascript object>"
            ]
          },
          "metadata": {
            "tags": [
              "id514-0-0",
              "outputarea_id514"
            ]
          }
        },
        {
          "output_type": "display_data",
          "data": {
            "image/png": "[encoded data removed]",
            "text/plain": [
              "<Figure size 432x288 with 1 Axes>"
            ]
          },
          "metadata": {
            "tags": [
              "id514-0-0",
              "outputarea_id514",
              "user_output"
            ]
          }
        },
        {
          "output_type": "display_data",
          "data": {
            "application/javascript": [
              "window[\"29a2617a-e2fd-11e9-a992-0242ac1c0002\"] = google.colab.output.setActiveOutputArea(window[\"297e0f46-e2fd-11e9-a992-0242ac1c0002\"]);\n",
              "//# sourceURL=js_6e5a776229"
            ],
            "text/plain": [
              "<IPython.core.display.Javascript object>"
            ]
          },
          "metadata": {
            "tags": [
              "id514-0-0",
              "outputarea_id514"
            ]
          }
        },
        {
          "output_type": "stream",
          "text": [
            "[[0.  0.  0.  0. ]\n",
            " [0.  0.2 0.  0.2]\n",
            " [0.  0.  0.  0.2]\n",
            " [0.  0.  0.  1. ]]\n",
            "Episode No: 6001\n"
          ],
          "name": "stdout"
        },
        {
          "output_type": "display_data",
          "data": {
            "text/html": [
              "<style>\n",
              "       table#id516, #id516 > tbody > tr > th, #id516 > tbody > tr > td {\n",
              "         border: 1px solid lightgray;\n",
              "         border-collapse:collapse;\n",
              "         \n",
              "        }</style>"
            ],
            "text/plain": [
              "<IPython.core.display.HTML object>"
            ]
          },
          "metadata": {
            "tags": [
              "outputarea_id516"
            ]
          }
        },
        {
          "output_type": "display_data",
          "data": {
            "text/html": [
              "<table id=id516><tr><td id=id516-0-0></td></tr></table>"
            ],
            "text/plain": [
              "<IPython.core.display.HTML object>"
            ]
          },
          "metadata": {
            "tags": [
              "outputarea_id516"
            ]
          }
        },
        {
          "output_type": "display_data",
          "data": {
            "application/javascript": [
              "window[\"2a86c4f0-e2fd-11e9-a992-0242ac1c0002\"] = google.colab.output.getActiveOutputArea();\n",
              "//# sourceURL=js_ec63dcc973"
            ],
            "text/plain": [
              "<IPython.core.display.Javascript object>"
            ]
          },
          "metadata": {
            "tags": [
              "id516-0-0",
              "outputarea_id516"
            ]
          }
        },
        {
          "output_type": "display_data",
          "data": {
            "application/javascript": [
              "window[\"2a870fbe-e2fd-11e9-a992-0242ac1c0002\"] = document.querySelector(\"#id516-0-0\");\n",
              "//# sourceURL=js_029c5a664b"
            ],
            "text/plain": [
              "<IPython.core.display.Javascript object>"
            ]
          },
          "metadata": {
            "tags": [
              "id516-0-0",
              "outputarea_id516"
            ]
          }
        },
        {
          "output_type": "display_data",
          "data": {
            "application/javascript": [
              "window[\"2a875938-e2fd-11e9-a992-0242ac1c0002\"] = google.colab.output.setActiveOutputArea(window[\"2a870fbe-e2fd-11e9-a992-0242ac1c0002\"]);\n",
              "//# sourceURL=js_fbf3d3ca14"
            ],
            "text/plain": [
              "<IPython.core.display.Javascript object>"
            ]
          },
          "metadata": {
            "tags": [
              "id516-0-0",
              "outputarea_id516"
            ]
          }
        },
        {
          "output_type": "display_data",
          "data": {
            "image/png": "[encoded data removed]",
            "text/plain": [
              "<Figure size 432x288 with 1 Axes>"
            ]
          },
          "metadata": {
            "tags": [
              "id516-0-0",
              "outputarea_id516",
              "user_output"
            ]
          }
        },
        {
          "output_type": "display_data",
          "data": {
            "application/javascript": [
              "window[\"2aad41e8-e2fd-11e9-a992-0242ac1c0002\"] = google.colab.output.setActiveOutputArea(window[\"2a86c4f0-e2fd-11e9-a992-0242ac1c0002\"]);\n",
              "//# sourceURL=js_15b4d8db21"
            ],
            "text/plain": [
              "<IPython.core.display.Javascript object>"
            ]
          },
          "metadata": {
            "tags": [
              "id516-0-0",
              "outputarea_id516"
            ]
          }
        },
        {
          "output_type": "stream",
          "text": [
            "[[0.  0.  0.  0. ]\n",
            " [0.  0.2 0.  0.2]\n",
            " [0.  0.  0.  0.2]\n",
            " [0.  0.  0.  1. ]]\n",
            "Episode No: 7001\n"
          ],
          "name": "stdout"
        },
        {
          "output_type": "display_data",
          "data": {
            "text/html": [
              "<style>\n",
              "       table#id518, #id518 > tbody > tr > th, #id518 > tbody > tr > td {\n",
              "         border: 1px solid lightgray;\n",
              "         border-collapse:collapse;\n",
              "         \n",
              "        }</style>"
            ],
            "text/plain": [
              "<IPython.core.display.HTML object>"
            ]
          },
          "metadata": {
            "tags": [
              "outputarea_id518"
            ]
          }
        },
        {
          "output_type": "display_data",
          "data": {
            "text/html": [
              "<table id=id518><tr><td id=id518-0-0></td></tr></table>"
            ],
            "text/plain": [
              "<IPython.core.display.HTML object>"
            ]
          },
          "metadata": {
            "tags": [
              "outputarea_id518"
            ]
          }
        },
        {
          "output_type": "display_data",
          "data": {
            "application/javascript": [
              "window[\"2b9596f0-e2fd-11e9-a992-0242ac1c0002\"] = google.colab.output.getActiveOutputArea();\n",
              "//# sourceURL=js_a3920df5c8"
            ],
            "text/plain": [
              "<IPython.core.display.Javascript object>"
            ]
          },
          "metadata": {
            "tags": [
              "id518-0-0",
              "outputarea_id518"
            ]
          }
        },
        {
          "output_type": "display_data",
          "data": {
            "application/javascript": [
              "window[\"2b95f596-e2fd-11e9-a992-0242ac1c0002\"] = document.querySelector(\"#id518-0-0\");\n",
              "//# sourceURL=js_2fd103cd30"
            ],
            "text/plain": [
              "<IPython.core.display.Javascript object>"
            ]
          },
          "metadata": {
            "tags": [
              "id518-0-0",
              "outputarea_id518"
            ]
          }
        },
        {
          "output_type": "display_data",
          "data": {
            "application/javascript": [
              "window[\"2b964f50-e2fd-11e9-a992-0242ac1c0002\"] = google.colab.output.setActiveOutputArea(window[\"2b95f596-e2fd-11e9-a992-0242ac1c0002\"]);\n",
              "//# sourceURL=js_bf7f054bf0"
            ],
            "text/plain": [
              "<IPython.core.display.Javascript object>"
            ]
          },
          "metadata": {
            "tags": [
              "id518-0-0",
              "outputarea_id518"
            ]
          }
        },
        {
          "output_type": "display_data",
          "data": {
            "image/png": "[encoded data removed]",
            "text/plain": [
              "<Figure size 432x288 with 1 Axes>"
            ]
          },
          "metadata": {
            "tags": [
              "id518-0-0",
              "outputarea_id518",
              "user_output"
            ]
          }
        },
        {
          "output_type": "display_data",
          "data": {
            "application/javascript": [
              "window[\"2bbb07e6-e2fd-11e9-a992-0242ac1c0002\"] = google.colab.output.setActiveOutputArea(window[\"2b9596f0-e2fd-11e9-a992-0242ac1c0002\"]);\n",
              "//# sourceURL=js_b455d9b495"
            ],
            "text/plain": [
              "<IPython.core.display.Javascript object>"
            ]
          },
          "metadata": {
            "tags": [
              "id518-0-0",
              "outputarea_id518"
            ]
          }
        },
        {
          "output_type": "stream",
          "text": [
            "[[0.  0.  0.  0. ]\n",
            " [0.  0.2 0.  0.2]\n",
            " [0.  0.  0.  0.2]\n",
            " [0.  0.  0.  1. ]]\n",
            "Episode No: 8001\n"
          ],
          "name": "stdout"
        },
        {
          "output_type": "display_data",
          "data": {
            "text/html": [
              "<style>\n",
              "       table#id520, #id520 > tbody > tr > th, #id520 > tbody > tr > td {\n",
              "         border: 1px solid lightgray;\n",
              "         border-collapse:collapse;\n",
              "         \n",
              "        }</style>"
            ],
            "text/plain": [
              "<IPython.core.display.HTML object>"
            ]
          },
          "metadata": {
            "tags": [
              "outputarea_id520"
            ]
          }
        },
        {
          "output_type": "display_data",
          "data": {
            "text/html": [
              "<table id=id520><tr><td id=id520-0-0></td></tr></table>"
            ],
            "text/plain": [
              "<IPython.core.display.HTML object>"
            ]
          },
          "metadata": {
            "tags": [
              "outputarea_id520"
            ]
          }
        },
        {
          "output_type": "display_data",
          "data": {
            "application/javascript": [
              "window[\"2c9e09b0-e2fd-11e9-a992-0242ac1c0002\"] = google.colab.output.getActiveOutputArea();\n",
              "//# sourceURL=js_78bf02f393"
            ],
            "text/plain": [
              "<IPython.core.display.Javascript object>"
            ]
          },
          "metadata": {
            "tags": [
              "id520-0-0",
              "outputarea_id520"
            ]
          }
        },
        {
          "output_type": "display_data",
          "data": {
            "application/javascript": [
              "window[\"2c9e50f0-e2fd-11e9-a992-0242ac1c0002\"] = document.querySelector(\"#id520-0-0\");\n",
              "//# sourceURL=js_75762c82b1"
            ],
            "text/plain": [
              "<IPython.core.display.Javascript object>"
            ]
          },
          "metadata": {
            "tags": [
              "id520-0-0",
              "outputarea_id520"
            ]
          }
        },
        {
          "output_type": "display_data",
          "data": {
            "application/javascript": [
              "window[\"2c9e9560-e2fd-11e9-a992-0242ac1c0002\"] = google.colab.output.setActiveOutputArea(window[\"2c9e50f0-e2fd-11e9-a992-0242ac1c0002\"]);\n",
              "//# sourceURL=js_5779f2fa4e"
            ],
            "text/plain": [
              "<IPython.core.display.Javascript object>"
            ]
          },
          "metadata": {
            "tags": [
              "id520-0-0",
              "outputarea_id520"
            ]
          }
        },
        {
          "output_type": "display_data",
          "data": {
            "image/png": "[encoded data removed]",
            "text/plain": [
              "<Figure size 432x288 with 1 Axes>"
            ]
          },
          "metadata": {
            "tags": [
              "id520-0-0",
              "outputarea_id520",
              "user_output"
            ]
          }
        },
        {
          "output_type": "display_data",
          "data": {
            "application/javascript": [
              "window[\"2cc50fce-e2fd-11e9-a992-0242ac1c0002\"] = google.colab.output.setActiveOutputArea(window[\"2c9e09b0-e2fd-11e9-a992-0242ac1c0002\"]);\n",
              "//# sourceURL=js_4e90c4d9d4"
            ],
            "text/plain": [
              "<IPython.core.display.Javascript object>"
            ]
          },
          "metadata": {
            "tags": [
              "id520-0-0",
              "outputarea_id520"
            ]
          }
        },
        {
          "output_type": "stream",
          "text": [
            "[[0.  0.  0.  0. ]\n",
            " [0.  0.2 0.  0.2]\n",
            " [0.  0.  0.  0.2]\n",
            " [0.  0.  0.  1. ]]\n",
            "Episode No: 9001\n"
          ],
          "name": "stdout"
        },
        {
          "output_type": "display_data",
          "data": {
            "text/html": [
              "<style>\n",
              "       table#id522, #id522 > tbody > tr > th, #id522 > tbody > tr > td {\n",
              "         border: 1px solid lightgray;\n",
              "         border-collapse:collapse;\n",
              "         \n",
              "        }</style>"
            ],
            "text/plain": [
              "<IPython.core.display.HTML object>"
            ]
          },
          "metadata": {
            "tags": [
              "outputarea_id522"
            ]
          }
        },
        {
          "output_type": "display_data",
          "data": {
            "text/html": [
              "<table id=id522><tr><td id=id522-0-0></td></tr></table>"
            ],
            "text/plain": [
              "<IPython.core.display.HTML object>"
            ]
          },
          "metadata": {
            "tags": [
              "outputarea_id522"
            ]
          }
        },
        {
          "output_type": "display_data",
          "data": {
            "application/javascript": [
              "window[\"2db8144e-e2fd-11e9-a992-0242ac1c0002\"] = google.colab.output.getActiveOutputArea();\n",
              "//# sourceURL=js_74ad24a6b6"
            ],
            "text/plain": [
              "<IPython.core.display.Javascript object>"
            ]
          },
          "metadata": {
            "tags": [
              "id522-0-0",
              "outputarea_id522"
            ]
          }
        },
        {
          "output_type": "display_data",
          "data": {
            "application/javascript": [
              "window[\"2db8715a-e2fd-11e9-a992-0242ac1c0002\"] = document.querySelector(\"#id522-0-0\");\n",
              "//# sourceURL=js_80675a61fd"
            ],
            "text/plain": [
              "<IPython.core.display.Javascript object>"
            ]
          },
          "metadata": {
            "tags": [
              "id522-0-0",
              "outputarea_id522"
            ]
          }
        },
        {
          "output_type": "display_data",
          "data": {
            "application/javascript": [
              "window[\"2db8de06-e2fd-11e9-a992-0242ac1c0002\"] = google.colab.output.setActiveOutputArea(window[\"2db8715a-e2fd-11e9-a992-0242ac1c0002\"]);\n",
              "//# sourceURL=js_1988096c45"
            ],
            "text/plain": [
              "<IPython.core.display.Javascript object>"
            ]
          },
          "metadata": {
            "tags": [
              "id522-0-0",
              "outputarea_id522"
            ]
          }
        },
        {
          "output_type": "display_data",
          "data": {
            "image/png": "[encoded data removed]",
            "text/plain": [
              "<Figure size 432x288 with 1 Axes>"
            ]
          },
          "metadata": {
            "tags": [
              "id522-0-0",
              "outputarea_id522",
              "user_output"
            ]
          }
        },
        {
          "output_type": "display_data",
          "data": {
            "application/javascript": [
              "window[\"2dde0118-e2fd-11e9-a992-0242ac1c0002\"] = google.colab.output.setActiveOutputArea(window[\"2db8144e-e2fd-11e9-a992-0242ac1c0002\"]);\n",
              "//# sourceURL=js_e1d9033a4f"
            ],
            "text/plain": [
              "<IPython.core.display.Javascript object>"
            ]
          },
          "metadata": {
            "tags": [
              "id522-0-0",
              "outputarea_id522"
            ]
          }
        },
        {
          "output_type": "stream",
          "text": [
            "[[0.  0.  0.  0. ]\n",
            " [0.  0.2 0.  0.2]\n",
            " [0.  0.  0.  0.2]\n",
            " [0.  0.  0.  1. ]]\n"
          ],
          "name": "stdout"
        }
      ]
    },
    {
      "cell_type": "code",
      "metadata": {
        "id": "2J01i5sUOsrc",
        "colab_type": "code",
        "outputId": "2c6dc134-1444-43f8-e0c6-d2436eca55b6",
        "colab": {
          "base_uri": "https://localhost:8080/",
          "height": 286
        }
      },
      "source": [
        "\"\"\"Plotting the Rewards Graph: \n",
        "It shows a little more eccentricity as compared to the rewards graph for the deterministic environment.\n",
        "\"\"\"\n",
        "plt.plot(rewards)"
      ],
      "execution_count": 0,
      "outputs": [
        {
          "output_type": "execute_result",
          "data": {
            "text/plain": [
              "[<matplotlib.lines.Line2D at 0x7f68be59abe0>]"
            ]
          },
          "metadata": {
            "tags": []
          },
          "execution_count": 186
        },
        {
          "output_type": "display_data",
          "data": {
            "image/png": "[encoded data removed]",
            "text/plain": [
              "<Figure size 432x288 with 1 Axes>"
            ]
          },
          "metadata": {
            "tags": []
          }
        }
      ]
    },
    {
      "cell_type": "code",
      "metadata": {
        "id": "bscZsFHXPCTR",
        "colab_type": "code",
        "outputId": "2215563a-9b31-4296-c7ad-f32a8936d0b2",
        "colab": {
          "base_uri": "https://localhost:8080/",
          "height": 286
        }
      },
      "source": [
        "\"\"\"Plotting the Rolling mean of all rewards:\"\"\"\n",
        "df = pd.DataFrame(rewards, columns=['r'])\n",
        "rolling_mean = df['r'].rolling(window=25).mean()\n",
        "plt.plot(rolling_mean)"
      ],
      "execution_count": 0,
      "outputs": [
        {
          "output_type": "execute_result",
          "data": {
            "text/plain": [
              "[<matplotlib.lines.Line2D at 0x7f68be34c828>]"
            ]
          },
          "metadata": {
            "tags": []
          },
          "execution_count": 187
        },
        {
          "output_type": "display_data",
          "data": {
            "image/png": "[encoded data removed]",
            "text/plain": [
              "<Figure size 432x288 with 1 Axes>"
            ]
          },
          "metadata": {
            "tags": []
          }
        }
      ]
    },
    {
      "cell_type": "markdown",
      "metadata": {
        "id": "ab-ssQzUPa1P",
        "colab_type": "text"
      },
      "source": [
        "### The Q - Table for Stochastic Environment..."
      ]
    },
    {
      "cell_type": "code",
      "metadata": {
        "id": "dJ5bKIJMPPg2",
        "colab_type": "code",
        "outputId": "ab57b3cb-7ebc-469c-ebed-95dae57a7181",
        "colab": {
          "base_uri": "https://localhost:8080/",
          "height": 545
        }
      },
      "source": [
        "q_df = pd.DataFrame(q_agent.q_table, columns=['right', 'left', 'up' ,'down'])\n",
        "q_df"
      ],
      "execution_count": 0,
      "outputs": [
        {
          "output_type": "execute_result",
          "data": {
            "text/html": [
              "<div>\n",
              "<style scoped>\n",
              "    .dataframe tbody tr th:only-of-type {\n",
              "        vertical-align: middle;\n",
              "    }\n",
              "\n",
              "    .dataframe tbody tr th {\n",
              "        vertical-align: top;\n",
              "    }\n",
              "\n",
              "    .dataframe thead th {\n",
              "        text-align: right;\n",
              "    }\n",
              "</style>\n",
              "<table border=\"1\" class=\"dataframe\">\n",
              "  <thead>\n",
              "    <tr style=\"text-align: right;\">\n",
              "      <th></th>\n",
              "      <th>right</th>\n",
              "      <th>left</th>\n",
              "      <th>up</th>\n",
              "      <th>down</th>\n",
              "    </tr>\n",
              "  </thead>\n",
              "  <tbody>\n",
              "    <tr>\n",
              "      <th>0</th>\n",
              "      <td>137.867751</td>\n",
              "      <td>45.518722</td>\n",
              "      <td>48.928301</td>\n",
              "      <td>33.017881</td>\n",
              "    </tr>\n",
              "    <tr>\n",
              "      <th>1</th>\n",
              "      <td>-137.470682</td>\n",
              "      <td>-141.082658</td>\n",
              "      <td>29.807683</td>\n",
              "      <td>-140.986618</td>\n",
              "    </tr>\n",
              "    <tr>\n",
              "      <th>2</th>\n",
              "      <td>-111.913348</td>\n",
              "      <td>-111.389034</td>\n",
              "      <td>31.495814</td>\n",
              "      <td>-93.371217</td>\n",
              "    </tr>\n",
              "    <tr>\n",
              "      <th>3</th>\n",
              "      <td>-3.827018</td>\n",
              "      <td>3.114458</td>\n",
              "      <td>27.980470</td>\n",
              "      <td>-150.000000</td>\n",
              "    </tr>\n",
              "    <tr>\n",
              "      <th>4</th>\n",
              "      <td>138.940056</td>\n",
              "      <td>-135.817832</td>\n",
              "      <td>-149.999916</td>\n",
              "      <td>-136.963658</td>\n",
              "    </tr>\n",
              "    <tr>\n",
              "      <th>5</th>\n",
              "      <td>0.000000</td>\n",
              "      <td>0.000000</td>\n",
              "      <td>0.000000</td>\n",
              "      <td>0.000000</td>\n",
              "    </tr>\n",
              "    <tr>\n",
              "      <th>6</th>\n",
              "      <td>37.279541</td>\n",
              "      <td>-149.998939</td>\n",
              "      <td>-149.999919</td>\n",
              "      <td>-149.999914</td>\n",
              "    </tr>\n",
              "    <tr>\n",
              "      <th>7</th>\n",
              "      <td>0.000000</td>\n",
              "      <td>0.000000</td>\n",
              "      <td>0.000000</td>\n",
              "      <td>0.000000</td>\n",
              "    </tr>\n",
              "    <tr>\n",
              "      <th>8</th>\n",
              "      <td>146.737138</td>\n",
              "      <td>-76.265523</td>\n",
              "      <td>-80.581944</td>\n",
              "      <td>104.169129</td>\n",
              "    </tr>\n",
              "    <tr>\n",
              "      <th>9</th>\n",
              "      <td>-135.133654</td>\n",
              "      <td>108.829761</td>\n",
              "      <td>-135.205819</td>\n",
              "      <td>132.136644</td>\n",
              "    </tr>\n",
              "    <tr>\n",
              "      <th>10</th>\n",
              "      <td>148.956467</td>\n",
              "      <td>-135.086436</td>\n",
              "      <td>-149.999984</td>\n",
              "      <td>-135.087494</td>\n",
              "    </tr>\n",
              "    <tr>\n",
              "      <th>11</th>\n",
              "      <td>0.000000</td>\n",
              "      <td>0.000000</td>\n",
              "      <td>0.000000</td>\n",
              "      <td>0.000000</td>\n",
              "    </tr>\n",
              "    <tr>\n",
              "      <th>12</th>\n",
              "      <td>86.628633</td>\n",
              "      <td>126.602915</td>\n",
              "      <td>147.677960</td>\n",
              "      <td>110.489534</td>\n",
              "    </tr>\n",
              "    <tr>\n",
              "      <th>13</th>\n",
              "      <td>98.571006</td>\n",
              "      <td>99.583560</td>\n",
              "      <td>44.960850</td>\n",
              "      <td>141.530808</td>\n",
              "    </tr>\n",
              "    <tr>\n",
              "      <th>14</th>\n",
              "      <td>84.386884</td>\n",
              "      <td>-101.410092</td>\n",
              "      <td>149.592285</td>\n",
              "      <td>110.790629</td>\n",
              "    </tr>\n",
              "    <tr>\n",
              "      <th>15</th>\n",
              "      <td>0.000000</td>\n",
              "      <td>0.000000</td>\n",
              "      <td>0.000000</td>\n",
              "      <td>0.000000</td>\n",
              "    </tr>\n",
              "  </tbody>\n",
              "</table>\n",
              "</div>"
            ],
            "text/plain": [
              "         right        left          up        down\n",
              "0   137.867751   45.518722   48.928301   33.017881\n",
              "1  -137.470682 -141.082658   29.807683 -140.986618\n",
              "2  -111.913348 -111.389034   31.495814  -93.371217\n",
              "3    -3.827018    3.114458   27.980470 -150.000000\n",
              "4   138.940056 -135.817832 -149.999916 -136.963658\n",
              "5     0.000000    0.000000    0.000000    0.000000\n",
              "6    37.279541 -149.998939 -149.999919 -149.999914\n",
              "7     0.000000    0.000000    0.000000    0.000000\n",
              "8   146.737138  -76.265523  -80.581944  104.169129\n",
              "9  -135.133654  108.829761 -135.205819  132.136644\n",
              "10  148.956467 -135.086436 -149.999984 -135.087494\n",
              "11    0.000000    0.000000    0.000000    0.000000\n",
              "12   86.628633  126.602915  147.677960  110.489534\n",
              "13   98.571006   99.583560   44.960850  141.530808\n",
              "14   84.386884 -101.410092  149.592285  110.790629\n",
              "15    0.000000    0.000000    0.000000    0.000000"
            ]
          },
          "metadata": {
            "tags": []
          },
          "execution_count": 188
        }
      ]
    },
    {
      "cell_type": "code",
      "metadata": {
        "id": "uTk1d151PeUk",
        "colab_type": "code",
        "outputId": "a4473751-baa0-475d-8c4b-ddb7720c6127",
        "colab": {
          "base_uri": "https://localhost:8080/",
          "height": 1000
        }
      },
      "source": [
        "\"\"\"Listing out the possible positions for the agent at each episode, with highest learning curve.\"\"\"\n",
        "for episode in range(3):\n",
        "  state = env.reset()\n",
        "  total_reward = 0\n",
        "  done = False\n",
        "  print(\"EPISODE:\",episode+1)\n",
        "  nsteps = 0\n",
        "  print_grid = widgets.Grid(1, 1)\n",
        "  while not done:\n",
        "    action = q_agent.steps(state, tradeoff, epsilon)\n",
        "    new_state, reward, done, info = q_agent.env.steps(action)\n",
        "    state = new_state\n",
        "    nsteps+=1\n",
        "    print(\"Probability and Possible position for step \"+str(nsteps)+\":\",info)\n",
        "    with print_grid.output_to(0, 0):\n",
        "      print_grid.clear_cell()\n",
        "      env.render()\n",
        "    time.sleep(1)\n",
        "  print(\"No of steps taken:\",nsteps)\n",
        "  \n",
        "  with print_grid.output_to(0, 0):\n",
        "    print_grid.clear_cell()\n",
        "    env.render()\n",
        "  time.sleep(1)"
      ],
      "execution_count": 0,
      "outputs": [
        {
          "output_type": "stream",
          "text": [
            "EPISODE: 1\n"
          ],
          "name": "stdout"
        },
        {
          "output_type": "display_data",
          "data": {
            "text/html": [
              "<style>\n",
              "       table#id524, #id524 > tbody > tr > th, #id524 > tbody > tr > td {\n",
              "         border: 1px solid lightgray;\n",
              "         border-collapse:collapse;\n",
              "         \n",
              "        }</style>"
            ],
            "text/plain": [
              "<IPython.core.display.HTML object>"
            ]
          },
          "metadata": {
            "tags": [
              "outputarea_id524"
            ]
          }
        },
        {
          "output_type": "display_data",
          "data": {
            "text/html": [
              "<table id=id524><tr><td id=id524-0-0></td></tr></table>"
            ],
            "text/plain": [
              "<IPython.core.display.HTML object>"
            ]
          },
          "metadata": {
            "tags": [
              "outputarea_id524"
            ]
          }
        },
        {
          "output_type": "stream",
          "text": [
            "Probability and Possible position for step 1: [(0.7, [2, 2]), (0.2, [2, 0]), (0.7, [3, 1])]\n"
          ],
          "name": "stdout"
        },
        {
          "output_type": "display_data",
          "data": {
            "application/javascript": [
              "window[\"2f331aa8-e2fd-11e9-a992-0242ac1c0002\"] = google.colab.output.getActiveOutputArea();\n",
              "//# sourceURL=js_a191e36bf6"
            ],
            "text/plain": [
              "<IPython.core.display.Javascript object>"
            ]
          },
          "metadata": {
            "tags": [
              "id524-0-0",
              "outputarea_id524"
            ]
          }
        },
        {
          "output_type": "display_data",
          "data": {
            "application/javascript": [
              "window[\"2f336e9a-e2fd-11e9-a992-0242ac1c0002\"] = document.querySelector(\"#id524-0-0\");\n",
              "//# sourceURL=js_63e1071958"
            ],
            "text/plain": [
              "<IPython.core.display.Javascript object>"
            ]
          },
          "metadata": {
            "tags": [
              "id524-0-0",
              "outputarea_id524"
            ]
          }
        },
        {
          "output_type": "display_data",
          "data": {
            "application/javascript": [
              "window[\"2f33c98a-e2fd-11e9-a992-0242ac1c0002\"] = google.colab.output.setActiveOutputArea(window[\"2f336e9a-e2fd-11e9-a992-0242ac1c0002\"]);\n",
              "//# sourceURL=js_a046dc429c"
            ],
            "text/plain": [
              "<IPython.core.display.Javascript object>"
            ]
          },
          "metadata": {
            "tags": [
              "id524-0-0",
              "outputarea_id524"
            ]
          }
        },
        {
          "output_type": "display_data",
          "data": {
            "application/javascript": [
              "window[\"2f59c69e-e2fd-11e9-a992-0242ac1c0002\"] = google.colab.output.setActiveOutputArea(window[\"2f331aa8-e2fd-11e9-a992-0242ac1c0002\"]);\n",
              "//# sourceURL=js_2ee635d5e8"
            ],
            "text/plain": [
              "<IPython.core.display.Javascript object>"
            ]
          },
          "metadata": {
            "tags": [
              "id524-0-0",
              "outputarea_id524"
            ]
          }
        },
        {
          "output_type": "stream",
          "text": [
            "Probability and Possible position for step 2: [(0.7, [3, 2]), (0.2, [3, 0]), (0.7, [3, 1])]\n"
          ],
          "name": "stdout"
        },
        {
          "output_type": "display_data",
          "data": {
            "application/javascript": [
              "window[\"2ff4a506-e2fd-11e9-a992-0242ac1c0002\"] = google.colab.output.getActiveOutputArea();\n",
              "//# sourceURL=js_b994aa063e"
            ],
            "text/plain": [
              "<IPython.core.display.Javascript object>"
            ]
          },
          "metadata": {
            "tags": [
              "id524-0-0",
              "outputarea_id524"
            ]
          }
        },
        {
          "output_type": "display_data",
          "data": {
            "application/javascript": [
              "window[\"2ff55bfe-e2fd-11e9-a992-0242ac1c0002\"] = document.querySelector(\"#id524-0-0\");\n",
              "//# sourceURL=js_372af9945a"
            ],
            "text/plain": [
              "<IPython.core.display.Javascript object>"
            ]
          },
          "metadata": {
            "tags": [
              "id524-0-0",
              "outputarea_id524"
            ]
          }
        },
        {
          "output_type": "display_data",
          "data": {
            "application/javascript": [
              "window[\"2ff5b0b8-e2fd-11e9-a992-0242ac1c0002\"] = google.colab.output.setActiveOutputArea(window[\"2ff55bfe-e2fd-11e9-a992-0242ac1c0002\"]);\n",
              "//# sourceURL=js_24ac409509"
            ],
            "text/plain": [
              "<IPython.core.display.Javascript object>"
            ]
          },
          "metadata": {
            "tags": [
              "id524-0-0",
              "outputarea_id524"
            ]
          }
        },
        {
          "output_type": "display_data",
          "data": {
            "application/javascript": [
              "window[\"301b085e-e2fd-11e9-a992-0242ac1c0002\"] = google.colab.output.setActiveOutputArea(window[\"2ff4a506-e2fd-11e9-a992-0242ac1c0002\"]);\n",
              "//# sourceURL=js_500bcfbd59"
            ],
            "text/plain": [
              "<IPython.core.display.Javascript object>"
            ]
          },
          "metadata": {
            "tags": [
              "id524-0-0",
              "outputarea_id524"
            ]
          }
        },
        {
          "output_type": "stream",
          "text": [
            "Probability and Possible position for step 3: [(0.7, [3, 2]), (0.2, [3, 0]), (0.7, [3, 1])]\n"
          ],
          "name": "stdout"
        },
        {
          "output_type": "display_data",
          "data": {
            "application/javascript": [
              "window[\"30b7829c-e2fd-11e9-a992-0242ac1c0002\"] = google.colab.output.getActiveOutputArea();\n",
              "//# sourceURL=js_5bf561c12f"
            ],
            "text/plain": [
              "<IPython.core.display.Javascript object>"
            ]
          },
          "metadata": {
            "tags": [
              "id524-0-0",
              "outputarea_id524"
            ]
          }
        },
        {
          "output_type": "display_data",
          "data": {
            "application/javascript": [
              "window[\"30b7e4d0-e2fd-11e9-a992-0242ac1c0002\"] = document.querySelector(\"#id524-0-0\");\n",
              "//# sourceURL=js_72e0ef2373"
            ],
            "text/plain": [
              "<IPython.core.display.Javascript object>"
            ]
          },
          "metadata": {
            "tags": [
              "id524-0-0",
              "outputarea_id524"
            ]
          }
        },
        {
          "output_type": "display_data",
          "data": {
            "application/javascript": [
              "window[\"30b839da-e2fd-11e9-a992-0242ac1c0002\"] = google.colab.output.setActiveOutputArea(window[\"30b7e4d0-e2fd-11e9-a992-0242ac1c0002\"]);\n",
              "//# sourceURL=js_fb97b043ba"
            ],
            "text/plain": [
              "<IPython.core.display.Javascript object>"
            ]
          },
          "metadata": {
            "tags": [
              "id524-0-0",
              "outputarea_id524"
            ]
          }
        },
        {
          "output_type": "display_data",
          "data": {
            "application/javascript": [
              "window[\"30e9250e-e2fd-11e9-a992-0242ac1c0002\"] = google.colab.output.setActiveOutputArea(window[\"30b7829c-e2fd-11e9-a992-0242ac1c0002\"]);\n",
              "//# sourceURL=js_122d356778"
            ],
            "text/plain": [
              "<IPython.core.display.Javascript object>"
            ]
          },
          "metadata": {
            "tags": [
              "id524-0-0",
              "outputarea_id524"
            ]
          }
        },
        {
          "output_type": "stream",
          "text": [
            "Probability and Possible position for step 4: [(0.2, [2, 2]), (0.7, [3, 3]), (0.2, [3, 1])]\n"
          ],
          "name": "stdout"
        },
        {
          "output_type": "display_data",
          "data": {
            "application/javascript": [
              "window[\"318477f2-e2fd-11e9-a992-0242ac1c0002\"] = google.colab.output.getActiveOutputArea();\n",
              "//# sourceURL=js_8d6a5a5893"
            ],
            "text/plain": [
              "<IPython.core.display.Javascript object>"
            ]
          },
          "metadata": {
            "tags": [
              "id524-0-0",
              "outputarea_id524"
            ]
          }
        },
        {
          "output_type": "display_data",
          "data": {
            "application/javascript": [
              "window[\"3184d882-e2fd-11e9-a992-0242ac1c0002\"] = document.querySelector(\"#id524-0-0\");\n",
              "//# sourceURL=js_4252f29401"
            ],
            "text/plain": [
              "<IPython.core.display.Javascript object>"
            ]
          },
          "metadata": {
            "tags": [
              "id524-0-0",
              "outputarea_id524"
            ]
          }
        },
        {
          "output_type": "display_data",
          "data": {
            "application/javascript": [
              "window[\"3185443e-e2fd-11e9-a992-0242ac1c0002\"] = google.colab.output.setActiveOutputArea(window[\"3184d882-e2fd-11e9-a992-0242ac1c0002\"]);\n",
              "//# sourceURL=js_cf3738f9fb"
            ],
            "text/plain": [
              "<IPython.core.display.Javascript object>"
            ]
          },
          "metadata": {
            "tags": [
              "id524-0-0",
              "outputarea_id524"
            ]
          }
        },
        {
          "output_type": "display_data",
          "data": {
            "application/javascript": [
              "window[\"31aa6a52-e2fd-11e9-a992-0242ac1c0002\"] = google.colab.output.setActiveOutputArea(window[\"318477f2-e2fd-11e9-a992-0242ac1c0002\"]);\n",
              "//# sourceURL=js_bc88d90dce"
            ],
            "text/plain": [
              "<IPython.core.display.Javascript object>"
            ]
          },
          "metadata": {
            "tags": [
              "id524-0-0",
              "outputarea_id524"
            ]
          }
        },
        {
          "output_type": "stream",
          "text": [
            "Probability and Possible position for step 5: [(0.7, [3, 2]), (0.2, [3, 0]), (0.7, [3, 1])]\n"
          ],
          "name": "stdout"
        },
        {
          "output_type": "display_data",
          "data": {
            "application/javascript": [
              "window[\"3246e422-e2fd-11e9-a992-0242ac1c0002\"] = google.colab.output.getActiveOutputArea();\n",
              "//# sourceURL=js_a05486a5d6"
            ],
            "text/plain": [
              "<IPython.core.display.Javascript object>"
            ]
          },
          "metadata": {
            "tags": [
              "id524-0-0",
              "outputarea_id524"
            ]
          }
        },
        {
          "output_type": "display_data",
          "data": {
            "application/javascript": [
              "window[\"32475c68-e2fd-11e9-a992-0242ac1c0002\"] = document.querySelector(\"#id524-0-0\");\n",
              "//# sourceURL=js_5b51ca848c"
            ],
            "text/plain": [
              "<IPython.core.display.Javascript object>"
            ]
          },
          "metadata": {
            "tags": [
              "id524-0-0",
              "outputarea_id524"
            ]
          }
        },
        {
          "output_type": "display_data",
          "data": {
            "application/javascript": [
              "window[\"3247cb62-e2fd-11e9-a992-0242ac1c0002\"] = google.colab.output.setActiveOutputArea(window[\"32475c68-e2fd-11e9-a992-0242ac1c0002\"]);\n",
              "//# sourceURL=js_745f9f3720"
            ],
            "text/plain": [
              "<IPython.core.display.Javascript object>"
            ]
          },
          "metadata": {
            "tags": [
              "id524-0-0",
              "outputarea_id524"
            ]
          }
        },
        {
          "output_type": "display_data",
          "data": {
            "application/javascript": [
              "window[\"326d1c00-e2fd-11e9-a992-0242ac1c0002\"] = google.colab.output.setActiveOutputArea(window[\"3246e422-e2fd-11e9-a992-0242ac1c0002\"]);\n",
              "//# sourceURL=js_63a239792d"
            ],
            "text/plain": [
              "<IPython.core.display.Javascript object>"
            ]
          },
          "metadata": {
            "tags": [
              "id524-0-0",
              "outputarea_id524"
            ]
          }
        },
        {
          "output_type": "stream",
          "text": [
            "Probability and Possible position for step 6: [(0.7, [3, 2]), (0.2, [3, 0]), (0.7, [3, 1])]\n"
          ],
          "name": "stdout"
        },
        {
          "output_type": "display_data",
          "data": {
            "application/javascript": [
              "window[\"33085184-e2fd-11e9-a992-0242ac1c0002\"] = google.colab.output.getActiveOutputArea();\n",
              "//# sourceURL=js_0ad02ca0ea"
            ],
            "text/plain": [
              "<IPython.core.display.Javascript object>"
            ]
          },
          "metadata": {
            "tags": [
              "id524-0-0",
              "outputarea_id524"
            ]
          }
        },
        {
          "output_type": "display_data",
          "data": {
            "application/javascript": [
              "window[\"3308b5fc-e2fd-11e9-a992-0242ac1c0002\"] = document.querySelector(\"#id524-0-0\");\n",
              "//# sourceURL=js_98b980703a"
            ],
            "text/plain": [
              "<IPython.core.display.Javascript object>"
            ]
          },
          "metadata": {
            "tags": [
              "id524-0-0",
              "outputarea_id524"
            ]
          }
        },
        {
          "output_type": "display_data",
          "data": {
            "application/javascript": [
              "window[\"33092ca8-e2fd-11e9-a992-0242ac1c0002\"] = google.colab.output.setActiveOutputArea(window[\"3308b5fc-e2fd-11e9-a992-0242ac1c0002\"]);\n",
              "//# sourceURL=js_28202e67db"
            ],
            "text/plain": [
              "<IPython.core.display.Javascript object>"
            ]
          },
          "metadata": {
            "tags": [
              "id524-0-0",
              "outputarea_id524"
            ]
          }
        },
        {
          "output_type": "display_data",
          "data": {
            "application/javascript": [
              "window[\"332ff6e4-e2fd-11e9-a992-0242ac1c0002\"] = google.colab.output.setActiveOutputArea(window[\"33085184-e2fd-11e9-a992-0242ac1c0002\"]);\n",
              "//# sourceURL=js_27c7fe13c5"
            ],
            "text/plain": [
              "<IPython.core.display.Javascript object>"
            ]
          },
          "metadata": {
            "tags": [
              "id524-0-0",
              "outputarea_id524"
            ]
          }
        },
        {
          "output_type": "stream",
          "text": [
            "Probability and Possible position for step 7: [(0.7, [3, 2]), (0.2, [3, 0]), (0.7, [3, 1])]\n"
          ],
          "name": "stdout"
        },
        {
          "output_type": "display_data",
          "data": {
            "application/javascript": [
              "window[\"33cb6926-e2fd-11e9-a992-0242ac1c0002\"] = google.colab.output.getActiveOutputArea();\n",
              "//# sourceURL=js_6597b584d4"
            ],
            "text/plain": [
              "<IPython.core.display.Javascript object>"
            ]
          },
          "metadata": {
            "tags": [
              "id524-0-0",
              "outputarea_id524"
            ]
          }
        },
        {
          "output_type": "display_data",
          "data": {
            "application/javascript": [
              "window[\"33cbc0f6-e2fd-11e9-a992-0242ac1c0002\"] = document.querySelector(\"#id524-0-0\");\n",
              "//# sourceURL=js_249e377759"
            ],
            "text/plain": [
              "<IPython.core.display.Javascript object>"
            ]
          },
          "metadata": {
            "tags": [
              "id524-0-0",
              "outputarea_id524"
            ]
          }
        },
        {
          "output_type": "display_data",
          "data": {
            "application/javascript": [
              "window[\"33cc325c-e2fd-11e9-a992-0242ac1c0002\"] = google.colab.output.setActiveOutputArea(window[\"33cbc0f6-e2fd-11e9-a992-0242ac1c0002\"]);\n",
              "//# sourceURL=js_20e357c26a"
            ],
            "text/plain": [
              "<IPython.core.display.Javascript object>"
            ]
          },
          "metadata": {
            "tags": [
              "id524-0-0",
              "outputarea_id524"
            ]
          }
        },
        {
          "output_type": "display_data",
          "data": {
            "application/javascript": [
              "window[\"33f16d06-e2fd-11e9-a992-0242ac1c0002\"] = google.colab.output.setActiveOutputArea(window[\"33cb6926-e2fd-11e9-a992-0242ac1c0002\"]);\n",
              "//# sourceURL=js_c53ef034ad"
            ],
            "text/plain": [
              "<IPython.core.display.Javascript object>"
            ]
          },
          "metadata": {
            "tags": [
              "id524-0-0",
              "outputarea_id524"
            ]
          }
        },
        {
          "output_type": "stream",
          "text": [
            "Probability and Possible position for step 8: [(0.7, [3, 2]), (0.2, [3, 0]), (0.7, [3, 1])]\n"
          ],
          "name": "stdout"
        },
        {
          "output_type": "display_data",
          "data": {
            "application/javascript": [
              "window[\"348dfef0-e2fd-11e9-a992-0242ac1c0002\"] = google.colab.output.getActiveOutputArea();\n",
              "//# sourceURL=js_104318b38c"
            ],
            "text/plain": [
              "<IPython.core.display.Javascript object>"
            ]
          },
          "metadata": {
            "tags": [
              "id524-0-0",
              "outputarea_id524"
            ]
          }
        },
        {
          "output_type": "display_data",
          "data": {
            "application/javascript": [
              "window[\"348e590e-e2fd-11e9-a992-0242ac1c0002\"] = document.querySelector(\"#id524-0-0\");\n",
              "//# sourceURL=js_5406b8e695"
            ],
            "text/plain": [
              "<IPython.core.display.Javascript object>"
            ]
          },
          "metadata": {
            "tags": [
              "id524-0-0",
              "outputarea_id524"
            ]
          }
        },
        {
          "output_type": "display_data",
          "data": {
            "application/javascript": [
              "window[\"348ea7d8-e2fd-11e9-a992-0242ac1c0002\"] = google.colab.output.setActiveOutputArea(window[\"348e590e-e2fd-11e9-a992-0242ac1c0002\"]);\n",
              "//# sourceURL=js_dae64fd5bd"
            ],
            "text/plain": [
              "<IPython.core.display.Javascript object>"
            ]
          },
          "metadata": {
            "tags": [
              "id524-0-0",
              "outputarea_id524"
            ]
          }
        },
        {
          "output_type": "display_data",
          "data": {
            "application/javascript": [
              "window[\"34b3a312-e2fd-11e9-a992-0242ac1c0002\"] = google.colab.output.setActiveOutputArea(window[\"348dfef0-e2fd-11e9-a992-0242ac1c0002\"]);\n",
              "//# sourceURL=js_d953afc348"
            ],
            "text/plain": [
              "<IPython.core.display.Javascript object>"
            ]
          },
          "metadata": {
            "tags": [
              "id524-0-0",
              "outputarea_id524"
            ]
          }
        },
        {
          "output_type": "stream",
          "text": [
            "Probability and Possible position for step 9: [(0.7, [3, 2]), (0.2, [3, 0]), (0.7, [3, 1])]\n"
          ],
          "name": "stdout"
        },
        {
          "output_type": "display_data",
          "data": {
            "application/javascript": [
              "window[\"354f3a16-e2fd-11e9-a992-0242ac1c0002\"] = google.colab.output.getActiveOutputArea();\n",
              "//# sourceURL=js_495c11c4a0"
            ],
            "text/plain": [
              "<IPython.core.display.Javascript object>"
            ]
          },
          "metadata": {
            "tags": [
              "id524-0-0",
              "outputarea_id524"
            ]
          }
        },
        {
          "output_type": "display_data",
          "data": {
            "application/javascript": [
              "window[\"354f98bc-e2fd-11e9-a992-0242ac1c0002\"] = document.querySelector(\"#id524-0-0\");\n",
              "//# sourceURL=js_c4dc4f94f1"
            ],
            "text/plain": [
              "<IPython.core.display.Javascript object>"
            ]
          },
          "metadata": {
            "tags": [
              "id524-0-0",
              "outputarea_id524"
            ]
          }
        },
        {
          "output_type": "display_data",
          "data": {
            "application/javascript": [
              "window[\"354fef1a-e2fd-11e9-a992-0242ac1c0002\"] = google.colab.output.setActiveOutputArea(window[\"354f98bc-e2fd-11e9-a992-0242ac1c0002\"]);\n",
              "//# sourceURL=js_374c7f2b34"
            ],
            "text/plain": [
              "<IPython.core.display.Javascript object>"
            ]
          },
          "metadata": {
            "tags": [
              "id524-0-0",
              "outputarea_id524"
            ]
          }
        },
        {
          "output_type": "display_data",
          "data": {
            "application/javascript": [
              "window[\"357691ba-e2fd-11e9-a992-0242ac1c0002\"] = google.colab.output.setActiveOutputArea(window[\"354f3a16-e2fd-11e9-a992-0242ac1c0002\"]);\n",
              "//# sourceURL=js_9dd4e5c617"
            ],
            "text/plain": [
              "<IPython.core.display.Javascript object>"
            ]
          },
          "metadata": {
            "tags": [
              "id524-0-0",
              "outputarea_id524"
            ]
          }
        },
        {
          "output_type": "stream",
          "text": [
            "Probability and Possible position for step 10: [(0.2, [2, 2]), (0.7, [3, 3]), (0.2, [3, 1])]\n"
          ],
          "name": "stdout"
        },
        {
          "output_type": "display_data",
          "data": {
            "application/javascript": [
              "window[\"3611ead4-e2fd-11e9-a992-0242ac1c0002\"] = google.colab.output.getActiveOutputArea();\n",
              "//# sourceURL=js_e7fb8bd17c"
            ],
            "text/plain": [
              "<IPython.core.display.Javascript object>"
            ]
          },
          "metadata": {
            "tags": [
              "id524-0-0",
              "outputarea_id524"
            ]
          }
        },
        {
          "output_type": "display_data",
          "data": {
            "application/javascript": [
              "window[\"36123eda-e2fd-11e9-a992-0242ac1c0002\"] = document.querySelector(\"#id524-0-0\");\n",
              "//# sourceURL=js_0820b7d02a"
            ],
            "text/plain": [
              "<IPython.core.display.Javascript object>"
            ]
          },
          "metadata": {
            "tags": [
              "id524-0-0",
              "outputarea_id524"
            ]
          }
        },
        {
          "output_type": "display_data",
          "data": {
            "application/javascript": [
              "window[\"361288d6-e2fd-11e9-a992-0242ac1c0002\"] = google.colab.output.setActiveOutputArea(window[\"36123eda-e2fd-11e9-a992-0242ac1c0002\"]);\n",
              "//# sourceURL=js_b6dedc40cc"
            ],
            "text/plain": [
              "<IPython.core.display.Javascript object>"
            ]
          },
          "metadata": {
            "tags": [
              "id524-0-0",
              "outputarea_id524"
            ]
          }
        },
        {
          "output_type": "display_data",
          "data": {
            "application/javascript": [
              "window[\"36377fa6-e2fd-11e9-a992-0242ac1c0002\"] = google.colab.output.setActiveOutputArea(window[\"3611ead4-e2fd-11e9-a992-0242ac1c0002\"]);\n",
              "//# sourceURL=js_8c021d880f"
            ],
            "text/plain": [
              "<IPython.core.display.Javascript object>"
            ]
          },
          "metadata": {
            "tags": [
              "id524-0-0",
              "outputarea_id524"
            ]
          }
        },
        {
          "output_type": "stream",
          "text": [
            "No of steps taken: 10\n"
          ],
          "name": "stdout"
        },
        {
          "output_type": "display_data",
          "data": {
            "application/javascript": [
              "window[\"36d26bce-e2fd-11e9-a992-0242ac1c0002\"] = google.colab.output.getActiveOutputArea();\n",
              "//# sourceURL=js_24236569b9"
            ],
            "text/plain": [
              "<IPython.core.display.Javascript object>"
            ]
          },
          "metadata": {
            "tags": [
              "id524-0-0",
              "outputarea_id524"
            ]
          }
        },
        {
          "output_type": "display_data",
          "data": {
            "application/javascript": [
              "window[\"36d2c3e4-e2fd-11e9-a992-0242ac1c0002\"] = document.querySelector(\"#id524-0-0\");\n",
              "//# sourceURL=js_6075813d2a"
            ],
            "text/plain": [
              "<IPython.core.display.Javascript object>"
            ]
          },
          "metadata": {
            "tags": [
              "id524-0-0",
              "outputarea_id524"
            ]
          }
        },
        {
          "output_type": "display_data",
          "data": {
            "application/javascript": [
              "window[\"36d38734-e2fd-11e9-a992-0242ac1c0002\"] = google.colab.output.setActiveOutputArea(window[\"36d2c3e4-e2fd-11e9-a992-0242ac1c0002\"]);\n",
              "//# sourceURL=js_760d82569d"
            ],
            "text/plain": [
              "<IPython.core.display.Javascript object>"
            ]
          },
          "metadata": {
            "tags": [
              "id524-0-0",
              "outputarea_id524"
            ]
          }
        },
        {
          "output_type": "display_data",
          "data": {
            "image/png": "[encoded data removed]",
            "text/plain": [
              "<Figure size 432x288 with 1 Axes>"
            ]
          },
          "metadata": {
            "tags": [
              "id524-0-0",
              "outputarea_id524",
              "user_output"
            ]
          }
        },
        {
          "output_type": "display_data",
          "data": {
            "application/javascript": [
              "window[\"36f69d32-e2fd-11e9-a992-0242ac1c0002\"] = google.colab.output.setActiveOutputArea(window[\"36d26bce-e2fd-11e9-a992-0242ac1c0002\"]);\n",
              "//# sourceURL=js_a5216ab042"
            ],
            "text/plain": [
              "<IPython.core.display.Javascript object>"
            ]
          },
          "metadata": {
            "tags": [
              "id524-0-0",
              "outputarea_id524"
            ]
          }
        },
        {
          "output_type": "stream",
          "text": [
            "EPISODE: 2\n"
          ],
          "name": "stdout"
        },
        {
          "output_type": "display_data",
          "data": {
            "text/html": [
              "<style>\n",
              "       table#id526, #id526 > tbody > tr > th, #id526 > tbody > tr > td {\n",
              "         border: 1px solid lightgray;\n",
              "         border-collapse:collapse;\n",
              "         \n",
              "        }</style>"
            ],
            "text/plain": [
              "<IPython.core.display.HTML object>"
            ]
          },
          "metadata": {
            "tags": [
              "outputarea_id526"
            ]
          }
        },
        {
          "output_type": "display_data",
          "data": {
            "text/html": [
              "<table id=id526><tr><td id=id526-0-0></td></tr></table>"
            ],
            "text/plain": [
              "<IPython.core.display.HTML object>"
            ]
          },
          "metadata": {
            "tags": [
              "outputarea_id526"
            ]
          }
        },
        {
          "output_type": "stream",
          "text": [
            "Probability and Possible position for step 1: [(0.2, [0, 0]), (0.7, [1, 0]), (0.2, [0, 0])]\n"
          ],
          "name": "stdout"
        },
        {
          "output_type": "display_data",
          "data": {
            "application/javascript": [
              "window[\"3793d8e0-e2fd-11e9-a992-0242ac1c0002\"] = google.colab.output.getActiveOutputArea();\n",
              "//# sourceURL=js_e22998b787"
            ],
            "text/plain": [
              "<IPython.core.display.Javascript object>"
            ]
          },
          "metadata": {
            "tags": [
              "id526-0-0",
              "outputarea_id526"
            ]
          }
        },
        {
          "output_type": "display_data",
          "data": {
            "application/javascript": [
              "window[\"37943736-e2fd-11e9-a992-0242ac1c0002\"] = document.querySelector(\"#id526-0-0\");\n",
              "//# sourceURL=js_9828e94dfe"
            ],
            "text/plain": [
              "<IPython.core.display.Javascript object>"
            ]
          },
          "metadata": {
            "tags": [
              "id526-0-0",
              "outputarea_id526"
            ]
          }
        },
        {
          "output_type": "display_data",
          "data": {
            "application/javascript": [
              "window[\"379493d4-e2fd-11e9-a992-0242ac1c0002\"] = google.colab.output.setActiveOutputArea(window[\"37943736-e2fd-11e9-a992-0242ac1c0002\"]);\n",
              "//# sourceURL=js_78636299df"
            ],
            "text/plain": [
              "<IPython.core.display.Javascript object>"
            ]
          },
          "metadata": {
            "tags": [
              "id526-0-0",
              "outputarea_id526"
            ]
          }
        },
        {
          "output_type": "display_data",
          "data": {
            "application/javascript": [
              "window[\"37b97d3e-e2fd-11e9-a992-0242ac1c0002\"] = google.colab.output.setActiveOutputArea(window[\"3793d8e0-e2fd-11e9-a992-0242ac1c0002\"]);\n",
              "//# sourceURL=js_2bd1b91d41"
            ],
            "text/plain": [
              "<IPython.core.display.Javascript object>"
            ]
          },
          "metadata": {
            "tags": [
              "id526-0-0",
              "outputarea_id526"
            ]
          }
        },
        {
          "output_type": "stream",
          "text": [
            "Probability and Possible position for step 2: [(0.2, [1, 0]), (0.7, [2, 0]), (0.2, [0, 0])]\n"
          ],
          "name": "stdout"
        },
        {
          "output_type": "display_data",
          "data": {
            "application/javascript": [
              "window[\"3854904e-e2fd-11e9-a992-0242ac1c0002\"] = google.colab.output.getActiveOutputArea();\n",
              "//# sourceURL=js_ca6776ff6e"
            ],
            "text/plain": [
              "<IPython.core.display.Javascript object>"
            ]
          },
          "metadata": {
            "tags": [
              "id526-0-0",
              "outputarea_id526"
            ]
          }
        },
        {
          "output_type": "display_data",
          "data": {
            "application/javascript": [
              "window[\"38550c86-e2fd-11e9-a992-0242ac1c0002\"] = document.querySelector(\"#id526-0-0\");\n",
              "//# sourceURL=js_7f92447ac8"
            ],
            "text/plain": [
              "<IPython.core.display.Javascript object>"
            ]
          },
          "metadata": {
            "tags": [
              "id526-0-0",
              "outputarea_id526"
            ]
          }
        },
        {
          "output_type": "display_data",
          "data": {
            "application/javascript": [
              "window[\"3855acf4-e2fd-11e9-a992-0242ac1c0002\"] = google.colab.output.setActiveOutputArea(window[\"38550c86-e2fd-11e9-a992-0242ac1c0002\"]);\n",
              "//# sourceURL=js_422131a589"
            ],
            "text/plain": [
              "<IPython.core.display.Javascript object>"
            ]
          },
          "metadata": {
            "tags": [
              "id526-0-0",
              "outputarea_id526"
            ]
          }
        },
        {
          "output_type": "display_data",
          "data": {
            "application/javascript": [
              "window[\"387bd4c4-e2fd-11e9-a992-0242ac1c0002\"] = google.colab.output.setActiveOutputArea(window[\"3854904e-e2fd-11e9-a992-0242ac1c0002\"]);\n",
              "//# sourceURL=js_0e8c6b84c2"
            ],
            "text/plain": [
              "<IPython.core.display.Javascript object>"
            ]
          },
          "metadata": {
            "tags": [
              "id526-0-0",
              "outputarea_id526"
            ]
          }
        },
        {
          "output_type": "stream",
          "text": [
            "Probability and Possible position for step 3: [(0.2, [2, 0]), (0.7, [3, 0]), (0.2, [1, 0])]\n"
          ],
          "name": "stdout"
        },
        {
          "output_type": "display_data",
          "data": {
            "application/javascript": [
              "window[\"39172bae-e2fd-11e9-a992-0242ac1c0002\"] = google.colab.output.getActiveOutputArea();\n",
              "//# sourceURL=js_4ec44b99dc"
            ],
            "text/plain": [
              "<IPython.core.display.Javascript object>"
            ]
          },
          "metadata": {
            "tags": [
              "id526-0-0",
              "outputarea_id526"
            ]
          }
        },
        {
          "output_type": "display_data",
          "data": {
            "application/javascript": [
              "window[\"39177d16-e2fd-11e9-a992-0242ac1c0002\"] = document.querySelector(\"#id526-0-0\");\n",
              "//# sourceURL=js_01e63c2c33"
            ],
            "text/plain": [
              "<IPython.core.display.Javascript object>"
            ]
          },
          "metadata": {
            "tags": [
              "id526-0-0",
              "outputarea_id526"
            ]
          }
        },
        {
          "output_type": "display_data",
          "data": {
            "application/javascript": [
              "window[\"3917caaa-e2fd-11e9-a992-0242ac1c0002\"] = google.colab.output.setActiveOutputArea(window[\"39177d16-e2fd-11e9-a992-0242ac1c0002\"]);\n",
              "//# sourceURL=js_31ca1a9283"
            ],
            "text/plain": [
              "<IPython.core.display.Javascript object>"
            ]
          },
          "metadata": {
            "tags": [
              "id526-0-0",
              "outputarea_id526"
            ]
          }
        },
        {
          "output_type": "display_data",
          "data": {
            "application/javascript": [
              "window[\"393d7d22-e2fd-11e9-a992-0242ac1c0002\"] = google.colab.output.setActiveOutputArea(window[\"39172bae-e2fd-11e9-a992-0242ac1c0002\"]);\n",
              "//# sourceURL=js_17d4e505b4"
            ],
            "text/plain": [
              "<IPython.core.display.Javascript object>"
            ]
          },
          "metadata": {
            "tags": [
              "id526-0-0",
              "outputarea_id526"
            ]
          }
        },
        {
          "output_type": "stream",
          "text": [
            "Probability and Possible position for step 4: [(0.2, [2, 0]), (0.7, [3, 1]), (0.2, [3, 0])]\n"
          ],
          "name": "stdout"
        },
        {
          "output_type": "display_data",
          "data": {
            "application/javascript": [
              "window[\"39d7cbd4-e2fd-11e9-a992-0242ac1c0002\"] = google.colab.output.getActiveOutputArea();\n",
              "//# sourceURL=js_d6d4bdc44f"
            ],
            "text/plain": [
              "<IPython.core.display.Javascript object>"
            ]
          },
          "metadata": {
            "tags": [
              "id526-0-0",
              "outputarea_id526"
            ]
          }
        },
        {
          "output_type": "display_data",
          "data": {
            "application/javascript": [
              "window[\"39d80144-e2fd-11e9-a992-0242ac1c0002\"] = document.querySelector(\"#id526-0-0\");\n",
              "//# sourceURL=js_fb727247db"
            ],
            "text/plain": [
              "<IPython.core.display.Javascript object>"
            ]
          },
          "metadata": {
            "tags": [
              "id526-0-0",
              "outputarea_id526"
            ]
          }
        },
        {
          "output_type": "display_data",
          "data": {
            "application/javascript": [
              "window[\"39d84938-e2fd-11e9-a992-0242ac1c0002\"] = google.colab.output.setActiveOutputArea(window[\"39d80144-e2fd-11e9-a992-0242ac1c0002\"]);\n",
              "//# sourceURL=js_7d7989a2a3"
            ],
            "text/plain": [
              "<IPython.core.display.Javascript object>"
            ]
          },
          "metadata": {
            "tags": [
              "id526-0-0",
              "outputarea_id526"
            ]
          }
        },
        {
          "output_type": "display_data",
          "data": {
            "application/javascript": [
              "window[\"39fe8f8a-e2fd-11e9-a992-0242ac1c0002\"] = google.colab.output.setActiveOutputArea(window[\"39d7cbd4-e2fd-11e9-a992-0242ac1c0002\"]);\n",
              "//# sourceURL=js_eecb8813fb"
            ],
            "text/plain": [
              "<IPython.core.display.Javascript object>"
            ]
          },
          "metadata": {
            "tags": [
              "id526-0-0",
              "outputarea_id526"
            ]
          }
        },
        {
          "output_type": "stream",
          "text": [
            "Probability and Possible position for step 5: [(0.7, [3, 2]), (0.2, [3, 0]), (0.7, [3, 1])]\n"
          ],
          "name": "stdout"
        },
        {
          "output_type": "display_data",
          "data": {
            "application/javascript": [
              "window[\"3a9932ce-e2fd-11e9-a992-0242ac1c0002\"] = google.colab.output.getActiveOutputArea();\n",
              "//# sourceURL=js_bda22c005d"
            ],
            "text/plain": [
              "<IPython.core.display.Javascript object>"
            ]
          },
          "metadata": {
            "tags": [
              "id526-0-0",
              "outputarea_id526"
            ]
          }
        },
        {
          "output_type": "display_data",
          "data": {
            "application/javascript": [
              "window[\"3a999d04-e2fd-11e9-a992-0242ac1c0002\"] = document.querySelector(\"#id526-0-0\");\n",
              "//# sourceURL=js_c061ece359"
            ],
            "text/plain": [
              "<IPython.core.display.Javascript object>"
            ]
          },
          "metadata": {
            "tags": [
              "id526-0-0",
              "outputarea_id526"
            ]
          }
        },
        {
          "output_type": "display_data",
          "data": {
            "application/javascript": [
              "window[\"3a99f664-e2fd-11e9-a992-0242ac1c0002\"] = google.colab.output.setActiveOutputArea(window[\"3a999d04-e2fd-11e9-a992-0242ac1c0002\"]);\n",
              "//# sourceURL=js_9fd6e49a47"
            ],
            "text/plain": [
              "<IPython.core.display.Javascript object>"
            ]
          },
          "metadata": {
            "tags": [
              "id526-0-0",
              "outputarea_id526"
            ]
          }
        },
        {
          "output_type": "display_data",
          "data": {
            "application/javascript": [
              "window[\"3abf8dfc-e2fd-11e9-a992-0242ac1c0002\"] = google.colab.output.setActiveOutputArea(window[\"3a9932ce-e2fd-11e9-a992-0242ac1c0002\"]);\n",
              "//# sourceURL=js_726e90c229"
            ],
            "text/plain": [
              "<IPython.core.display.Javascript object>"
            ]
          },
          "metadata": {
            "tags": [
              "id526-0-0",
              "outputarea_id526"
            ]
          }
        },
        {
          "output_type": "stream",
          "text": [
            "Probability and Possible position for step 6: [(0.2, [2, 2]), (0.7, [3, 3]), (0.2, [3, 1])]\n"
          ],
          "name": "stdout"
        },
        {
          "output_type": "display_data",
          "data": {
            "application/javascript": [
              "window[\"3b5bd32e-e2fd-11e9-a992-0242ac1c0002\"] = google.colab.output.getActiveOutputArea();\n",
              "//# sourceURL=js_325d4586ac"
            ],
            "text/plain": [
              "<IPython.core.display.Javascript object>"
            ]
          },
          "metadata": {
            "tags": [
              "id526-0-0",
              "outputarea_id526"
            ]
          }
        },
        {
          "output_type": "display_data",
          "data": {
            "application/javascript": [
              "window[\"3b5c2586-e2fd-11e9-a992-0242ac1c0002\"] = document.querySelector(\"#id526-0-0\");\n",
              "//# sourceURL=js_9638c3dc11"
            ],
            "text/plain": [
              "<IPython.core.display.Javascript object>"
            ]
          },
          "metadata": {
            "tags": [
              "id526-0-0",
              "outputarea_id526"
            ]
          }
        },
        {
          "output_type": "display_data",
          "data": {
            "application/javascript": [
              "window[\"3b5c7b94-e2fd-11e9-a992-0242ac1c0002\"] = google.colab.output.setActiveOutputArea(window[\"3b5c2586-e2fd-11e9-a992-0242ac1c0002\"]);\n",
              "//# sourceURL=js_4b2a72b497"
            ],
            "text/plain": [
              "<IPython.core.display.Javascript object>"
            ]
          },
          "metadata": {
            "tags": [
              "id526-0-0",
              "outputarea_id526"
            ]
          }
        },
        {
          "output_type": "display_data",
          "data": {
            "application/javascript": [
              "window[\"3b8058b6-e2fd-11e9-a992-0242ac1c0002\"] = google.colab.output.setActiveOutputArea(window[\"3b5bd32e-e2fd-11e9-a992-0242ac1c0002\"]);\n",
              "//# sourceURL=js_aa2c4f0857"
            ],
            "text/plain": [
              "<IPython.core.display.Javascript object>"
            ]
          },
          "metadata": {
            "tags": [
              "id526-0-0",
              "outputarea_id526"
            ]
          }
        },
        {
          "output_type": "stream",
          "text": [
            "Probability and Possible position for step 7: [(0.7, [3, 2]), (0.2, [3, 0]), (0.7, [3, 1])]\n"
          ],
          "name": "stdout"
        },
        {
          "output_type": "display_data",
          "data": {
            "application/javascript": [
              "window[\"3c1d3776-e2fd-11e9-a992-0242ac1c0002\"] = google.colab.output.getActiveOutputArea();\n",
              "//# sourceURL=js_43de3476dc"
            ],
            "text/plain": [
              "<IPython.core.display.Javascript object>"
            ]
          },
          "metadata": {
            "tags": [
              "id526-0-0",
              "outputarea_id526"
            ]
          }
        },
        {
          "output_type": "display_data",
          "data": {
            "application/javascript": [
              "window[\"3c1d92c0-e2fd-11e9-a992-0242ac1c0002\"] = document.querySelector(\"#id526-0-0\");\n",
              "//# sourceURL=js_b4289013df"
            ],
            "text/plain": [
              "<IPython.core.display.Javascript object>"
            ]
          },
          "metadata": {
            "tags": [
              "id526-0-0",
              "outputarea_id526"
            ]
          }
        },
        {
          "output_type": "display_data",
          "data": {
            "application/javascript": [
              "window[\"3c1de086-e2fd-11e9-a992-0242ac1c0002\"] = google.colab.output.setActiveOutputArea(window[\"3c1d92c0-e2fd-11e9-a992-0242ac1c0002\"]);\n",
              "//# sourceURL=js_7cde31f3fd"
            ],
            "text/plain": [
              "<IPython.core.display.Javascript object>"
            ]
          },
          "metadata": {
            "tags": [
              "id526-0-0",
              "outputarea_id526"
            ]
          }
        },
        {
          "output_type": "display_data",
          "data": {
            "application/javascript": [
              "window[\"3c432a9e-e2fd-11e9-a992-0242ac1c0002\"] = google.colab.output.setActiveOutputArea(window[\"3c1d3776-e2fd-11e9-a992-0242ac1c0002\"]);\n",
              "//# sourceURL=js_55eb302ad7"
            ],
            "text/plain": [
              "<IPython.core.display.Javascript object>"
            ]
          },
          "metadata": {
            "tags": [
              "id526-0-0",
              "outputarea_id526"
            ]
          }
        },
        {
          "output_type": "stream",
          "text": [
            "Probability and Possible position for step 8: [(0.7, [3, 2]), (0.2, [3, 0]), (0.7, [3, 1])]\n"
          ],
          "name": "stdout"
        },
        {
          "output_type": "display_data",
          "data": {
            "application/javascript": [
              "window[\"3cdf42c6-e2fd-11e9-a992-0242ac1c0002\"] = google.colab.output.getActiveOutputArea();\n",
              "//# sourceURL=js_7f0e4ddd5f"
            ],
            "text/plain": [
              "<IPython.core.display.Javascript object>"
            ]
          },
          "metadata": {
            "tags": [
              "id526-0-0",
              "outputarea_id526"
            ]
          }
        },
        {
          "output_type": "display_data",
          "data": {
            "application/javascript": [
              "window[\"3cdf7534-e2fd-11e9-a992-0242ac1c0002\"] = document.querySelector(\"#id526-0-0\");\n",
              "//# sourceURL=js_5c9a6bf12a"
            ],
            "text/plain": [
              "<IPython.core.display.Javascript object>"
            ]
          },
          "metadata": {
            "tags": [
              "id526-0-0",
              "outputarea_id526"
            ]
          }
        },
        {
          "output_type": "display_data",
          "data": {
            "application/javascript": [
              "window[\"3cdfa838-e2fd-11e9-a992-0242ac1c0002\"] = google.colab.output.setActiveOutputArea(window[\"3cdf7534-e2fd-11e9-a992-0242ac1c0002\"]);\n",
              "//# sourceURL=js_f3e9519745"
            ],
            "text/plain": [
              "<IPython.core.display.Javascript object>"
            ]
          },
          "metadata": {
            "tags": [
              "id526-0-0",
              "outputarea_id526"
            ]
          }
        },
        {
          "output_type": "display_data",
          "data": {
            "application/javascript": [
              "window[\"3d05bf28-e2fd-11e9-a992-0242ac1c0002\"] = google.colab.output.setActiveOutputArea(window[\"3cdf42c6-e2fd-11e9-a992-0242ac1c0002\"]);\n",
              "//# sourceURL=js_7ad8f0316a"
            ],
            "text/plain": [
              "<IPython.core.display.Javascript object>"
            ]
          },
          "metadata": {
            "tags": [
              "id526-0-0",
              "outputarea_id526"
            ]
          }
        },
        {
          "output_type": "stream",
          "text": [
            "Probability and Possible position for step 9: [(0.2, [2, 2]), (0.7, [3, 3]), (0.2, [3, 1])]\n"
          ],
          "name": "stdout"
        },
        {
          "output_type": "display_data",
          "data": {
            "application/javascript": [
              "window[\"3da0c8e2-e2fd-11e9-a992-0242ac1c0002\"] = google.colab.output.getActiveOutputArea();\n",
              "//# sourceURL=js_f26814255b"
            ],
            "text/plain": [
              "<IPython.core.display.Javascript object>"
            ]
          },
          "metadata": {
            "tags": [
              "id526-0-0",
              "outputarea_id526"
            ]
          }
        },
        {
          "output_type": "display_data",
          "data": {
            "application/javascript": [
              "window[\"3da0f97a-e2fd-11e9-a992-0242ac1c0002\"] = document.querySelector(\"#id526-0-0\");\n",
              "//# sourceURL=js_ae58a2ce83"
            ],
            "text/plain": [
              "<IPython.core.display.Javascript object>"
            ]
          },
          "metadata": {
            "tags": [
              "id526-0-0",
              "outputarea_id526"
            ]
          }
        },
        {
          "output_type": "display_data",
          "data": {
            "application/javascript": [
              "window[\"3da12882-e2fd-11e9-a992-0242ac1c0002\"] = google.colab.output.setActiveOutputArea(window[\"3da0f97a-e2fd-11e9-a992-0242ac1c0002\"]);\n",
              "//# sourceURL=js_4ffc656a70"
            ],
            "text/plain": [
              "<IPython.core.display.Javascript object>"
            ]
          },
          "metadata": {
            "tags": [
              "id526-0-0",
              "outputarea_id526"
            ]
          }
        },
        {
          "output_type": "display_data",
          "data": {
            "application/javascript": [
              "window[\"3dc742ec-e2fd-11e9-a992-0242ac1c0002\"] = google.colab.output.setActiveOutputArea(window[\"3da0c8e2-e2fd-11e9-a992-0242ac1c0002\"]);\n",
              "//# sourceURL=js_1eb45078e0"
            ],
            "text/plain": [
              "<IPython.core.display.Javascript object>"
            ]
          },
          "metadata": {
            "tags": [
              "id526-0-0",
              "outputarea_id526"
            ]
          }
        },
        {
          "output_type": "stream",
          "text": [
            "No of steps taken: 9\n"
          ],
          "name": "stdout"
        },
        {
          "output_type": "display_data",
          "data": {
            "application/javascript": [
              "window[\"3e6372f2-e2fd-11e9-a992-0242ac1c0002\"] = google.colab.output.getActiveOutputArea();\n",
              "//# sourceURL=js_970e5d730f"
            ],
            "text/plain": [
              "<IPython.core.display.Javascript object>"
            ]
          },
          "metadata": {
            "tags": [
              "id526-0-0",
              "outputarea_id526"
            ]
          }
        },
        {
          "output_type": "display_data",
          "data": {
            "application/javascript": [
              "window[\"3e63a52e-e2fd-11e9-a992-0242ac1c0002\"] = document.querySelector(\"#id526-0-0\");\n",
              "//# sourceURL=js_06e78c02a9"
            ],
            "text/plain": [
              "<IPython.core.display.Javascript object>"
            ]
          },
          "metadata": {
            "tags": [
              "id526-0-0",
              "outputarea_id526"
            ]
          }
        },
        {
          "output_type": "display_data",
          "data": {
            "application/javascript": [
              "window[\"3e63d710-e2fd-11e9-a992-0242ac1c0002\"] = google.colab.output.setActiveOutputArea(window[\"3e63a52e-e2fd-11e9-a992-0242ac1c0002\"]);\n",
              "//# sourceURL=js_c01a61a4bd"
            ],
            "text/plain": [
              "<IPython.core.display.Javascript object>"
            ]
          },
          "metadata": {
            "tags": [
              "id526-0-0",
              "outputarea_id526"
            ]
          }
        },
        {
          "output_type": "display_data",
          "data": {
            "image/png": "[encoded data removed]",
            "text/plain": [
              "<Figure size 432x288 with 1 Axes>"
            ]
          },
          "metadata": {
            "tags": [
              "id526-0-0",
              "outputarea_id526",
              "user_output"
            ]
          }
        },
        {
          "output_type": "display_data",
          "data": {
            "application/javascript": [
              "window[\"3e897556-e2fd-11e9-a992-0242ac1c0002\"] = google.colab.output.setActiveOutputArea(window[\"3e6372f2-e2fd-11e9-a992-0242ac1c0002\"]);\n",
              "//# sourceURL=js_907eb59c23"
            ],
            "text/plain": [
              "<IPython.core.display.Javascript object>"
            ]
          },
          "metadata": {
            "tags": [
              "id526-0-0",
              "outputarea_id526"
            ]
          }
        },
        {
          "output_type": "stream",
          "text": [
            "EPISODE: 3\n"
          ],
          "name": "stdout"
        },
        {
          "output_type": "display_data",
          "data": {
            "text/html": [
              "<style>\n",
              "       table#id528, #id528 > tbody > tr > th, #id528 > tbody > tr > td {\n",
              "         border: 1px solid lightgray;\n",
              "         border-collapse:collapse;\n",
              "         \n",
              "        }</style>"
            ],
            "text/plain": [
              "<IPython.core.display.HTML object>"
            ]
          },
          "metadata": {
            "tags": [
              "outputarea_id528"
            ]
          }
        },
        {
          "output_type": "display_data",
          "data": {
            "text/html": [
              "<table id=id528><tr><td id=id528-0-0></td></tr></table>"
            ],
            "text/plain": [
              "<IPython.core.display.HTML object>"
            ]
          },
          "metadata": {
            "tags": [
              "outputarea_id528"
            ]
          }
        },
        {
          "output_type": "stream",
          "text": [
            "Probability and Possible position for step 1: [(0.2, [2, 1]), (0.7, [3, 2]), (0.2, [1, 2])]\n"
          ],
          "name": "stdout"
        },
        {
          "output_type": "display_data",
          "data": {
            "application/javascript": [
              "window[\"3f258c20-e2fd-11e9-a992-0242ac1c0002\"] = google.colab.output.getActiveOutputArea();\n",
              "//# sourceURL=js_4427c9823c"
            ],
            "text/plain": [
              "<IPython.core.display.Javascript object>"
            ]
          },
          "metadata": {
            "tags": [
              "id528-0-0",
              "outputarea_id528"
            ]
          }
        },
        {
          "output_type": "display_data",
          "data": {
            "application/javascript": [
              "window[\"3f25ba38-e2fd-11e9-a992-0242ac1c0002\"] = document.querySelector(\"#id528-0-0\");\n",
              "//# sourceURL=js_a29ee9cded"
            ],
            "text/plain": [
              "<IPython.core.display.Javascript object>"
            ]
          },
          "metadata": {
            "tags": [
              "id528-0-0",
              "outputarea_id528"
            ]
          }
        },
        {
          "output_type": "display_data",
          "data": {
            "application/javascript": [
              "window[\"3f268ecc-e2fd-11e9-a992-0242ac1c0002\"] = google.colab.output.setActiveOutputArea(window[\"3f25ba38-e2fd-11e9-a992-0242ac1c0002\"]);\n",
              "//# sourceURL=js_62fde3a6ae"
            ],
            "text/plain": [
              "<IPython.core.display.Javascript object>"
            ]
          },
          "metadata": {
            "tags": [
              "id528-0-0",
              "outputarea_id528"
            ]
          }
        },
        {
          "output_type": "display_data",
          "data": {
            "application/javascript": [
              "window[\"3f50ba62-e2fd-11e9-a992-0242ac1c0002\"] = google.colab.output.setActiveOutputArea(window[\"3f258c20-e2fd-11e9-a992-0242ac1c0002\"]);\n",
              "//# sourceURL=js_e75b21c971"
            ],
            "text/plain": [
              "<IPython.core.display.Javascript object>"
            ]
          },
          "metadata": {
            "tags": [
              "id528-0-0",
              "outputarea_id528"
            ]
          }
        },
        {
          "output_type": "stream",
          "text": [
            "Probability and Possible position for step 2: [(0.2, [2, 2]), (0.7, [3, 3]), (0.2, [3, 1])]\n"
          ],
          "name": "stdout"
        },
        {
          "output_type": "display_data",
          "data": {
            "application/javascript": [
              "window[\"3fec5dd2-e2fd-11e9-a992-0242ac1c0002\"] = google.colab.output.getActiveOutputArea();\n",
              "//# sourceURL=js_b688b825f6"
            ],
            "text/plain": [
              "<IPython.core.display.Javascript object>"
            ]
          },
          "metadata": {
            "tags": [
              "id528-0-0",
              "outputarea_id528"
            ]
          }
        },
        {
          "output_type": "display_data",
          "data": {
            "application/javascript": [
              "window[\"3fecf468-e2fd-11e9-a992-0242ac1c0002\"] = document.querySelector(\"#id528-0-0\");\n",
              "//# sourceURL=js_4e3ad1cab3"
            ],
            "text/plain": [
              "<IPython.core.display.Javascript object>"
            ]
          },
          "metadata": {
            "tags": [
              "id528-0-0",
              "outputarea_id528"
            ]
          }
        },
        {
          "output_type": "display_data",
          "data": {
            "application/javascript": [
              "window[\"3fed7028-e2fd-11e9-a992-0242ac1c0002\"] = google.colab.output.setActiveOutputArea(window[\"3fecf468-e2fd-11e9-a992-0242ac1c0002\"]);\n",
              "//# sourceURL=js_3d5525c1ce"
            ],
            "text/plain": [
              "<IPython.core.display.Javascript object>"
            ]
          },
          "metadata": {
            "tags": [
              "id528-0-0",
              "outputarea_id528"
            ]
          }
        },
        {
          "output_type": "display_data",
          "data": {
            "application/javascript": [
              "window[\"40119642-e2fd-11e9-a992-0242ac1c0002\"] = google.colab.output.setActiveOutputArea(window[\"3fec5dd2-e2fd-11e9-a992-0242ac1c0002\"]);\n",
              "//# sourceURL=js_fa30ab660c"
            ],
            "text/plain": [
              "<IPython.core.display.Javascript object>"
            ]
          },
          "metadata": {
            "tags": [
              "id528-0-0",
              "outputarea_id528"
            ]
          }
        },
        {
          "output_type": "stream",
          "text": [
            "Probability and Possible position for step 3: [(0.2, [2, 1]), (0.7, [3, 2]), (0.2, [1, 2])]\n"
          ],
          "name": "stdout"
        },
        {
          "output_type": "display_data",
          "data": {
            "application/javascript": [
              "window[\"40acc7b6-e2fd-11e9-a992-0242ac1c0002\"] = google.colab.output.getActiveOutputArea();\n",
              "//# sourceURL=js_0db3980fac"
            ],
            "text/plain": [
              "<IPython.core.display.Javascript object>"
            ]
          },
          "metadata": {
            "tags": [
              "id528-0-0",
              "outputarea_id528"
            ]
          }
        },
        {
          "output_type": "display_data",
          "data": {
            "application/javascript": [
              "window[\"40ad5d84-e2fd-11e9-a992-0242ac1c0002\"] = document.querySelector(\"#id528-0-0\");\n",
              "//# sourceURL=js_b80a416c4f"
            ],
            "text/plain": [
              "<IPython.core.display.Javascript object>"
            ]
          },
          "metadata": {
            "tags": [
              "id528-0-0",
              "outputarea_id528"
            ]
          }
        },
        {
          "output_type": "display_data",
          "data": {
            "application/javascript": [
              "window[\"40adc0b2-e2fd-11e9-a992-0242ac1c0002\"] = google.colab.output.setActiveOutputArea(window[\"40ad5d84-e2fd-11e9-a992-0242ac1c0002\"]);\n",
              "//# sourceURL=js_22974c8a47"
            ],
            "text/plain": [
              "<IPython.core.display.Javascript object>"
            ]
          },
          "metadata": {
            "tags": [
              "id528-0-0",
              "outputarea_id528"
            ]
          }
        },
        {
          "output_type": "display_data",
          "data": {
            "application/javascript": [
              "window[\"40d33cde-e2fd-11e9-a992-0242ac1c0002\"] = google.colab.output.setActiveOutputArea(window[\"40acc7b6-e2fd-11e9-a992-0242ac1c0002\"]);\n",
              "//# sourceURL=js_5fedbcabde"
            ],
            "text/plain": [
              "<IPython.core.display.Javascript object>"
            ]
          },
          "metadata": {
            "tags": [
              "id528-0-0",
              "outputarea_id528"
            ]
          }
        },
        {
          "output_type": "stream",
          "text": [
            "Probability and Possible position for step 4: [(0.2, [2, 2]), (0.7, [3, 3]), (0.2, [3, 1])]\n"
          ],
          "name": "stdout"
        },
        {
          "output_type": "display_data",
          "data": {
            "application/javascript": [
              "window[\"416e71b8-e2fd-11e9-a992-0242ac1c0002\"] = google.colab.output.getActiveOutputArea();\n",
              "//# sourceURL=js_85fdff0554"
            ],
            "text/plain": [
              "<IPython.core.display.Javascript object>"
            ]
          },
          "metadata": {
            "tags": [
              "id528-0-0",
              "outputarea_id528"
            ]
          }
        },
        {
          "output_type": "display_data",
          "data": {
            "application/javascript": [
              "window[\"416ee35a-e2fd-11e9-a992-0242ac1c0002\"] = document.querySelector(\"#id528-0-0\");\n",
              "//# sourceURL=js_21de214b04"
            ],
            "text/plain": [
              "<IPython.core.display.Javascript object>"
            ]
          },
          "metadata": {
            "tags": [
              "id528-0-0",
              "outputarea_id528"
            ]
          }
        },
        {
          "output_type": "display_data",
          "data": {
            "application/javascript": [
              "window[\"416f3792-e2fd-11e9-a992-0242ac1c0002\"] = google.colab.output.setActiveOutputArea(window[\"416ee35a-e2fd-11e9-a992-0242ac1c0002\"]);\n",
              "//# sourceURL=js_91760ef07e"
            ],
            "text/plain": [
              "<IPython.core.display.Javascript object>"
            ]
          },
          "metadata": {
            "tags": [
              "id528-0-0",
              "outputarea_id528"
            ]
          }
        },
        {
          "output_type": "display_data",
          "data": {
            "application/javascript": [
              "window[\"419308fc-e2fd-11e9-a992-0242ac1c0002\"] = google.colab.output.setActiveOutputArea(window[\"416e71b8-e2fd-11e9-a992-0242ac1c0002\"]);\n",
              "//# sourceURL=js_3df442bb2b"
            ],
            "text/plain": [
              "<IPython.core.display.Javascript object>"
            ]
          },
          "metadata": {
            "tags": [
              "id528-0-0",
              "outputarea_id528"
            ]
          }
        },
        {
          "output_type": "stream",
          "text": [
            "No of steps taken: 4\n"
          ],
          "name": "stdout"
        },
        {
          "output_type": "display_data",
          "data": {
            "application/javascript": [
              "window[\"422e0abe-e2fd-11e9-a992-0242ac1c0002\"] = google.colab.output.getActiveOutputArea();\n",
              "//# sourceURL=js_35f74dcd03"
            ],
            "text/plain": [
              "<IPython.core.display.Javascript object>"
            ]
          },
          "metadata": {
            "tags": [
              "id528-0-0",
              "outputarea_id528"
            ]
          }
        },
        {
          "output_type": "display_data",
          "data": {
            "application/javascript": [
              "window[\"422e58e8-e2fd-11e9-a992-0242ac1c0002\"] = document.querySelector(\"#id528-0-0\");\n",
              "//# sourceURL=js_100f1faf2d"
            ],
            "text/plain": [
              "<IPython.core.display.Javascript object>"
            ]
          },
          "metadata": {
            "tags": [
              "id528-0-0",
              "outputarea_id528"
            ]
          }
        },
        {
          "output_type": "display_data",
          "data": {
            "application/javascript": [
              "window[\"422ea474-e2fd-11e9-a992-0242ac1c0002\"] = google.colab.output.setActiveOutputArea(window[\"422e58e8-e2fd-11e9-a992-0242ac1c0002\"]);\n",
              "//# sourceURL=js_61d45c4bb5"
            ],
            "text/plain": [
              "<IPython.core.display.Javascript object>"
            ]
          },
          "metadata": {
            "tags": [
              "id528-0-0",
              "outputarea_id528"
            ]
          }
        },
        {
          "output_type": "display_data",
          "data": {
            "image/png": "[encoded data removed]",
            "text/plain": [
              "<Figure size 432x288 with 1 Axes>"
            ]
          },
          "metadata": {
            "tags": [
              "id528-0-0",
              "outputarea_id528",
              "user_output"
            ]
          }
        },
        {
          "output_type": "display_data",
          "data": {
            "application/javascript": [
              "window[\"426184fc-e2fd-11e9-a992-0242ac1c0002\"] = google.colab.output.setActiveOutputArea(window[\"422e0abe-e2fd-11e9-a992-0242ac1c0002\"]);\n",
              "//# sourceURL=js_26ddc3ab06"
            ],
            "text/plain": [
              "<IPython.core.display.Javascript object>"
            ]
          },
          "metadata": {
            "tags": [
              "id528-0-0",
              "outputarea_id528"
            ]
          }
        }
      ]
    },
    {
      "cell_type": "markdown",
      "metadata": {
        "id": "Q6eTw7OUPuTK",
        "colab_type": "text"
      },
      "source": [
        "## Conclusion:\n",
        "\n",
        "1. I was able to train the agent in deterministic model faster because of the lack of uncertainity. Whereas, in the case of stochastic approach the agent took more number of steps and trained slower.Uncertainity in the stochastic environment was introduced by assigning probabilities to different movements associated with each next step and randomising the agent's start position.\n",
        "\n",
        "2. Q learning helped us achieve the same training for both environments, by storing cumulative rewards in the Q - table hence helping the agent to become more decisive."
      ]
    },
    {
      "cell_type": "markdown",
      "metadata": {
        "id": "e89AD_L2QfWI",
        "colab_type": "text"
      },
      "source": [
        "## Acknowledgements:\n",
        "\n",
        "I am thankful to Alina and the students who volunteered to share their knowledge about Reinforcement Learning, various types of Environments and the Q - Learning Algorithm.\n"
      ]
    },
    {
      "cell_type": "markdown",
      "metadata": {
        "id": "g7fF-rzpQ6PF",
        "colab_type": "text"
      },
      "source": [
        "## References:\n",
        "[1] https://gym.openai.com/envs/FrozenLake-v0/\n",
        "\n",
        "[2] http://gym.openai.com/docs/#spaces\n",
        "\n",
        "[3] https://towardsdatascience.com/introduction-to-various-reinforcement-learning-algorithms-i-q-learning-sarsa-dqn-ddpg-72a5e0cb6287\n",
        "\n",
        "[4] https://www.freecodecamp.org/news/an-introduction-to-q-learning-reinforcement-learning-14ac0b4493cc/\n",
        "\n",
        "[5] https://learndatasci.com/tutorials/reinforcement-q-learning-scratch-python-openai-gym/\n",
        "\n",
        "[6] https://en.wikipedia.org/wiki/Q-learning\n",
        "\n",
        "[7] https://medium.com/@dennybritz/exploration-vs-exploitation-f46af4cf62fe\n",
        "\n",
        "[8] https://github.com/openai/gym/blob/master/gym/envs/toy_text/frozen_lake.py\n",
        "\n",
        "[9] https://github.com/openai/gym/blob/master/gym/envs/toy_text/frozen_lake.py\n",
        "\n",
        "[10]https://www.deeplearningwizard.com/deep_learning/deep_reinforcement_learning_pytorch/dynamic_programming_frozenlake/\n",
        "\n",
        "\n"
      ]
    }
  ]
}